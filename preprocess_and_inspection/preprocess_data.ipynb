{
 "cells": [
  {
   "cell_type": "code",
   "execution_count": 1,
   "id": "f847f7c4",
   "metadata": {},
   "outputs": [
    {
     "name": "stderr",
     "output_type": "stream",
     "text": [
      "\u001b[32m\u001b[1m  Activating\u001b[22m\u001b[39m project at `~/Projects/AAV2`\n"
     ]
    }
   ],
   "source": [
    "import Pkg\n",
    "Pkg.activate(\"/home/matteo/Projects/AAV2/\")"
   ]
  },
  {
   "cell_type": "code",
   "execution_count": 23,
   "id": "77f0c85c",
   "metadata": {},
   "outputs": [],
   "source": [
    "using CSV, DataFrames, JLD2, StringDistances, PyPlot"
   ]
  },
  {
   "cell_type": "code",
   "execution_count": 3,
   "id": "1f1353e1",
   "metadata": {},
   "outputs": [
    {
     "data": {
      "text/html": [
       "<div><div style = \"float: left;\"><span>243481×60 DataFrame</span></div><div style = \"float: right;\"><span style = \"font-style: italic;\">243456 rows omitted</span></div><div style = \"clear: both;\"></div></div><div class = \"data-frame\" style = \"overflow-x: scroll;\"><table class = \"data-frame\" style = \"margin-bottom: 6px;\"><thead><tr class = \"header\"><th class = \"rowNumber\" style = \"font-weight: bold; text-align: right;\">Row</th><th style = \"text-align: left;\">Column1</th><th style = \"text-align: left;\">nt_seq</th><th style = \"text-align: left;\">EK266_GAS1_p1_rep1a_plasmid</th><th style = \"text-align: left;\">EK266_GAS1_p1_rep1b_plasmid</th><th style = \"text-align: left;\">EK269_GAS1_p1_rep1a_plasmid_x</th><th style = \"text-align: left;\">EK269_GAS1_p1_rep1b_plasmid_x</th><th style = \"text-align: left;\">EK269_GAS1_p1_rep1c_plasmid_x</th><th style = \"text-align: left;\">EK269_GAS1_p1_rep1d_plasmid_x</th><th style = \"text-align: left;\">EK269_GAS1_v3_rep1a_virus_x</th><th style = \"text-align: left;\">EK269_GAS1_v3_rep1b_virus_x</th><th style = \"text-align: left;\">EK269_GAS1_v3_rep1c_virus_x</th><th style = \"text-align: left;\">EK269_GAS1_v3_rep1d_virus_x</th><th style = \"text-align: left;\">EK269_GAS1_v4_rep2a_virus_x</th><th style = \"text-align: left;\">EK269_GAS1_v4_rep2b_virus_x</th><th style = \"text-align: left;\">EK269_GAS1_v4_rep2c_virus_x</th><th style = \"text-align: left;\">EK269_GAS1_v4_rep2d_virus_x</th><th style = \"text-align: left;\">EK269_GAS1_v5_rep3a_virus_x</th><th style = \"text-align: left;\">EK269_GAS1_v5_rep3b_virus_x</th><th style = \"text-align: left;\">EK269_GAS1_v5_rep3c_virus</th><th style = \"text-align: left;\">EK269_GAS1_v5_rep3d_virus</th><th style = \"text-align: left;\">aa_x</th><th style = \"text-align: left;\">category_x</th><th style = \"text-align: left;\">chip_x</th><th style = \"text-align: left;\">control_x</th><th style = \"text-align: left;\">is_wt_aa_x</th><th style = \"text-align: left;\">is_wt_nt_x</th><th style = \"text-align: left;\">mask_x</th><th style = \"text-align: left;\">mut_x</th><th style = \"text-align: left;\">rep_i</th><th style = \"text-align: left;\">rep_original_x</th><th style = \"text-align: left;\">rep_total_x</th><th style = \"text-align: left;\">EK269_GAS1_p1_rep1a_plasmid_y</th><th style = \"text-align: left;\">EK269_GAS1_p1_rep1b_plasmid_y</th><th style = \"text-align: left;\">EK269_GAS1_p1_rep1c_plasmid_y</th><th style = \"text-align: left;\">EK269_GAS1_p1_rep1d_plasmid_y</th><th style = \"text-align: left;\">EK269_GAS1_v3_rep1a_virus_y</th><th style = \"text-align: left;\">EK269_GAS1_v3_rep1b_virus_y</th><th style = \"text-align: left;\">EK269_GAS1_v3_rep1c_virus_y</th><th style = \"text-align: left;\">EK269_GAS1_v3_rep1d_virus_y</th><th style = \"text-align: left;\">EK269_GAS1_v4_rep2a_virus_y</th><th style = \"text-align: left;\">EK269_GAS1_v4_rep2b_virus_y</th><th style = \"text-align: left;\">EK269_GAS1_v4_rep2c_virus_y</th><th style = \"text-align: left;\">EK269_GAS1_v4_rep2d_virus_y</th><th style = \"text-align: left;\">EK269_GAS1_v5_rep3a_virus_y</th><th style = \"text-align: left;\">EK269_GAS1_v5_rep3b_virus_y</th><th style = \"text-align: left;\">aa_y</th><th style = \"text-align: left;\">category_y</th><th style = \"text-align: left;\">chip_y</th><th style = \"text-align: left;\">control_y</th><th style = \"text-align: left;\">is_wt_aa_y</th><th style = \"text-align: left;\">is_wt_nt_y</th><th style = \"text-align: left;\">mask_y</th><th style = \"text-align: left;\">mut_y</th><th style = \"text-align: left;\">rep_original_y</th><th style = \"text-align: left;\">rep_total_y</th><th style = \"text-align: left;\">GAS1_plasmid_N</th><th style = \"text-align: left;\">GAS1_virus_N</th><th style = \"text-align: left;\">GAS1_plasmid_F</th><th style = \"text-align: left;\">GAS1_virus_F</th><th style = \"text-align: left;\">GAS1_virus_S</th></tr><tr class = \"subheader headerLastRow\"><th class = \"rowNumber\" style = \"font-weight: bold; text-align: right;\"></th><th title = \"Int64\" style = \"text-align: left;\">Int64</th><th title = \"String\" style = \"text-align: left;\">String</th><th title = \"Int64\" style = \"text-align: left;\">Int64</th><th title = \"Int64\" style = \"text-align: left;\">Int64</th><th title = \"Int64\" style = \"text-align: left;\">Int64</th><th title = \"Int64\" style = \"text-align: left;\">Int64</th><th title = \"Int64\" style = \"text-align: left;\">Int64</th><th title = \"Int64\" style = \"text-align: left;\">Int64</th><th title = \"Int64\" style = \"text-align: left;\">Int64</th><th title = \"Int64\" style = \"text-align: left;\">Int64</th><th title = \"Int64\" style = \"text-align: left;\">Int64</th><th title = \"Int64\" style = \"text-align: left;\">Int64</th><th title = \"Int64\" style = \"text-align: left;\">Int64</th><th title = \"Int64\" style = \"text-align: left;\">Int64</th><th title = \"Int64\" style = \"text-align: left;\">Int64</th><th title = \"Int64\" style = \"text-align: left;\">Int64</th><th title = \"Int64\" style = \"text-align: left;\">Int64</th><th title = \"Int64\" style = \"text-align: left;\">Int64</th><th title = \"Int64\" style = \"text-align: left;\">Int64</th><th title = \"Int64\" style = \"text-align: left;\">Int64</th><th title = \"String\" style = \"text-align: left;\">String</th><th title = \"String\" style = \"text-align: left;\">String</th><th title = \"Int64\" style = \"text-align: left;\">Int64</th><th title = \"Int64\" style = \"text-align: left;\">Int64</th><th title = \"Int64\" style = \"text-align: left;\">Int64</th><th title = \"Int64\" style = \"text-align: left;\">Int64</th><th title = \"String\" style = \"text-align: left;\">String</th><th title = \"Int64\" style = \"text-align: left;\">Int64</th><th title = \"Int64\" style = \"text-align: left;\">Int64</th><th title = \"Int64\" style = \"text-align: left;\">Int64</th><th title = \"Int64\" style = \"text-align: left;\">Int64</th><th title = \"Int64\" style = \"text-align: left;\">Int64</th><th title = \"Int64\" style = \"text-align: left;\">Int64</th><th title = \"Int64\" style = \"text-align: left;\">Int64</th><th title = \"Int64\" style = \"text-align: left;\">Int64</th><th title = \"Int64\" style = \"text-align: left;\">Int64</th><th title = \"Int64\" style = \"text-align: left;\">Int64</th><th title = \"Int64\" style = \"text-align: left;\">Int64</th><th title = \"Int64\" style = \"text-align: left;\">Int64</th><th title = \"Int64\" style = \"text-align: left;\">Int64</th><th title = \"Int64\" style = \"text-align: left;\">Int64</th><th title = \"Int64\" style = \"text-align: left;\">Int64</th><th title = \"Int64\" style = \"text-align: left;\">Int64</th><th title = \"Int64\" style = \"text-align: left;\">Int64</th><th title = \"Int64\" style = \"text-align: left;\">Int64</th><th title = \"String\" style = \"text-align: left;\">String</th><th title = \"String\" style = \"text-align: left;\">String</th><th title = \"Int64\" style = \"text-align: left;\">Int64</th><th title = \"Int64\" style = \"text-align: left;\">Int64</th><th title = \"Int64\" style = \"text-align: left;\">Int64</th><th title = \"Int64\" style = \"text-align: left;\">Int64</th><th title = \"String\" style = \"text-align: left;\">String</th><th title = \"Int64\" style = \"text-align: left;\">Int64</th><th title = \"Int64\" style = \"text-align: left;\">Int64</th><th title = \"Int64\" style = \"text-align: left;\">Int64</th><th title = \"Int64\" style = \"text-align: left;\">Int64</th><th title = \"Int64\" style = \"text-align: left;\">Int64</th><th title = \"Float64\" style = \"text-align: left;\">Float64</th><th title = \"Float64\" style = \"text-align: left;\">Float64</th><th title = \"Union{Missing, Float64}\" style = \"text-align: left;\">Float64?</th></tr></thead><tbody><tr><td class = \"rowNumber\" style = \"font-weight: bold; text-align: right;\">1</td><td style = \"text-align: right;\">0</td><td style = \"text-align: left;\">GACGAGGACGAAATCAGGACAACCAATCCCGTGGCTACGGAGCAGTATGGTTCTGTATCTACCAACCTCCAGGATAACGGCAACAACGATAGA</td><td style = \"text-align: right;\">4</td><td style = \"text-align: right;\">7</td><td style = \"text-align: right;\">6</td><td style = \"text-align: right;\">8</td><td style = \"text-align: right;\">8</td><td style = \"text-align: right;\">8</td><td style = \"text-align: right;\">16</td><td style = \"text-align: right;\">17</td><td style = \"text-align: right;\">16</td><td style = \"text-align: right;\">12</td><td style = \"text-align: right;\">17</td><td style = \"text-align: right;\">18</td><td style = \"text-align: right;\">19</td><td style = \"text-align: right;\">8</td><td style = \"text-align: right;\">21</td><td style = \"text-align: right;\">16</td><td style = \"text-align: right;\">10</td><td style = \"text-align: right;\">20</td><td style = \"text-align: left;\">DEDEIRTTNPVATEQYGSVSTNLQDnGnNdR</td><td style = \"text-align: left;\">rnn_designed_plus_rand_train_walked</td><td style = \"text-align: right;\">1</td><td style = \"text-align: right;\">0</td><td style = \"text-align: right;\">0</td><td style = \"text-align: right;\">0</td><td style = \"text-align: left;\">__D_____________________Dn_n_d_</td><td style = \"text-align: right;\">5</td><td style = \"text-align: right;\">1</td><td style = \"text-align: right;\">1</td><td style = \"text-align: right;\">1</td><td style = \"text-align: right;\">13</td><td style = \"text-align: right;\">89</td><td style = \"text-align: right;\">51</td><td style = \"text-align: right;\">47</td><td style = \"text-align: right;\">176</td><td style = \"text-align: right;\">47</td><td style = \"text-align: right;\">53</td><td style = \"text-align: right;\">211</td><td style = \"text-align: right;\">78</td><td style = \"text-align: right;\">188</td><td style = \"text-align: right;\">84</td><td style = \"text-align: right;\">29</td><td style = \"text-align: right;\">45</td><td style = \"text-align: right;\">42</td><td style = \"text-align: left;\">DEDEIRTTNPVATEQYGSVSTNLQDnGnNdR</td><td style = \"text-align: left;\">rnn_designed_plus_rand_train_walked</td><td style = \"text-align: right;\">1</td><td style = \"text-align: right;\">0</td><td style = \"text-align: right;\">0</td><td style = \"text-align: right;\">0</td><td style = \"text-align: left;\">__D_____________________Dn_n_d_</td><td style = \"text-align: right;\">5</td><td style = \"text-align: right;\">1</td><td style = \"text-align: right;\">1</td><td style = \"text-align: right;\">230</td><td style = \"text-align: right;\">1143</td><td style = \"text-align: right;\">3.47247e-6</td><td style = \"text-align: right;\">5.1631e-6</td><td style = \"text-align: right;\">0.572274</td></tr><tr><td class = \"rowNumber\" style = \"font-weight: bold; text-align: right;\">2</td><td style = \"text-align: right;\">1</td><td style = \"text-align: left;\">GACGAGGACGAAATCAGGACAACCAATCCCGTGGCTACGGAGCAGTATGGTGCGGTATCTACCAACCTCCAGGGCGACGGCAACGATAGA</td><td style = \"text-align: right;\">23</td><td style = \"text-align: right;\">11</td><td style = \"text-align: right;\">11</td><td style = \"text-align: right;\">12</td><td style = \"text-align: right;\">13</td><td style = \"text-align: right;\">13</td><td style = \"text-align: right;\">36</td><td style = \"text-align: right;\">47</td><td style = \"text-align: right;\">34</td><td style = \"text-align: right;\">50</td><td style = \"text-align: right;\">41</td><td style = \"text-align: right;\">51</td><td style = \"text-align: right;\">25</td><td style = \"text-align: right;\">20</td><td style = \"text-align: right;\">27</td><td style = \"text-align: right;\">36</td><td style = \"text-align: right;\">42</td><td style = \"text-align: right;\">47</td><td style = \"text-align: left;\">DEDEIRTTNPVATEQYGAVSTNLQGdGNdR</td><td style = \"text-align: left;\">rnn_designed_plus_rand_train_walked</td><td style = \"text-align: right;\">1</td><td style = \"text-align: right;\">0</td><td style = \"text-align: right;\">0</td><td style = \"text-align: right;\">0</td><td style = \"text-align: left;\">__D______________A______Gd__d_</td><td style = \"text-align: right;\">5</td><td style = \"text-align: right;\">1</td><td style = \"text-align: right;\">1</td><td style = \"text-align: right;\">1</td><td style = \"text-align: right;\">29</td><td style = \"text-align: right;\">129</td><td style = \"text-align: right;\">100</td><td style = \"text-align: right;\">63</td><td style = \"text-align: right;\">439</td><td style = \"text-align: right;\">131</td><td style = \"text-align: right;\">130</td><td style = \"text-align: right;\">563</td><td style = \"text-align: right;\">269</td><td style = \"text-align: right;\">513</td><td style = \"text-align: right;\">270</td><td style = \"text-align: right;\">98</td><td style = \"text-align: right;\">88</td><td style = \"text-align: right;\">85</td><td style = \"text-align: left;\">DEDEIRTTNPVATEQYGAVSTNLQGdGNdR</td><td style = \"text-align: left;\">rnn_designed_plus_rand_train_walked</td><td style = \"text-align: right;\">1</td><td style = \"text-align: right;\">0</td><td style = \"text-align: right;\">0</td><td style = \"text-align: right;\">0</td><td style = \"text-align: left;\">__D______________A______Gd__d_</td><td style = \"text-align: right;\">5</td><td style = \"text-align: right;\">1</td><td style = \"text-align: right;\">1</td><td style = \"text-align: right;\">370</td><td style = \"text-align: right;\">3042</td><td style = \"text-align: right;\">5.58615e-6</td><td style = \"text-align: right;\">1.37412e-5</td><td style = \"text-align: right;\">1.29858</td></tr><tr><td class = \"rowNumber\" style = \"font-weight: bold; text-align: right;\">3</td><td style = \"text-align: right;\">2</td><td style = \"text-align: left;\">GACGAAGAGGAAATCGCTACAACCAATCCCGTGGCTACGGAGCAGTATGGTTCTGTATCTACCAACCTCCAGCACGACGGCGATGAAAGA</td><td style = \"text-align: right;\">10</td><td style = \"text-align: right;\">16</td><td style = \"text-align: right;\">12</td><td style = \"text-align: right;\">9</td><td style = \"text-align: right;\">14</td><td style = \"text-align: right;\">11</td><td style = \"text-align: right;\">14</td><td style = \"text-align: right;\">12</td><td style = \"text-align: right;\">8</td><td style = \"text-align: right;\">12</td><td style = \"text-align: right;\">44</td><td style = \"text-align: right;\">53</td><td style = \"text-align: right;\">36</td><td style = \"text-align: right;\">42</td><td style = \"text-align: right;\">13</td><td style = \"text-align: right;\">14</td><td style = \"text-align: right;\">18</td><td style = \"text-align: right;\">20</td><td style = \"text-align: left;\">DEEEIATTNPVATEQYGSVSTNLQHdGDeR</td><td style = \"text-align: left;\">rnn_designed_plus_rand_train_walked</td><td style = \"text-align: right;\">1</td><td style = \"text-align: right;\">0</td><td style = \"text-align: right;\">0</td><td style = \"text-align: right;\">0</td><td style = \"text-align: left;\">_____A__________________Hd_De_</td><td style = \"text-align: right;\">5</td><td style = \"text-align: right;\">1</td><td style = \"text-align: right;\">1</td><td style = \"text-align: right;\">1</td><td style = \"text-align: right;\">27</td><td style = \"text-align: right;\">121</td><td style = \"text-align: right;\">91</td><td style = \"text-align: right;\">65</td><td style = \"text-align: right;\">171</td><td style = \"text-align: right;\">66</td><td style = \"text-align: right;\">50</td><td style = \"text-align: right;\">176</td><td style = \"text-align: right;\">356</td><td style = \"text-align: right;\">648</td><td style = \"text-align: right;\">338</td><td style = \"text-align: right;\">128</td><td style = \"text-align: right;\">46</td><td style = \"text-align: right;\">42</td><td style = \"text-align: left;\">DEEEIATTNPVATEQYGSVSTNLQHdGDeR</td><td style = \"text-align: left;\">rnn_designed_plus_rand_train_walked</td><td style = \"text-align: right;\">1</td><td style = \"text-align: right;\">0</td><td style = \"text-align: right;\">0</td><td style = \"text-align: right;\">0</td><td style = \"text-align: left;\">_____A__________________Hd_De_</td><td style = \"text-align: right;\">5</td><td style = \"text-align: right;\">1</td><td style = \"text-align: right;\">1</td><td style = \"text-align: right;\">350</td><td style = \"text-align: right;\">2307</td><td style = \"text-align: right;\">5.2842e-6</td><td style = \"text-align: right;\">1.04211e-5</td><td style = \"text-align: right;\">0.979746</td></tr><tr><td class = \"rowNumber\" style = \"font-weight: bold; text-align: right;\">4</td><td style = \"text-align: right;\">3</td><td style = \"text-align: left;\">GACGAACACGAAATCAGGACAACCAATCCCGTGGCTACGGAGCAGTATGGTAATGTATCTACCAACCTCCAGGGCGGAGGCGACAACAGA</td><td style = \"text-align: right;\">27</td><td style = \"text-align: right;\">20</td><td style = \"text-align: right;\">12</td><td style = \"text-align: right;\">11</td><td style = \"text-align: right;\">37</td><td style = \"text-align: right;\">32</td><td style = \"text-align: right;\">76</td><td style = \"text-align: right;\">64</td><td style = \"text-align: right;\">63</td><td style = \"text-align: right;\">50</td><td style = \"text-align: right;\">88</td><td style = \"text-align: right;\">89</td><td style = \"text-align: right;\">86</td><td style = \"text-align: right;\">52</td><td style = \"text-align: right;\">73</td><td style = \"text-align: right;\">81</td><td style = \"text-align: right;\">87</td><td style = \"text-align: right;\">91</td><td style = \"text-align: left;\">DEHEIRTTNPVATEQYGNVSTNLQGgGdNR</td><td style = \"text-align: left;\">rnn_designed_plus_rand_train_walked</td><td style = \"text-align: right;\">1</td><td style = \"text-align: right;\">0</td><td style = \"text-align: right;\">0</td><td style = \"text-align: right;\">0</td><td style = \"text-align: left;\">__H______________N______Gg_d__</td><td style = \"text-align: right;\">5</td><td style = \"text-align: right;\">1</td><td style = \"text-align: right;\">1</td><td style = \"text-align: right;\">1</td><td style = \"text-align: right;\">66</td><td style = \"text-align: right;\">288</td><td style = \"text-align: right;\">243</td><td style = \"text-align: right;\">190</td><td style = \"text-align: right;\">830</td><td style = \"text-align: right;\">244</td><td style = \"text-align: right;\">238</td><td style = \"text-align: right;\">979</td><td style = \"text-align: right;\">651</td><td style = \"text-align: right;\">1158</td><td style = \"text-align: right;\">588</td><td style = \"text-align: right;\">185</td><td style = \"text-align: right;\">241</td><td style = \"text-align: right;\">229</td><td style = \"text-align: left;\">DEHEIRTTNPVATEQYGNVSTNLQGgGdNR</td><td style = \"text-align: left;\">rnn_designed_plus_rand_train_walked</td><td style = \"text-align: right;\">1</td><td style = \"text-align: right;\">0</td><td style = \"text-align: right;\">0</td><td style = \"text-align: right;\">0</td><td style = \"text-align: left;\">__H______________N______Gg_d__</td><td style = \"text-align: right;\">5</td><td style = \"text-align: right;\">1</td><td style = \"text-align: right;\">1</td><td style = \"text-align: right;\">879</td><td style = \"text-align: right;\">6243</td><td style = \"text-align: right;\">1.32709e-5</td><td style = \"text-align: right;\">2.82006e-5</td><td style = \"text-align: right;\">1.08746</td></tr><tr><td class = \"rowNumber\" style = \"font-weight: bold; text-align: right;\">5</td><td style = \"text-align: right;\">4</td><td style = \"text-align: left;\">GACGAACATGAAATCAGGACAACCAATCCCGTGGCTACGGAGCAGTATGGTTCTGTATCTACCAACCTCCAGCCGGGGGGCAACGATGGT</td><td style = \"text-align: right;\">19</td><td style = \"text-align: right;\">14</td><td style = \"text-align: right;\">15</td><td style = \"text-align: right;\">17</td><td style = \"text-align: right;\">10</td><td style = \"text-align: right;\">10</td><td style = \"text-align: right;\">50</td><td style = \"text-align: right;\">59</td><td style = \"text-align: right;\">22</td><td style = \"text-align: right;\">29</td><td style = \"text-align: right;\">63</td><td style = \"text-align: right;\">65</td><td style = \"text-align: right;\">77</td><td style = \"text-align: right;\">57</td><td style = \"text-align: right;\">18</td><td style = \"text-align: right;\">26</td><td style = \"text-align: right;\">37</td><td style = \"text-align: right;\">24</td><td style = \"text-align: left;\">DEHEIRTTNPVATEQYGSVSTNLQpGGNDg</td><td style = \"text-align: left;\">rnn_designed_plus_rand_train_walked</td><td style = \"text-align: right;\">1</td><td style = \"text-align: right;\">0</td><td style = \"text-align: right;\">0</td><td style = \"text-align: right;\">0</td><td style = \"text-align: left;\">__H_____________________pG__Dg</td><td style = \"text-align: right;\">5</td><td style = \"text-align: right;\">1</td><td style = \"text-align: right;\">1</td><td style = \"text-align: right;\">1</td><td style = \"text-align: right;\">36</td><td style = \"text-align: right;\">172</td><td style = \"text-align: right;\">122</td><td style = \"text-align: right;\">97</td><td style = \"text-align: right;\">552</td><td style = \"text-align: right;\">188</td><td style = \"text-align: right;\">157</td><td style = \"text-align: right;\">616</td><td style = \"text-align: right;\">487</td><td style = \"text-align: right;\">845</td><td style = \"text-align: right;\">457</td><td style = \"text-align: right;\">146</td><td style = \"text-align: right;\">75</td><td style = \"text-align: right;\">76</td><td style = \"text-align: left;\">DEHEIRTTNPVATEQYGSVSTNLQpGGNDg</td><td style = \"text-align: left;\">rnn_designed_plus_rand_train_walked</td><td style = \"text-align: right;\">1</td><td style = \"text-align: right;\">0</td><td style = \"text-align: right;\">0</td><td style = \"text-align: right;\">0</td><td style = \"text-align: left;\">__H_____________________pG__Dg</td><td style = \"text-align: right;\">5</td><td style = \"text-align: right;\">1</td><td style = \"text-align: right;\">1</td><td style = \"text-align: right;\">479</td><td style = \"text-align: right;\">4126</td><td style = \"text-align: right;\">7.2318e-6</td><td style = \"text-align: right;\">1.86378e-5</td><td style = \"text-align: right;\">1.3658</td></tr><tr><td class = \"rowNumber\" style = \"font-weight: bold; text-align: right;\">6</td><td style = \"text-align: right;\">5</td><td style = \"text-align: left;\">GACGAACACGAAATCAGGACAACCAATCCCGTGGCTACGGAGCAGTATGGTTCTGTATCTACCAACCTCCAGCATAACGGAAACGAAAGA</td><td style = \"text-align: right;\">20</td><td style = \"text-align: right;\">15</td><td style = \"text-align: right;\">10</td><td style = \"text-align: right;\">6</td><td style = \"text-align: right;\">14</td><td style = \"text-align: right;\">5</td><td style = \"text-align: right;\">53</td><td style = \"text-align: right;\">55</td><td style = \"text-align: right;\">33</td><td style = \"text-align: right;\">44</td><td style = \"text-align: right;\">48</td><td style = \"text-align: right;\">40</td><td style = \"text-align: right;\">41</td><td style = \"text-align: right;\">20</td><td style = \"text-align: right;\">41</td><td style = \"text-align: right;\">37</td><td style = \"text-align: right;\">39</td><td style = \"text-align: right;\">32</td><td style = \"text-align: left;\">DEHEIRTTNPVATEQYGSVSTNLQHNgNeR</td><td style = \"text-align: left;\">rnn_designed_plus_rand_train_walked</td><td style = \"text-align: right;\">1</td><td style = \"text-align: right;\">0</td><td style = \"text-align: right;\">0</td><td style = \"text-align: right;\">0</td><td style = \"text-align: left;\">__H_____________________HNg_e_</td><td style = \"text-align: right;\">5</td><td style = \"text-align: right;\">1</td><td style = \"text-align: right;\">1</td><td style = \"text-align: right;\">1</td><td style = \"text-align: right;\">46</td><td style = \"text-align: right;\">146</td><td style = \"text-align: right;\">104</td><td style = \"text-align: right;\">85</td><td style = \"text-align: right;\">584</td><td style = \"text-align: right;\">193</td><td style = \"text-align: right;\">139</td><td style = \"text-align: right;\">656</td><td style = \"text-align: right;\">263</td><td style = \"text-align: right;\">452</td><td style = \"text-align: right;\">266</td><td style = \"text-align: right;\">91</td><td style = \"text-align: right;\">113</td><td style = \"text-align: right;\">105</td><td style = \"text-align: left;\">DEHEIRTTNPVATEQYGSVSTNLQHNgNeR</td><td style = \"text-align: left;\">rnn_designed_plus_rand_train_walked</td><td style = \"text-align: right;\">1</td><td style = \"text-align: right;\">0</td><td style = \"text-align: right;\">0</td><td style = \"text-align: right;\">0</td><td style = \"text-align: left;\">__H_____________________HNg_e_</td><td style = \"text-align: right;\">5</td><td style = \"text-align: right;\">1</td><td style = \"text-align: right;\">1</td><td style = \"text-align: right;\">416</td><td style = \"text-align: right;\">3345</td><td style = \"text-align: right;\">6.28065e-6</td><td style = \"text-align: right;\">1.51099e-5</td><td style = \"text-align: right;\">1.26651</td></tr><tr><td class = \"rowNumber\" style = \"font-weight: bold; text-align: right;\">7</td><td style = \"text-align: right;\">6</td><td style = \"text-align: left;\">GACGAAGCCGAAATCAGGACAACCAATCCCGTGGCTACGGAGCAGTATGGTGTAGTATCTACCAACCTCCAGCATGATGGCAACTCT</td><td style = \"text-align: right;\">4</td><td style = \"text-align: right;\">6</td><td style = \"text-align: right;\">3</td><td style = \"text-align: right;\">9</td><td style = \"text-align: right;\">11</td><td style = \"text-align: right;\">7</td><td style = \"text-align: right;\">20</td><td style = \"text-align: right;\">34</td><td style = \"text-align: right;\">18</td><td style = \"text-align: right;\">16</td><td style = \"text-align: right;\">50</td><td style = \"text-align: right;\">40</td><td style = \"text-align: right;\">28</td><td style = \"text-align: right;\">18</td><td style = \"text-align: right;\">12</td><td style = \"text-align: right;\">30</td><td style = \"text-align: right;\">36</td><td style = \"text-align: right;\">30</td><td style = \"text-align: left;\">DEAEIRTTNPVATEQYGVVSTNLQHdGNS</td><td style = \"text-align: left;\">rnn_designed_plus_rand_train_walked</td><td style = \"text-align: right;\">1</td><td style = \"text-align: right;\">0</td><td style = \"text-align: right;\">0</td><td style = \"text-align: right;\">0</td><td style = \"text-align: left;\">__A______________V______Hd__S</td><td style = \"text-align: right;\">5</td><td style = \"text-align: right;\">1</td><td style = \"text-align: right;\">1</td><td style = \"text-align: right;\">1</td><td style = \"text-align: right;\">28</td><td style = \"text-align: right;\">79</td><td style = \"text-align: right;\">64</td><td style = \"text-align: right;\">64</td><td style = \"text-align: right;\">248</td><td style = \"text-align: right;\">82</td><td style = \"text-align: right;\">86</td><td style = \"text-align: right;\">273</td><td style = \"text-align: right;\">275</td><td style = \"text-align: right;\">547</td><td style = \"text-align: right;\">287</td><td style = \"text-align: right;\">78</td><td style = \"text-align: right;\">86</td><td style = \"text-align: right;\">74</td><td style = \"text-align: left;\">DEAEIRTTNPVATEQYGVVSTNLQHdGNS</td><td style = \"text-align: left;\">rnn_designed_plus_rand_train_walked</td><td style = \"text-align: right;\">1</td><td style = \"text-align: right;\">0</td><td style = \"text-align: right;\">0</td><td style = \"text-align: right;\">0</td><td style = \"text-align: left;\">__A______________V______Hd__S</td><td style = \"text-align: right;\">5</td><td style = \"text-align: right;\">1</td><td style = \"text-align: right;\">1</td><td style = \"text-align: right;\">265</td><td style = \"text-align: right;\">2368</td><td style = \"text-align: right;\">4.00089e-6</td><td style = \"text-align: right;\">1.06966e-5</td><td style = \"text-align: right;\">1.41876</td></tr><tr><td class = \"rowNumber\" style = \"font-weight: bold; text-align: right;\">8</td><td style = \"text-align: right;\">7</td><td style = \"text-align: left;\">GACGAAGCAGAAATCAGGACAACCAATCCCGTGGCTACGGAGCAGTATGGTTCTGTATCTACCAACCTCCAGGCTGGCGATAACAATCCA</td><td style = \"text-align: right;\">7</td><td style = \"text-align: right;\">5</td><td style = \"text-align: right;\">6</td><td style = \"text-align: right;\">9</td><td style = \"text-align: right;\">4</td><td style = \"text-align: right;\">6</td><td style = \"text-align: right;\">8</td><td style = \"text-align: right;\">8</td><td style = \"text-align: right;\">5</td><td style = \"text-align: right;\">5</td><td style = \"text-align: right;\">42</td><td style = \"text-align: right;\">21</td><td style = \"text-align: right;\">34</td><td style = \"text-align: right;\">20</td><td style = \"text-align: right;\">19</td><td style = \"text-align: right;\">38</td><td style = \"text-align: right;\">24</td><td style = \"text-align: right;\">31</td><td style = \"text-align: left;\">DEAEIRTTNPVATEQYGSVSTNLQAGdNnP</td><td style = \"text-align: left;\">rnn_designed_plus_rand_train_walked</td><td style = \"text-align: right;\">1</td><td style = \"text-align: right;\">0</td><td style = \"text-align: right;\">0</td><td style = \"text-align: right;\">0</td><td style = \"text-align: left;\">__A_____________________A_d_nP</td><td style = \"text-align: right;\">5</td><td style = \"text-align: right;\">1</td><td style = \"text-align: right;\">1</td><td style = \"text-align: right;\">1</td><td style = \"text-align: right;\">18</td><td style = \"text-align: right;\">61</td><td style = \"text-align: right;\">58</td><td style = \"text-align: right;\">56</td><td style = \"text-align: right;\">75</td><td style = \"text-align: right;\">23</td><td style = \"text-align: right;\">21</td><td style = \"text-align: right;\">79</td><td style = \"text-align: right;\">202</td><td style = \"text-align: right;\">415</td><td style = \"text-align: right;\">195</td><td style = \"text-align: right;\">70</td><td style = \"text-align: right;\">105</td><td style = \"text-align: right;\">75</td><td style = \"text-align: left;\">DEAEIRTTNPVATEQYGSVSTNLQAGdNnP</td><td style = \"text-align: left;\">rnn_designed_plus_rand_train_walked</td><td style = \"text-align: right;\">1</td><td style = \"text-align: right;\">0</td><td style = \"text-align: right;\">0</td><td style = \"text-align: right;\">0</td><td style = \"text-align: left;\">__A_____________________A_d_nP</td><td style = \"text-align: right;\">5</td><td style = \"text-align: right;\">1</td><td style = \"text-align: right;\">1</td><td style = \"text-align: right;\">218</td><td style = \"text-align: right;\">1515</td><td style = \"text-align: right;\">3.2913e-6</td><td style = \"text-align: right;\">6.84348e-6</td><td style = \"text-align: right;\">1.05607</td></tr><tr><td class = \"rowNumber\" style = \"font-weight: bold; text-align: right;\">9</td><td style = \"text-align: right;\">8</td><td style = \"text-align: left;\">GACGAAGAGGAAATCGCAACAACCAATCCCGTGGCTACGGAGCAGTATGGTTCTGTATCTACCGGCAACGGGCAGGATGGCAACAGTAGA</td><td style = \"text-align: right;\">9</td><td style = \"text-align: right;\">11</td><td style = \"text-align: right;\">6</td><td style = \"text-align: right;\">8</td><td style = \"text-align: right;\">15</td><td style = \"text-align: right;\">10</td><td style = \"text-align: right;\">33</td><td style = \"text-align: right;\">24</td><td style = \"text-align: right;\">16</td><td style = \"text-align: right;\">24</td><td style = \"text-align: right;\">40</td><td style = \"text-align: right;\">47</td><td style = \"text-align: right;\">37</td><td style = \"text-align: right;\">18</td><td style = \"text-align: right;\">9</td><td style = \"text-align: right;\">12</td><td style = \"text-align: right;\">16</td><td style = \"text-align: right;\">19</td><td style = \"text-align: left;\">DEEEIATTNPVATEQYGSVSTgNGQDGNsR</td><td style = \"text-align: left;\">rnn_designed_plus_rand_train_walked</td><td style = \"text-align: right;\">1</td><td style = \"text-align: right;\">0</td><td style = \"text-align: right;\">0</td><td style = \"text-align: right;\">0</td><td style = \"text-align: left;\">_____A_______________g_G_D__s_</td><td style = \"text-align: right;\">5</td><td style = \"text-align: right;\">1</td><td style = \"text-align: right;\">1</td><td style = \"text-align: right;\">1</td><td style = \"text-align: right;\">25</td><td style = \"text-align: right;\">100</td><td style = \"text-align: right;\">54</td><td style = \"text-align: right;\">57</td><td style = \"text-align: right;\">393</td><td style = \"text-align: right;\">103</td><td style = \"text-align: right;\">85</td><td style = \"text-align: right;\">384</td><td style = \"text-align: right;\">299</td><td style = \"text-align: right;\">489</td><td style = \"text-align: right;\">243</td><td style = \"text-align: right;\">73</td><td style = \"text-align: right;\">62</td><td style = \"text-align: right;\">47</td><td style = \"text-align: left;\">DEEEIATTNPVATEQYGSVSTgNGQDGNsR</td><td style = \"text-align: left;\">rnn_designed_plus_rand_train_walked</td><td style = \"text-align: right;\">1</td><td style = \"text-align: right;\">0</td><td style = \"text-align: right;\">0</td><td style = \"text-align: right;\">0</td><td style = \"text-align: left;\">_____A_______________g_G_D__s_</td><td style = \"text-align: right;\">5</td><td style = \"text-align: right;\">1</td><td style = \"text-align: right;\">1</td><td style = \"text-align: right;\">275</td><td style = \"text-align: right;\">2473</td><td style = \"text-align: right;\">4.15187e-6</td><td style = \"text-align: right;\">1.11709e-5</td><td style = \"text-align: right;\">1.42791</td></tr><tr><td class = \"rowNumber\" style = \"font-weight: bold; text-align: right;\">10</td><td style = \"text-align: right;\">9</td><td style = \"text-align: left;\">GACGAAGTCGAAATCAGGACAACCAATCCCGTGGCTACGGAGCAGTATGGTTCTGTATCTACCAACCTCCAGGATAATGGCGATAACGAGAGA</td><td style = \"text-align: right;\">11</td><td style = \"text-align: right;\">6</td><td style = \"text-align: right;\">5</td><td style = \"text-align: right;\">16</td><td style = \"text-align: right;\">13</td><td style = \"text-align: right;\">12</td><td style = \"text-align: right;\">14</td><td style = \"text-align: right;\">15</td><td style = \"text-align: right;\">11</td><td style = \"text-align: right;\">18</td><td style = \"text-align: right;\">31</td><td style = \"text-align: right;\">27</td><td style = \"text-align: right;\">23</td><td style = \"text-align: right;\">16</td><td style = \"text-align: right;\">23</td><td style = \"text-align: right;\">28</td><td style = \"text-align: right;\">36</td><td style = \"text-align: right;\">42</td><td style = \"text-align: left;\">DEVEIRTTNPVATEQYGSVSTNLQDnGdNeR</td><td style = \"text-align: left;\">rnn_designed_plus_rand_train_walked</td><td style = \"text-align: right;\">1</td><td style = \"text-align: right;\">0</td><td style = \"text-align: right;\">0</td><td style = \"text-align: right;\">0</td><td style = \"text-align: left;\">__V_____________________Dn_d_e_</td><td style = \"text-align: right;\">5</td><td style = \"text-align: right;\">1</td><td style = \"text-align: right;\">1</td><td style = \"text-align: right;\">1</td><td style = \"text-align: right;\">25</td><td style = \"text-align: right;\">102</td><td style = \"text-align: right;\">85</td><td style = \"text-align: right;\">68</td><td style = \"text-align: right;\">199</td><td style = \"text-align: right;\">66</td><td style = \"text-align: right;\">46</td><td style = \"text-align: right;\">188</td><td style = \"text-align: right;\">213</td><td style = \"text-align: right;\">422</td><td style = \"text-align: right;\">178</td><td style = \"text-align: right;\">68</td><td style = \"text-align: right;\">106</td><td style = \"text-align: right;\">102</td><td style = \"text-align: left;\">DEVEIRTTNPVATEQYGSVSTNLQDnGdNeR</td><td style = \"text-align: left;\">rnn_designed_plus_rand_train_walked</td><td style = \"text-align: right;\">1</td><td style = \"text-align: right;\">0</td><td style = \"text-align: right;\">0</td><td style = \"text-align: right;\">0</td><td style = \"text-align: left;\">__V_____________________Dn_d_e_</td><td style = \"text-align: right;\">5</td><td style = \"text-align: right;\">1</td><td style = \"text-align: right;\">1</td><td style = \"text-align: right;\">326</td><td style = \"text-align: right;\">1872</td><td style = \"text-align: right;\">4.92185e-6</td><td style = \"text-align: right;\">8.4561e-6</td><td style = \"text-align: right;\">0.780791</td></tr><tr><td class = \"rowNumber\" style = \"font-weight: bold; text-align: right;\">11</td><td style = \"text-align: right;\">10</td><td style = \"text-align: left;\">GACGAAGAGGAAATCGCGACAACCAATCCCGTGGCTACGGAGCAGTATGGTTCTGTATCTACCAACCTCCAGAGAGGCGGAGATCAGTCG</td><td style = \"text-align: right;\">4</td><td style = \"text-align: right;\">6</td><td style = \"text-align: right;\">3</td><td style = \"text-align: right;\">9</td><td style = \"text-align: right;\">10</td><td style = \"text-align: right;\">2</td><td style = \"text-align: right;\">46</td><td style = \"text-align: right;\">54</td><td style = \"text-align: right;\">40</td><td style = \"text-align: right;\">42</td><td style = \"text-align: right;\">16</td><td style = \"text-align: right;\">11</td><td style = \"text-align: right;\">12</td><td style = \"text-align: right;\">13</td><td style = \"text-align: right;\">19</td><td style = \"text-align: right;\">20</td><td style = \"text-align: right;\">36</td><td style = \"text-align: right;\">27</td><td style = \"text-align: left;\">DEEEIATTNPVATEQYGSVSTNLQRGgDQs</td><td style = \"text-align: left;\">rnn_designed_plus_rand_train_walked</td><td style = \"text-align: right;\">1</td><td style = \"text-align: right;\">0</td><td style = \"text-align: right;\">0</td><td style = \"text-align: right;\">0</td><td style = \"text-align: left;\">_____A____________________gDQs</td><td style = \"text-align: right;\">5</td><td style = \"text-align: right;\">1</td><td style = \"text-align: right;\">1</td><td style = \"text-align: right;\">1</td><td style = \"text-align: right;\">15</td><td style = \"text-align: right;\">82</td><td style = \"text-align: right;\">39</td><td style = \"text-align: right;\">42</td><td style = \"text-align: right;\">526</td><td style = \"text-align: right;\">180</td><td style = \"text-align: right;\">134</td><td style = \"text-align: right;\">606</td><td style = \"text-align: right;\">89</td><td style = \"text-align: right;\">160</td><td style = \"text-align: right;\">93</td><td style = \"text-align: right;\">45</td><td style = \"text-align: right;\">56</td><td style = \"text-align: right;\">61</td><td style = \"text-align: left;\">DEEEIATTNPVATEQYGSVSTNLQRGgDQs</td><td style = \"text-align: left;\">rnn_designed_plus_rand_train_walked</td><td style = \"text-align: right;\">1</td><td style = \"text-align: right;\">0</td><td style = \"text-align: right;\">0</td><td style = \"text-align: right;\">0</td><td style = \"text-align: left;\">_____A____________________gDQs</td><td style = \"text-align: right;\">5</td><td style = \"text-align: right;\">1</td><td style = \"text-align: right;\">1</td><td style = \"text-align: right;\">202</td><td style = \"text-align: right;\">2286</td><td style = \"text-align: right;\">3.04974e-6</td><td style = \"text-align: right;\">1.03262e-5</td><td style = \"text-align: right;\">1.75955</td></tr><tr><td class = \"rowNumber\" style = \"font-weight: bold; text-align: right;\">12</td><td style = \"text-align: right;\">11</td><td style = \"text-align: left;\">GACGAAGAGGAAATCGCAACAACCAATCCCGTGGCTACGGAGTCCTATGGTTCTGTATCTACCAACCTCCAGCATAACGGCAACGCT</td><td style = \"text-align: right;\">9</td><td style = \"text-align: right;\">3</td><td style = \"text-align: right;\">6</td><td style = \"text-align: right;\">3</td><td style = \"text-align: right;\">4</td><td style = \"text-align: right;\">6</td><td style = \"text-align: right;\">47</td><td style = \"text-align: right;\">63</td><td style = \"text-align: right;\">22</td><td style = \"text-align: right;\">42</td><td style = \"text-align: right;\">10</td><td style = \"text-align: right;\">11</td><td style = \"text-align: right;\">12</td><td style = \"text-align: right;\">5</td><td style = \"text-align: right;\">7</td><td style = \"text-align: right;\">6</td><td style = \"text-align: right;\">5</td><td style = \"text-align: right;\">6</td><td style = \"text-align: left;\">DEEEIATTNPVATESYGSVSTNLQhNGNA</td><td style = \"text-align: left;\">rnn_designed_plus_rand_train_walked</td><td style = \"text-align: right;\">1</td><td style = \"text-align: right;\">0</td><td style = \"text-align: right;\">0</td><td style = \"text-align: right;\">0</td><td style = \"text-align: left;\">_____A________S_________hN__A</td><td style = \"text-align: right;\">5</td><td style = \"text-align: right;\">1</td><td style = \"text-align: right;\">1</td><td style = \"text-align: right;\">1</td><td style = \"text-align: right;\">9</td><td style = \"text-align: right;\">56</td><td style = \"text-align: right;\">36</td><td style = \"text-align: right;\">27</td><td style = \"text-align: right;\">593</td><td style = \"text-align: right;\">151</td><td style = \"text-align: right;\">168</td><td style = \"text-align: right;\">592</td><td style = \"text-align: right;\">103</td><td style = \"text-align: right;\">186</td><td style = \"text-align: right;\">77</td><td style = \"text-align: right;\">34</td><td style = \"text-align: right;\">21</td><td style = \"text-align: right;\">15</td><td style = \"text-align: left;\">DEEEIATTNPVATESYGSVSTNLQhNGNA</td><td style = \"text-align: left;\">rnn_designed_plus_rand_train_walked</td><td style = \"text-align: right;\">1</td><td style = \"text-align: right;\">0</td><td style = \"text-align: right;\">0</td><td style = \"text-align: right;\">0</td><td style = \"text-align: left;\">_____A________S_________hN__A</td><td style = \"text-align: right;\">5</td><td style = \"text-align: right;\">1</td><td style = \"text-align: right;\">1</td><td style = \"text-align: right;\">147</td><td style = \"text-align: right;\">2176</td><td style = \"text-align: right;\">2.21936e-6</td><td style = \"text-align: right;\">9.82932e-6</td><td style = \"text-align: right;\">2.14695</td></tr><tr><td class = \"rowNumber\" style = \"font-weight: bold; text-align: right;\">13</td><td style = \"text-align: right;\">12</td><td style = \"text-align: left;\">GACGAAGATGAAATCAGGACAACCAATCCCGTGGCTACGGAGCAGTATGGTTCTGTATCTACCAACCTCCAGCACAACGGCAACGATGAG</td><td style = \"text-align: right;\">11</td><td style = \"text-align: right;\">7</td><td style = \"text-align: right;\">4</td><td style = \"text-align: right;\">6</td><td style = \"text-align: right;\">9</td><td style = \"text-align: right;\">11</td><td style = \"text-align: right;\">14</td><td style = \"text-align: right;\">19</td><td style = \"text-align: right;\">12</td><td style = \"text-align: right;\">12</td><td style = \"text-align: right;\">52</td><td style = \"text-align: right;\">47</td><td style = \"text-align: right;\">39</td><td style = \"text-align: right;\">37</td><td style = \"text-align: right;\">18</td><td style = \"text-align: right;\">16</td><td style = \"text-align: right;\">24</td><td style = \"text-align: right;\">15</td><td style = \"text-align: left;\">DEDEIRTTNPVATEQYGSVSTNLQhNGNDe</td><td style = \"text-align: left;\">rnn_designed_plus_rand_train_walked</td><td style = \"text-align: right;\">1</td><td style = \"text-align: right;\">0</td><td style = \"text-align: right;\">0</td><td style = \"text-align: right;\">0</td><td style = \"text-align: left;\">__D_____________________hN__De</td><td style = \"text-align: right;\">5</td><td style = \"text-align: right;\">1</td><td style = \"text-align: right;\">1</td><td style = \"text-align: right;\">1</td><td style = \"text-align: right;\">24</td><td style = \"text-align: right;\">86</td><td style = \"text-align: right;\">76</td><td style = \"text-align: right;\">63</td><td style = \"text-align: right;\">147</td><td style = \"text-align: right;\">67</td><td style = \"text-align: right;\">44</td><td style = \"text-align: right;\">223</td><td style = \"text-align: right;\">295</td><td style = \"text-align: right;\">528</td><td style = \"text-align: right;\">302</td><td style = \"text-align: right;\">86</td><td style = \"text-align: right;\">49</td><td style = \"text-align: right;\">34</td><td style = \"text-align: left;\">DEDEIRTTNPVATEQYGSVSTNLQhNGNDe</td><td style = \"text-align: left;\">rnn_designed_plus_rand_train_walked</td><td style = \"text-align: right;\">1</td><td style = \"text-align: right;\">0</td><td style = \"text-align: right;\">0</td><td style = \"text-align: right;\">0</td><td style = \"text-align: left;\">__D_____________________hN__De</td><td style = \"text-align: right;\">5</td><td style = \"text-align: right;\">1</td><td style = \"text-align: right;\">1</td><td style = \"text-align: right;\">279</td><td style = \"text-align: right;\">2080</td><td style = \"text-align: right;\">4.21226e-6</td><td style = \"text-align: right;\">9.39567e-6</td><td style = \"text-align: right;\">1.1574</td></tr><tr><td style = \"text-align: right;\">&vellip;</td><td style = \"text-align: right;\">&vellip;</td><td style = \"text-align: right;\">&vellip;</td><td style = \"text-align: right;\">&vellip;</td><td style = \"text-align: right;\">&vellip;</td><td style = \"text-align: right;\">&vellip;</td><td style = \"text-align: right;\">&vellip;</td><td style = \"text-align: right;\">&vellip;</td><td style = \"text-align: right;\">&vellip;</td><td style = \"text-align: right;\">&vellip;</td><td style = \"text-align: right;\">&vellip;</td><td style = \"text-align: right;\">&vellip;</td><td style = \"text-align: right;\">&vellip;</td><td style = \"text-align: right;\">&vellip;</td><td style = \"text-align: right;\">&vellip;</td><td style = \"text-align: right;\">&vellip;</td><td style = \"text-align: right;\">&vellip;</td><td style = \"text-align: right;\">&vellip;</td><td style = \"text-align: right;\">&vellip;</td><td style = \"text-align: right;\">&vellip;</td><td style = \"text-align: right;\">&vellip;</td><td style = \"text-align: right;\">&vellip;</td><td style = \"text-align: right;\">&vellip;</td><td style = \"text-align: right;\">&vellip;</td><td style = \"text-align: right;\">&vellip;</td><td style = \"text-align: right;\">&vellip;</td><td style = \"text-align: right;\">&vellip;</td><td style = \"text-align: right;\">&vellip;</td><td style = \"text-align: right;\">&vellip;</td><td style = \"text-align: right;\">&vellip;</td><td style = \"text-align: right;\">&vellip;</td><td style = \"text-align: right;\">&vellip;</td><td style = \"text-align: right;\">&vellip;</td><td style = \"text-align: right;\">&vellip;</td><td style = \"text-align: right;\">&vellip;</td><td style = \"text-align: right;\">&vellip;</td><td style = \"text-align: right;\">&vellip;</td><td style = \"text-align: right;\">&vellip;</td><td style = \"text-align: right;\">&vellip;</td><td style = \"text-align: right;\">&vellip;</td><td style = \"text-align: right;\">&vellip;</td><td style = \"text-align: right;\">&vellip;</td><td style = \"text-align: right;\">&vellip;</td><td style = \"text-align: right;\">&vellip;</td><td style = \"text-align: right;\">&vellip;</td><td style = \"text-align: right;\">&vellip;</td><td style = \"text-align: right;\">&vellip;</td><td style = \"text-align: right;\">&vellip;</td><td style = \"text-align: right;\">&vellip;</td><td style = \"text-align: right;\">&vellip;</td><td style = \"text-align: right;\">&vellip;</td><td style = \"text-align: right;\">&vellip;</td><td style = \"text-align: right;\">&vellip;</td><td style = \"text-align: right;\">&vellip;</td><td style = \"text-align: right;\">&vellip;</td><td style = \"text-align: right;\">&vellip;</td><td style = \"text-align: right;\">&vellip;</td><td style = \"text-align: right;\">&vellip;</td><td style = \"text-align: right;\">&vellip;</td><td style = \"text-align: right;\">&vellip;</td><td style = \"text-align: right;\">&vellip;</td></tr><tr><td class = \"rowNumber\" style = \"font-weight: bold; text-align: right;\">243470</td><td style = \"text-align: right;\">243469</td><td style = \"text-align: left;\">CGCGAAGAGGAAATCAGGACAACCAATCCCGTGTTCGCTACGGAGCAGTATGGTTCTGTATCTACCAACCTCCAGAGAGGCAACAGA</td><td style = \"text-align: right;\">24</td><td style = \"text-align: right;\">23</td><td style = \"text-align: right;\">19</td><td style = \"text-align: right;\">26</td><td style = \"text-align: right;\">27</td><td style = \"text-align: right;\">14</td><td style = \"text-align: right;\">2</td><td style = \"text-align: right;\">0</td><td style = \"text-align: right;\">1</td><td style = \"text-align: right;\">1</td><td style = \"text-align: right;\">0</td><td style = \"text-align: right;\">1</td><td style = \"text-align: right;\">2</td><td style = \"text-align: right;\">0</td><td style = \"text-align: right;\">5</td><td style = \"text-align: right;\">0</td><td style = \"text-align: right;\">2</td><td style = \"text-align: right;\">0</td><td style = \"text-align: left;\">REEEIRTTNPVfATEQYGSVSTNLQRGNR</td><td style = \"text-align: left;\">random_doubles</td><td style = \"text-align: right;\">1</td><td style = \"text-align: right;\">0</td><td style = \"text-align: right;\">0</td><td style = \"text-align: right;\">0</td><td style = \"text-align: left;\">R__________f_________________</td><td style = \"text-align: right;\">2</td><td style = \"text-align: right;\">1</td><td style = \"text-align: right;\">1</td><td style = \"text-align: right;\">1</td><td style = \"text-align: right;\">70</td><td style = \"text-align: right;\">279</td><td style = \"text-align: right;\">210</td><td style = \"text-align: right;\">176</td><td style = \"text-align: right;\">4</td><td style = \"text-align: right;\">1</td><td style = \"text-align: right;\">3</td><td style = \"text-align: right;\">5</td><td style = \"text-align: right;\">6</td><td style = \"text-align: right;\">3</td><td style = \"text-align: right;\">6</td><td style = \"text-align: right;\">1</td><td style = \"text-align: right;\">2</td><td style = \"text-align: right;\">4</td><td style = \"text-align: left;\">REEEIRTTNPVfATEQYGSVSTNLQRGNR</td><td style = \"text-align: left;\">random_doubles</td><td style = \"text-align: right;\">1</td><td style = \"text-align: right;\">0</td><td style = \"text-align: right;\">0</td><td style = \"text-align: right;\">0</td><td style = \"text-align: left;\">R__________f_________________</td><td style = \"text-align: right;\">2</td><td style = \"text-align: right;\">1</td><td style = \"text-align: right;\">1</td><td style = \"text-align: right;\">821</td><td style = \"text-align: right;\">49</td><td style = \"text-align: right;\">1.23952e-5</td><td style = \"text-align: right;\">2.2134e-7</td><td style = \"text-align: right;\">-5.80737</td></tr><tr><td class = \"rowNumber\" style = \"font-weight: bold; text-align: right;\">243471</td><td style = \"text-align: right;\">243470</td><td style = \"text-align: left;\">GACCTACAGGAGGAAATCAGGACAACCAATCCCGTGGCTACGGAGCAGTATGGTTCTGTATCTACCAACCTCCAGAGAGGCAACAGA</td><td style = \"text-align: right;\">7</td><td style = \"text-align: right;\">8</td><td style = \"text-align: right;\">11</td><td style = \"text-align: right;\">9</td><td style = \"text-align: right;\">10</td><td style = \"text-align: right;\">8</td><td style = \"text-align: right;\">0</td><td style = \"text-align: right;\">0</td><td style = \"text-align: right;\">0</td><td style = \"text-align: right;\">1</td><td style = \"text-align: right;\">0</td><td style = \"text-align: right;\">2</td><td style = \"text-align: right;\">0</td><td style = \"text-align: right;\">0</td><td style = \"text-align: right;\">2</td><td style = \"text-align: right;\">0</td><td style = \"text-align: right;\">0</td><td style = \"text-align: right;\">0</td><td style = \"text-align: left;\">DlQEEIRTTNPVATEQYGSVSTNLQRGNR</td><td style = \"text-align: left;\">random_doubles</td><td style = \"text-align: right;\">1</td><td style = \"text-align: right;\">0</td><td style = \"text-align: right;\">0</td><td style = \"text-align: right;\">0</td><td style = \"text-align: left;\">_lQ__________________________</td><td style = \"text-align: right;\">2</td><td style = \"text-align: right;\">1</td><td style = \"text-align: right;\">1</td><td style = \"text-align: right;\">1</td><td style = \"text-align: right;\">18</td><td style = \"text-align: right;\">135</td><td style = \"text-align: right;\">102</td><td style = \"text-align: right;\">69</td><td style = \"text-align: right;\">0</td><td style = \"text-align: right;\">0</td><td style = \"text-align: right;\">0</td><td style = \"text-align: right;\">2</td><td style = \"text-align: right;\">2</td><td style = \"text-align: right;\">4</td><td style = \"text-align: right;\">4</td><td style = \"text-align: right;\">1</td><td style = \"text-align: right;\">3</td><td style = \"text-align: right;\">1</td><td style = \"text-align: left;\">DlQEEIRTTNPVATEQYGSVSTNLQRGNR</td><td style = \"text-align: left;\">random_doubles</td><td style = \"text-align: right;\">1</td><td style = \"text-align: right;\">0</td><td style = \"text-align: right;\">0</td><td style = \"text-align: right;\">0</td><td style = \"text-align: left;\">_lQ__________________________</td><td style = \"text-align: right;\">2</td><td style = \"text-align: right;\">1</td><td style = \"text-align: right;\">1</td><td style = \"text-align: right;\">362</td><td style = \"text-align: right;\">22</td><td style = \"text-align: right;\">5.46537e-6</td><td style = \"text-align: right;\">9.93773e-8</td><td style = \"text-align: right;\">-5.78126</td></tr><tr><td class = \"rowNumber\" style = \"font-weight: bold; text-align: right;\">243472</td><td style = \"text-align: right;\">243471</td><td style = \"text-align: left;\">GACGAAGAGGAAATCAGGACAACCAATCCCGTGGCTCTCGAGGATTATGGTTCTGTATCTACCAACCTCCAGAGAGGCAACAGA</td><td style = \"text-align: right;\">16</td><td style = \"text-align: right;\">11</td><td style = \"text-align: right;\">8</td><td style = \"text-align: right;\">13</td><td style = \"text-align: right;\">10</td><td style = \"text-align: right;\">11</td><td style = \"text-align: right;\">1</td><td style = \"text-align: right;\">0</td><td style = \"text-align: right;\">0</td><td style = \"text-align: right;\">1</td><td style = \"text-align: right;\">0</td><td style = \"text-align: right;\">0</td><td style = \"text-align: right;\">1</td><td style = \"text-align: right;\">2</td><td style = \"text-align: right;\">2</td><td style = \"text-align: right;\">3</td><td style = \"text-align: right;\">3</td><td style = \"text-align: right;\">1</td><td style = \"text-align: left;\">DEEEIRTTNPVALEDYGSVSTNLQRGNR</td><td style = \"text-align: left;\">random_doubles</td><td style = \"text-align: right;\">1</td><td style = \"text-align: right;\">0</td><td style = \"text-align: right;\">0</td><td style = \"text-align: right;\">0</td><td style = \"text-align: left;\">____________L_D_____________</td><td style = \"text-align: right;\">2</td><td style = \"text-align: right;\">1</td><td style = \"text-align: right;\">1</td><td style = \"text-align: right;\">1</td><td style = \"text-align: right;\">37</td><td style = \"text-align: right;\">166</td><td style = \"text-align: right;\">109</td><td style = \"text-align: right;\">75</td><td style = \"text-align: right;\">7</td><td style = \"text-align: right;\">2</td><td style = \"text-align: right;\">3</td><td style = \"text-align: right;\">9</td><td style = \"text-align: right;\">9</td><td style = \"text-align: right;\">33</td><td style = \"text-align: right;\">9</td><td style = \"text-align: right;\">7</td><td style = \"text-align: right;\">4</td><td style = \"text-align: right;\">8</td><td style = \"text-align: left;\">DEEEIRTTNPVALEDYGSVSTNLQRGNR</td><td style = \"text-align: left;\">random_doubles</td><td style = \"text-align: right;\">1</td><td style = \"text-align: right;\">0</td><td style = \"text-align: right;\">0</td><td style = \"text-align: right;\">0</td><td style = \"text-align: left;\">____________L_D_____________</td><td style = \"text-align: right;\">2</td><td style = \"text-align: right;\">1</td><td style = \"text-align: right;\">1</td><td style = \"text-align: right;\">429</td><td style = \"text-align: right;\">105</td><td style = \"text-align: right;\">6.47692e-6</td><td style = \"text-align: right;\">4.74301e-7</td><td style = \"text-align: right;\">-3.77143</td></tr><tr><td class = \"rowNumber\" style = \"font-weight: bold; text-align: right;\">243473</td><td style = \"text-align: right;\">243472</td><td style = \"text-align: left;\">GACGAAGAGGAAATCAGGACAACCAATCCCGTGGCTACGGAGCAGTATGGTTCTGTATCTCCAACCAACCTCCAGAGGAGAGGCAACAGA</td><td style = \"text-align: right;\">4</td><td style = \"text-align: right;\">6</td><td style = \"text-align: right;\">1</td><td style = \"text-align: right;\">9</td><td style = \"text-align: right;\">8</td><td style = \"text-align: right;\">6</td><td style = \"text-align: right;\">0</td><td style = \"text-align: right;\">0</td><td style = \"text-align: right;\">0</td><td style = \"text-align: right;\">0</td><td style = \"text-align: right;\">0</td><td style = \"text-align: right;\">0</td><td style = \"text-align: right;\">0</td><td style = \"text-align: right;\">0</td><td style = \"text-align: right;\">0</td><td style = \"text-align: right;\">0</td><td style = \"text-align: right;\">0</td><td style = \"text-align: right;\">0</td><td style = \"text-align: left;\">DEEEIRTTNPVATEQYGSVSpTNLQrRGNR</td><td style = \"text-align: left;\">random_doubles</td><td style = \"text-align: right;\">1</td><td style = \"text-align: right;\">0</td><td style = \"text-align: right;\">0</td><td style = \"text-align: right;\">0</td><td style = \"text-align: left;\">____________________p____r____</td><td style = \"text-align: right;\">2</td><td style = \"text-align: right;\">1</td><td style = \"text-align: right;\">1</td><td style = \"text-align: right;\">1</td><td style = \"text-align: right;\">12</td><td style = \"text-align: right;\">64</td><td style = \"text-align: right;\">48</td><td style = \"text-align: right;\">41</td><td style = \"text-align: right;\">2</td><td style = \"text-align: right;\">1</td><td style = \"text-align: right;\">1</td><td style = \"text-align: right;\">2</td><td style = \"text-align: right;\">0</td><td style = \"text-align: right;\">2</td><td style = \"text-align: right;\">0</td><td style = \"text-align: right;\">2</td><td style = \"text-align: right;\">2</td><td style = \"text-align: right;\">1</td><td style = \"text-align: left;\">DEEEIRTTNPVATEQYGSVSpTNLQrRGNR</td><td style = \"text-align: left;\">random_doubles</td><td style = \"text-align: right;\">1</td><td style = \"text-align: right;\">0</td><td style = \"text-align: right;\">0</td><td style = \"text-align: right;\">0</td><td style = \"text-align: left;\">____________________p____r____</td><td style = \"text-align: right;\">2</td><td style = \"text-align: right;\">1</td><td style = \"text-align: right;\">1</td><td style = \"text-align: right;\">189</td><td style = \"text-align: right;\">13</td><td style = \"text-align: right;\">2.85347e-6</td><td style = \"text-align: right;\">5.87229e-8</td><td style = \"text-align: right;\">-5.60265</td></tr><tr><td class = \"rowNumber\" style = \"font-weight: bold; text-align: right;\">243474</td><td style = \"text-align: right;\">243473</td><td style = \"text-align: left;\">GACGAAGAGGAAATCAGGACAACCAATCCCGTGGCTACGGAGCAGTATTGTGGTTCTGTATCTACCAACCTCCAGAGAGGCAACTTGAGA</td><td style = \"text-align: right;\">6</td><td style = \"text-align: right;\">4</td><td style = \"text-align: right;\">9</td><td style = \"text-align: right;\">12</td><td style = \"text-align: right;\">23</td><td style = \"text-align: right;\">15</td><td style = \"text-align: right;\">0</td><td style = \"text-align: right;\">0</td><td style = \"text-align: right;\">0</td><td style = \"text-align: right;\">0</td><td style = \"text-align: right;\">3</td><td style = \"text-align: right;\">2</td><td style = \"text-align: right;\">0</td><td style = \"text-align: right;\">0</td><td style = \"text-align: right;\">0</td><td style = \"text-align: right;\">0</td><td style = \"text-align: right;\">0</td><td style = \"text-align: right;\">3</td><td style = \"text-align: left;\">DEEEIRTTNPVATEQYcGSVSTNLQRGNlR</td><td style = \"text-align: left;\">random_doubles</td><td style = \"text-align: right;\">1</td><td style = \"text-align: right;\">0</td><td style = \"text-align: right;\">0</td><td style = \"text-align: right;\">0</td><td style = \"text-align: left;\">________________c___________l_</td><td style = \"text-align: right;\">2</td><td style = \"text-align: right;\">1</td><td style = \"text-align: right;\">1</td><td style = \"text-align: right;\">1</td><td style = \"text-align: right;\">35</td><td style = \"text-align: right;\">151</td><td style = \"text-align: right;\">100</td><td style = \"text-align: right;\">107</td><td style = \"text-align: right;\">4</td><td style = \"text-align: right;\">2</td><td style = \"text-align: right;\">2</td><td style = \"text-align: right;\">4</td><td style = \"text-align: right;\">9</td><td style = \"text-align: right;\">18</td><td style = \"text-align: right;\">9</td><td style = \"text-align: right;\">6</td><td style = \"text-align: right;\">1</td><td style = \"text-align: right;\">0</td><td style = \"text-align: left;\">DEEEIRTTNPVATEQYcGSVSTNLQRGNlR</td><td style = \"text-align: left;\">random_doubles</td><td style = \"text-align: right;\">1</td><td style = \"text-align: right;\">0</td><td style = \"text-align: right;\">0</td><td style = \"text-align: right;\">0</td><td style = \"text-align: left;\">________________c___________l_</td><td style = \"text-align: right;\">2</td><td style = \"text-align: right;\">1</td><td style = \"text-align: right;\">1</td><td style = \"text-align: right;\">452</td><td style = \"text-align: right;\">63</td><td style = \"text-align: right;\">6.82417e-6</td><td style = \"text-align: right;\">2.8458e-7</td><td style = \"text-align: right;\">-4.58374</td></tr><tr><td class = \"rowNumber\" style = \"font-weight: bold; text-align: right;\">243475</td><td style = \"text-align: right;\">243474</td><td style = \"text-align: left;\">GACGAAGAGGAAATCAGGACAACCAATCCCGTGGCTTCCACGGAGCAGTATTTTGGTTCTGTATCTACCAACCTCCAGAGAGGCAACAGA</td><td style = \"text-align: right;\">20</td><td style = \"text-align: right;\">18</td><td style = \"text-align: right;\">12</td><td style = \"text-align: right;\">15</td><td style = \"text-align: right;\">24</td><td style = \"text-align: right;\">13</td><td style = \"text-align: right;\">1</td><td style = \"text-align: right;\">1</td><td style = \"text-align: right;\">0</td><td style = \"text-align: right;\">0</td><td style = \"text-align: right;\">1</td><td style = \"text-align: right;\">0</td><td style = \"text-align: right;\">1</td><td style = \"text-align: right;\">0</td><td style = \"text-align: right;\">0</td><td style = \"text-align: right;\">2</td><td style = \"text-align: right;\">0</td><td style = \"text-align: right;\">1</td><td style = \"text-align: left;\">DEEEIRTTNPVAsTEQYfGSVSTNLQRGNR</td><td style = \"text-align: left;\">random_doubles</td><td style = \"text-align: right;\">1</td><td style = \"text-align: right;\">0</td><td style = \"text-align: right;\">0</td><td style = \"text-align: right;\">0</td><td style = \"text-align: left;\">____________s____f____________</td><td style = \"text-align: right;\">2</td><td style = \"text-align: right;\">1</td><td style = \"text-align: right;\">1</td><td style = \"text-align: right;\">1</td><td style = \"text-align: right;\">37</td><td style = \"text-align: right;\">220</td><td style = \"text-align: right;\">143</td><td style = \"text-align: right;\">128</td><td style = \"text-align: right;\">17</td><td style = \"text-align: right;\">7</td><td style = \"text-align: right;\">3</td><td style = \"text-align: right;\">14</td><td style = \"text-align: right;\">3</td><td style = \"text-align: right;\">5</td><td style = \"text-align: right;\">0</td><td style = \"text-align: right;\">2</td><td style = \"text-align: right;\">1</td><td style = \"text-align: right;\">2</td><td style = \"text-align: left;\">DEEEIRTTNPVAsTEQYfGSVSTNLQRGNR</td><td style = \"text-align: left;\">random_doubles</td><td style = \"text-align: right;\">1</td><td style = \"text-align: right;\">0</td><td style = \"text-align: right;\">0</td><td style = \"text-align: right;\">0</td><td style = \"text-align: left;\">____________s____f____________</td><td style = \"text-align: right;\">2</td><td style = \"text-align: right;\">1</td><td style = \"text-align: right;\">1</td><td style = \"text-align: right;\">592</td><td style = \"text-align: right;\">61</td><td style = \"text-align: right;\">8.93785e-6</td><td style = \"text-align: right;\">2.75546e-7</td><td style = \"text-align: right;\">-5.01956</td></tr><tr><td class = \"rowNumber\" style = \"font-weight: bold; text-align: right;\">243476</td><td style = \"text-align: right;\">243475</td><td style = \"text-align: left;\">GACGAAGAGGAAATCAGGACAACCAATCCCGTGGCTTATACGGAGTCGTATGGTTCTGTATCTACCAACCTCCAGAGAGGCAACAGA</td><td style = \"text-align: right;\">34</td><td style = \"text-align: right;\">26</td><td style = \"text-align: right;\">10</td><td style = \"text-align: right;\">16</td><td style = \"text-align: right;\">31</td><td style = \"text-align: right;\">18</td><td style = \"text-align: right;\">1</td><td style = \"text-align: right;\">3</td><td style = \"text-align: right;\">2</td><td style = \"text-align: right;\">1</td><td style = \"text-align: right;\">0</td><td style = \"text-align: right;\">2</td><td style = \"text-align: right;\">0</td><td style = \"text-align: right;\">1</td><td style = \"text-align: right;\">1</td><td style = \"text-align: right;\">2</td><td style = \"text-align: right;\">1</td><td style = \"text-align: right;\">1</td><td style = \"text-align: left;\">DEEEIRTTNPVAyTESYGSVSTNLQRGNR</td><td style = \"text-align: left;\">random_doubles</td><td style = \"text-align: right;\">1</td><td style = \"text-align: right;\">0</td><td style = \"text-align: right;\">0</td><td style = \"text-align: right;\">0</td><td style = \"text-align: left;\">____________y__S_____________</td><td style = \"text-align: right;\">2</td><td style = \"text-align: right;\">1</td><td style = \"text-align: right;\">1</td><td style = \"text-align: right;\">1</td><td style = \"text-align: right;\">52</td><td style = \"text-align: right;\">233</td><td style = \"text-align: right;\">182</td><td style = \"text-align: right;\">140</td><td style = \"text-align: right;\">16</td><td style = \"text-align: right;\">8</td><td style = \"text-align: right;\">7</td><td style = \"text-align: right;\">30</td><td style = \"text-align: right;\">12</td><td style = \"text-align: right;\">11</td><td style = \"text-align: right;\">2</td><td style = \"text-align: right;\">3</td><td style = \"text-align: right;\">9</td><td style = \"text-align: right;\">4</td><td style = \"text-align: left;\">DEEEIRTTNPVAyTESYGSVSTNLQRGNR</td><td style = \"text-align: left;\">random_doubles</td><td style = \"text-align: right;\">1</td><td style = \"text-align: right;\">0</td><td style = \"text-align: right;\">0</td><td style = \"text-align: right;\">0</td><td style = \"text-align: left;\">____________y__S_____________</td><td style = \"text-align: right;\">2</td><td style = \"text-align: right;\">1</td><td style = \"text-align: right;\">1</td><td style = \"text-align: right;\">682</td><td style = \"text-align: right;\">117</td><td style = \"text-align: right;\">1.02966e-5</td><td style = \"text-align: right;\">5.28507e-7</td><td style = \"text-align: right;\">-4.28411</td></tr><tr><td class = \"rowNumber\" style = \"font-weight: bold; text-align: right;\">243477</td><td style = \"text-align: right;\">243476</td><td style = \"text-align: left;\">GACGAAGAGGAAATCAGGACAACCAATCCCGTGGCTACGGAGCCATATGGTTCTGTATCTACCAACCTCCAAAGACCCAACAGA</td><td style = \"text-align: right;\">13</td><td style = \"text-align: right;\">12</td><td style = \"text-align: right;\">16</td><td style = \"text-align: right;\">11</td><td style = \"text-align: right;\">23</td><td style = \"text-align: right;\">17</td><td style = \"text-align: right;\">5</td><td style = \"text-align: right;\">2</td><td style = \"text-align: right;\">1</td><td style = \"text-align: right;\">2</td><td style = \"text-align: right;\">21</td><td style = \"text-align: right;\">14</td><td style = \"text-align: right;\">14</td><td style = \"text-align: right;\">12</td><td style = \"text-align: right;\">6</td><td style = \"text-align: right;\">7</td><td style = \"text-align: right;\">10</td><td style = \"text-align: right;\">14</td><td style = \"text-align: left;\">DEEEIRTTNPVATEPYGSVSTNLQRPNR</td><td style = \"text-align: left;\">random_doubles</td><td style = \"text-align: right;\">1</td><td style = \"text-align: right;\">0</td><td style = \"text-align: right;\">0</td><td style = \"text-align: right;\">0</td><td style = \"text-align: left;\">______________P__________P__</td><td style = \"text-align: right;\">2</td><td style = \"text-align: right;\">1</td><td style = \"text-align: right;\">1</td><td style = \"text-align: right;\">1</td><td style = \"text-align: right;\">37</td><td style = \"text-align: right;\">185</td><td style = \"text-align: right;\">135</td><td style = \"text-align: right;\">112</td><td style = \"text-align: right;\">29</td><td style = \"text-align: right;\">13</td><td style = \"text-align: right;\">11</td><td style = \"text-align: right;\">39</td><td style = \"text-align: right;\">112</td><td style = \"text-align: right;\">161</td><td style = \"text-align: right;\">113</td><td style = \"text-align: right;\">31</td><td style = \"text-align: right;\">23</td><td style = \"text-align: right;\">34</td><td style = \"text-align: left;\">DEEEIRTTNPVATEPYGSVSTNLQRPNR</td><td style = \"text-align: left;\">random_doubles</td><td style = \"text-align: right;\">1</td><td style = \"text-align: right;\">0</td><td style = \"text-align: right;\">0</td><td style = \"text-align: right;\">0</td><td style = \"text-align: left;\">______________P__________P__</td><td style = \"text-align: right;\">2</td><td style = \"text-align: right;\">1</td><td style = \"text-align: right;\">1</td><td style = \"text-align: right;\">536</td><td style = \"text-align: right;\">674</td><td style = \"text-align: right;\">8.09237e-6</td><td style = \"text-align: right;\">3.04456e-6</td><td style = \"text-align: right;\">-1.41033</td></tr><tr><td class = \"rowNumber\" style = \"font-weight: bold; text-align: right;\">243478</td><td style = \"text-align: right;\">243477</td><td style = \"text-align: left;\">GACGAAGAGGAAATCAGGACAACCAATCCCGTGGCTACGGAGCAGTATGGTTCTCATGTATCTACCAACGCGCAGAGAGGCAACAGA</td><td style = \"text-align: right;\">7</td><td style = \"text-align: right;\">19</td><td style = \"text-align: right;\">7</td><td style = \"text-align: right;\">10</td><td style = \"text-align: right;\">19</td><td style = \"text-align: right;\">10</td><td style = \"text-align: right;\">0</td><td style = \"text-align: right;\">0</td><td style = \"text-align: right;\">0</td><td style = \"text-align: right;\">0</td><td style = \"text-align: right;\">1</td><td style = \"text-align: right;\">8</td><td style = \"text-align: right;\">4</td><td style = \"text-align: right;\">0</td><td style = \"text-align: right;\">3</td><td style = \"text-align: right;\">2</td><td style = \"text-align: right;\">2</td><td style = \"text-align: right;\">1</td><td style = \"text-align: left;\">DEEEIRTTNPVATEQYGShVSTNAQRGNR</td><td style = \"text-align: left;\">random_doubles</td><td style = \"text-align: right;\">1</td><td style = \"text-align: right;\">0</td><td style = \"text-align: right;\">0</td><td style = \"text-align: right;\">0</td><td style = \"text-align: left;\">__________________h____A_____</td><td style = \"text-align: right;\">2</td><td style = \"text-align: right;\">1</td><td style = \"text-align: right;\">1</td><td style = \"text-align: right;\">1</td><td style = \"text-align: right;\">34</td><td style = \"text-align: right;\">130</td><td style = \"text-align: right;\">95</td><td style = \"text-align: right;\">80</td><td style = \"text-align: right;\">13</td><td style = \"text-align: right;\">4</td><td style = \"text-align: right;\">3</td><td style = \"text-align: right;\">22</td><td style = \"text-align: right;\">20</td><td style = \"text-align: right;\">46</td><td style = \"text-align: right;\">20</td><td style = \"text-align: right;\">5</td><td style = \"text-align: right;\">9</td><td style = \"text-align: right;\">7</td><td style = \"text-align: left;\">DEEEIRTTNPVATEQYGShVSTNAQRGNR</td><td style = \"text-align: left;\">random_doubles</td><td style = \"text-align: right;\">1</td><td style = \"text-align: right;\">0</td><td style = \"text-align: right;\">0</td><td style = \"text-align: right;\">0</td><td style = \"text-align: left;\">__________________h____A_____</td><td style = \"text-align: right;\">2</td><td style = \"text-align: right;\">1</td><td style = \"text-align: right;\">1</td><td style = \"text-align: right;\">385</td><td style = \"text-align: right;\">170</td><td style = \"text-align: right;\">5.81262e-6</td><td style = \"text-align: right;\">7.67915e-7</td><td style = \"text-align: right;\">-2.92017</td></tr><tr><td class = \"rowNumber\" style = \"font-weight: bold; text-align: right;\">243479</td><td style = \"text-align: right;\">243478</td><td style = \"text-align: left;\">GACGAAGAGGAATTCGAAACAACCAATCCCGTGGCTACGGAGCAGTATGGTTCTGTATCTACCAACCTCCAGAGAGGCAACAGA</td><td style = \"text-align: right;\">13</td><td style = \"text-align: right;\">7</td><td style = \"text-align: right;\">15</td><td style = \"text-align: right;\">16</td><td style = \"text-align: right;\">19</td><td style = \"text-align: right;\">13</td><td style = \"text-align: right;\">1</td><td style = \"text-align: right;\">1</td><td style = \"text-align: right;\">1</td><td style = \"text-align: right;\">4</td><td style = \"text-align: right;\">1</td><td style = \"text-align: right;\">0</td><td style = \"text-align: right;\">3</td><td style = \"text-align: right;\">1</td><td style = \"text-align: right;\">1</td><td style = \"text-align: right;\">2</td><td style = \"text-align: right;\">1</td><td style = \"text-align: right;\">1</td><td style = \"text-align: left;\">DEEEFETTNPVATEQYGSVSTNLQRGNR</td><td style = \"text-align: left;\">random_doubles</td><td style = \"text-align: right;\">1</td><td style = \"text-align: right;\">0</td><td style = \"text-align: right;\">0</td><td style = \"text-align: right;\">0</td><td style = \"text-align: left;\">____FE______________________</td><td style = \"text-align: right;\">2</td><td style = \"text-align: right;\">1</td><td style = \"text-align: right;\">1</td><td style = \"text-align: right;\">1</td><td style = \"text-align: right;\">44</td><td style = \"text-align: right;\">212</td><td style = \"text-align: right;\">134</td><td style = \"text-align: right;\">123</td><td style = \"text-align: right;\">15</td><td style = \"text-align: right;\">5</td><td style = \"text-align: right;\">7</td><td style = \"text-align: right;\">20</td><td style = \"text-align: right;\">3</td><td style = \"text-align: right;\">13</td><td style = \"text-align: right;\">3</td><td style = \"text-align: right;\">6</td><td style = \"text-align: right;\">4</td><td style = \"text-align: right;\">1</td><td style = \"text-align: left;\">DEEEFETTNPVATEQYGSVSTNLQRGNR</td><td style = \"text-align: left;\">random_doubles</td><td style = \"text-align: right;\">1</td><td style = \"text-align: right;\">0</td><td style = \"text-align: right;\">0</td><td style = \"text-align: right;\">0</td><td style = \"text-align: left;\">____FE______________________</td><td style = \"text-align: right;\">2</td><td style = \"text-align: right;\">1</td><td style = \"text-align: right;\">1</td><td style = \"text-align: right;\">576</td><td style = \"text-align: right;\">94</td><td style = \"text-align: right;\">8.69628e-6</td><td style = \"text-align: right;\">4.24612e-7</td><td style = \"text-align: right;\">-4.35618</td></tr><tr><td class = \"rowNumber\" style = \"font-weight: bold; text-align: right;\">243480</td><td style = \"text-align: right;\">243479</td><td style = \"text-align: left;\">GACGAAGAGGAAATCAGGACAACCAATCCCGTGGCTACGGAGCAGTATGGTTCTGTATCTGATAACCTCCAGAGAGCAGGCAACAGA</td><td style = \"text-align: right;\">7</td><td style = \"text-align: right;\">6</td><td style = \"text-align: right;\">16</td><td style = \"text-align: right;\">11</td><td style = \"text-align: right;\">15</td><td style = \"text-align: right;\">17</td><td style = \"text-align: right;\">278</td><td style = \"text-align: right;\">345</td><td style = \"text-align: right;\">168</td><td style = \"text-align: right;\">216</td><td style = \"text-align: right;\">119</td><td style = \"text-align: right;\">104</td><td style = \"text-align: right;\">105</td><td style = \"text-align: right;\">76</td><td style = \"text-align: right;\">175</td><td style = \"text-align: right;\">184</td><td style = \"text-align: right;\">204</td><td style = \"text-align: right;\">213</td><td style = \"text-align: left;\">DEEEIRTTNPVATEQYGSVSDNLQRaGNR</td><td style = \"text-align: left;\">random_doubles</td><td style = \"text-align: right;\">1</td><td style = \"text-align: right;\">0</td><td style = \"text-align: right;\">0</td><td style = \"text-align: right;\">0</td><td style = \"text-align: left;\">____________________D____a___</td><td style = \"text-align: right;\">2</td><td style = \"text-align: right;\">1</td><td style = \"text-align: right;\">1</td><td style = \"text-align: right;\">1</td><td style = \"text-align: right;\">34</td><td style = \"text-align: right;\">164</td><td style = \"text-align: right;\">106</td><td style = \"text-align: right;\">94</td><td style = \"text-align: right;\">3384</td><td style = \"text-align: right;\">1089</td><td style = \"text-align: right;\">899</td><td style = \"text-align: right;\">3739</td><td style = \"text-align: right;\">758</td><td style = \"text-align: right;\">1381</td><td style = \"text-align: right;\">703</td><td style = \"text-align: right;\">220</td><td style = \"text-align: right;\">563</td><td style = \"text-align: right;\">519</td><td style = \"text-align: left;\">DEEEIRTTNPVATEQYGSVSDNLQRaGNR</td><td style = \"text-align: left;\">random_doubles</td><td style = \"text-align: right;\">1</td><td style = \"text-align: right;\">0</td><td style = \"text-align: right;\">0</td><td style = \"text-align: right;\">0</td><td style = \"text-align: left;\">____________________D____a___</td><td style = \"text-align: right;\">2</td><td style = \"text-align: right;\">1</td><td style = \"text-align: right;\">1</td><td style = \"text-align: right;\">457</td><td style = \"text-align: right;\">15442</td><td style = \"text-align: right;\">6.89965e-6</td><td style = \"text-align: right;\">6.97538e-5</td><td style = \"text-align: right;\">3.33768</td></tr><tr><td class = \"rowNumber\" style = \"font-weight: bold; text-align: right;\">243481</td><td style = \"text-align: right;\">243480</td><td style = \"text-align: left;\">GACGAACGAGAAATCAGGACAACCAATCCCGTGGCTACGGAGCAGTATGGTTCTGTATCTACCAACCCCCAGAGAGGCAACAGA</td><td style = \"text-align: right;\">12</td><td style = \"text-align: right;\">14</td><td style = \"text-align: right;\">17</td><td style = \"text-align: right;\">9</td><td style = \"text-align: right;\">20</td><td style = \"text-align: right;\">16</td><td style = \"text-align: right;\">3</td><td style = \"text-align: right;\">7</td><td style = \"text-align: right;\">2</td><td style = \"text-align: right;\">2</td><td style = \"text-align: right;\">5</td><td style = \"text-align: right;\">4</td><td style = \"text-align: right;\">2</td><td style = \"text-align: right;\">3</td><td style = \"text-align: right;\">2</td><td style = \"text-align: right;\">3</td><td style = \"text-align: right;\">2</td><td style = \"text-align: right;\">1</td><td style = \"text-align: left;\">DEREIRTTNPVATEQYGSVSTNPQRGNR</td><td style = \"text-align: left;\">random_doubles</td><td style = \"text-align: right;\">1</td><td style = \"text-align: right;\">0</td><td style = \"text-align: right;\">0</td><td style = \"text-align: right;\">0</td><td style = \"text-align: left;\">__R___________________P_____</td><td style = \"text-align: right;\">2</td><td style = \"text-align: right;\">1</td><td style = \"text-align: right;\">1</td><td style = \"text-align: right;\">1</td><td style = \"text-align: right;\">65</td><td style = \"text-align: right;\">190</td><td style = \"text-align: right;\">151</td><td style = \"text-align: right;\">125</td><td style = \"text-align: right;\">53</td><td style = \"text-align: right;\">16</td><td style = \"text-align: right;\">15</td><td style = \"text-align: right;\">50</td><td style = \"text-align: right;\">24</td><td style = \"text-align: right;\">44</td><td style = \"text-align: right;\">26</td><td style = \"text-align: right;\">12</td><td style = \"text-align: right;\">6</td><td style = \"text-align: right;\">14</td><td style = \"text-align: left;\">DEREIRTTNPVATEQYGSVSTNPQRGNR</td><td style = \"text-align: left;\">random_doubles</td><td style = \"text-align: right;\">1</td><td style = \"text-align: right;\">0</td><td style = \"text-align: right;\">0</td><td style = \"text-align: right;\">0</td><td style = \"text-align: left;\">__R___________________P_____</td><td style = \"text-align: right;\">2</td><td style = \"text-align: right;\">1</td><td style = \"text-align: right;\">1</td><td style = \"text-align: right;\">593</td><td style = \"text-align: right;\">296</td><td style = \"text-align: right;\">8.95294e-6</td><td style = \"text-align: right;\">1.33708e-6</td><td style = \"text-align: right;\">-2.74328</td></tr></tbody></table></div>"
      ],
      "text/latex": [
       "\\begin{tabular}{r|ccc}\n",
       "\t& Column1 & nt\\_seq & \\\\\n",
       "\t\\hline\n",
       "\t& Int64 & String & \\\\\n",
       "\t\\hline\n",
       "\t1 & 0 & GACGAGGACGAAATCAGGACAACCAATCCCGTGGCTACGGAGCAGTATGGTTCTGTATCTACCAACCTCCAGGATAACGGCAACAACGATAGA & $\\dots$ \\\\\n",
       "\t2 & 1 & GACGAGGACGAAATCAGGACAACCAATCCCGTGGCTACGGAGCAGTATGGTGCGGTATCTACCAACCTCCAGGGCGACGGCAACGATAGA & $\\dots$ \\\\\n",
       "\t3 & 2 & GACGAAGAGGAAATCGCTACAACCAATCCCGTGGCTACGGAGCAGTATGGTTCTGTATCTACCAACCTCCAGCACGACGGCGATGAAAGA & $\\dots$ \\\\\n",
       "\t4 & 3 & GACGAACACGAAATCAGGACAACCAATCCCGTGGCTACGGAGCAGTATGGTAATGTATCTACCAACCTCCAGGGCGGAGGCGACAACAGA & $\\dots$ \\\\\n",
       "\t5 & 4 & GACGAACATGAAATCAGGACAACCAATCCCGTGGCTACGGAGCAGTATGGTTCTGTATCTACCAACCTCCAGCCGGGGGGCAACGATGGT & $\\dots$ \\\\\n",
       "\t6 & 5 & GACGAACACGAAATCAGGACAACCAATCCCGTGGCTACGGAGCAGTATGGTTCTGTATCTACCAACCTCCAGCATAACGGAAACGAAAGA & $\\dots$ \\\\\n",
       "\t7 & 6 & GACGAAGCCGAAATCAGGACAACCAATCCCGTGGCTACGGAGCAGTATGGTGTAGTATCTACCAACCTCCAGCATGATGGCAACTCT & $\\dots$ \\\\\n",
       "\t8 & 7 & GACGAAGCAGAAATCAGGACAACCAATCCCGTGGCTACGGAGCAGTATGGTTCTGTATCTACCAACCTCCAGGCTGGCGATAACAATCCA & $\\dots$ \\\\\n",
       "\t9 & 8 & GACGAAGAGGAAATCGCAACAACCAATCCCGTGGCTACGGAGCAGTATGGTTCTGTATCTACCGGCAACGGGCAGGATGGCAACAGTAGA & $\\dots$ \\\\\n",
       "\t10 & 9 & GACGAAGTCGAAATCAGGACAACCAATCCCGTGGCTACGGAGCAGTATGGTTCTGTATCTACCAACCTCCAGGATAATGGCGATAACGAGAGA & $\\dots$ \\\\\n",
       "\t11 & 10 & GACGAAGAGGAAATCGCGACAACCAATCCCGTGGCTACGGAGCAGTATGGTTCTGTATCTACCAACCTCCAGAGAGGCGGAGATCAGTCG & $\\dots$ \\\\\n",
       "\t12 & 11 & GACGAAGAGGAAATCGCAACAACCAATCCCGTGGCTACGGAGTCCTATGGTTCTGTATCTACCAACCTCCAGCATAACGGCAACGCT & $\\dots$ \\\\\n",
       "\t13 & 12 & GACGAAGATGAAATCAGGACAACCAATCCCGTGGCTACGGAGCAGTATGGTTCTGTATCTACCAACCTCCAGCACAACGGCAACGATGAG & $\\dots$ \\\\\n",
       "\t14 & 13 & GACGAAGAGGAAATCGCAACAACCAATCCCGTGGCTACGGAGCAGTATGGTGTAGTATCTACCAACGGCCAGCATGGCAACGAAAGA & $\\dots$ \\\\\n",
       "\t15 & 14 & GACGAATCGGAAATCAGGACAACCAATCCCGTGGCTACGGAGCAGTATGGTTCTGTATCTACCAACCTCCAGGGAGGTGGCGGAAACTCA & $\\dots$ \\\\\n",
       "\t16 & 15 & GACGAACACGAAATCAGGACAACCAATCCCGTGGCTACGGAGCAGTATGGTTCTGTATCTACCAACCAGGACCAGGGGAATGGCAACAGA & $\\dots$ \\\\\n",
       "\t17 & 16 & GACGAAGAGGAAATCGCTACAACCAATCCCGTGGCTACGGAGCAGTATGGTTCTGTATCTACCAACCTCCAGATGGGTGGCGAGAACAGA & $\\dots$ \\\\\n",
       "\t18 & 17 & GACGAACACGAAATCAGGACAACCAATCCCGTGGCTACGGAGCAGTATGGTTCTGTATCTACCAACCTCAACCAGAATGGCAACGAAAAT & $\\dots$ \\\\\n",
       "\t19 & 18 & GACGAAGTAGAAATCAGGACAACCAATCCCGTGGCTACGGAGCAGTATGGTTCTGTATCTACCAACCTCGAACAGGACGGGGACGGCAACAGA & $\\dots$ \\\\\n",
       "\t20 & 19 & GACGAACACGAAATCAGGACAACCAATCCCGTGGCTACGGAGCAGTATGGTTCTGTATCTACCAACCTCCAGCATAATGGTGGCGATAGA & $\\dots$ \\\\\n",
       "\t21 & 20 & GACGAAGAGGAAATCGCCACAACCAATCCCGTGGCTACGGAGCACTATGGTTCTGTATCTACCAACCTCCAGGACGGCAACGAGAGAAAT & $\\dots$ \\\\\n",
       "\t22 & 21 & GACGAATCTGAAATCAGGACAACCAATCCCGTGGCTACGGAGCAGTATGGTTCTGTATCTACCAACCTCCAGGACGGCAACGGTAACGAA & $\\dots$ \\\\\n",
       "\t23 & 22 & GACGAACACGAAATCAGGACAACCAATCCCGTGGCTACGGAGCAGTATGGTTCTGTATCTACCAACCTCGAGCAGAATGGCAACAGCGAT & $\\dots$ \\\\\n",
       "\t24 & 23 & GACGAAGAGGAAATCGCCACAACCAATCCCGTGGCTACGGAGTGTTATGGTTCTGTATCTACCAACCTCCAGGGTGGCAACGATGCC & $\\dots$ \\\\\n",
       "\t25 & 24 & GACGAGGACGAAATCAGGACAACCAATCCCGTGGCTACGGAGCAGTATGGTTCTGTATCTACCAACCTCAACGGTGATGGCAACACTAGA & $\\dots$ \\\\\n",
       "\t26 & 25 & GACGAAGCTGAAATCAGGACAACCAATCCCGTGGCTACGGAGCAGTATGGTTCTGTATCTACCAACCTCGATCAGGGTGGCATGAACAAC & $\\dots$ \\\\\n",
       "\t27 & 26 & GACGAAGCTGAAATCAGGACAACCAATCCCGTGGCTACGGAGCAGTATGGTTCTGTATCTACCAACCTCCAGATGGACGGTGGCAACAACAGA & $\\dots$ \\\\\n",
       "\t28 & 27 & GACGAACACGAAATCAGGACAACCAATCCCGTGGCTACGGAGCAGTATGGTTCTGTATCTACCAACCTCAATGGGGGCAACGCGCAA & $\\dots$ \\\\\n",
       "\t29 & 28 & GACGAACATGAAATCAGGACAACCAATCCCGTGGCTACGGAGCATTATGGTTCTGTATCTACCAACCTCCAGAATGGCAACGAGGAT & $\\dots$ \\\\\n",
       "\t30 & 29 & GACGAACACGAAATCAGGACAACCAATCCCGTGGCTACGGAGCAGTATGGTGTGGTATCTACCAACCTCCAGATGGATGGCAACCAGAGA & $\\dots$ \\\\\n",
       "\t$\\dots$ & $\\dots$ & $\\dots$ &  \\\\\n",
       "\\end{tabular}\n"
      ],
      "text/plain": [
       "\u001b[1m243481×60 DataFrame\u001b[0m\n",
       "\u001b[1m    Row \u001b[0m│\u001b[1m Column1 \u001b[0m\u001b[1m nt_seq                            \u001b[0m\u001b[1m EK266_GAS1_p1_rep1a_plas\u001b[0m ⋯\n",
       "        │\u001b[90m Int64   \u001b[0m\u001b[90m String                            \u001b[0m\u001b[90m Int64                   \u001b[0m ⋯\n",
       "────────┼───────────────────────────────────────────────────────────────────────\n",
       "      1 │       0  GACGAGGACGAAATCAGGACAACCAATCCCGT…                           ⋯\n",
       "      2 │       1  GACGAGGACGAAATCAGGACAACCAATCCCGT…\n",
       "      3 │       2  GACGAAGAGGAAATCGCTACAACCAATCCCGT…\n",
       "      4 │       3  GACGAACACGAAATCAGGACAACCAATCCCGT…\n",
       "      5 │       4  GACGAACATGAAATCAGGACAACCAATCCCGT…                           ⋯\n",
       "      6 │       5  GACGAACACGAAATCAGGACAACCAATCCCGT…\n",
       "      7 │       6  GACGAAGCCGAAATCAGGACAACCAATCCCGT…\n",
       "      8 │       7  GACGAAGCAGAAATCAGGACAACCAATCCCGT…\n",
       "      9 │       8  GACGAAGAGGAAATCGCAACAACCAATCCCGT…                           ⋯\n",
       "     10 │       9  GACGAAGTCGAAATCAGGACAACCAATCCCGT…\n",
       "     11 │      10  GACGAAGAGGAAATCGCGACAACCAATCCCGT…\n",
       "   ⋮    │    ⋮                     ⋮                               ⋮           ⋱\n",
       " 243472 │  243471  GACGAAGAGGAAATCAGGACAACCAATCCCGT…\n",
       " 243473 │  243472  GACGAAGAGGAAATCAGGACAACCAATCCCGT…                           ⋯\n",
       " 243474 │  243473  GACGAAGAGGAAATCAGGACAACCAATCCCGT…\n",
       " 243475 │  243474  GACGAAGAGGAAATCAGGACAACCAATCCCGT…\n",
       " 243476 │  243475  GACGAAGAGGAAATCAGGACAACCAATCCCGT…\n",
       " 243477 │  243476  GACGAAGAGGAAATCAGGACAACCAATCCCGT…                           ⋯\n",
       " 243478 │  243477  GACGAAGAGGAAATCAGGACAACCAATCCCGT…\n",
       " 243479 │  243478  GACGAAGAGGAATTCGAAACAACCAATCCCGT…\n",
       " 243480 │  243479  GACGAAGAGGAAATCAGGACAACCAATCCCGT…\n",
       " 243481 │  243480  GACGAACGAGAAATCAGGACAACCAATCCCGT…                           ⋯\n",
       "\u001b[36m                                              58 columns and 243460 rows omitted\u001b[0m"
      ]
     },
     "execution_count": 3,
     "metadata": {},
     "output_type": "execute_result"
    }
   ],
   "source": [
    "data = CSV.read(\"/home/matteo/Projects/AAV2/Deep_diversification_AAV/Data/library_w_selection_scores.csv/library_w_selection_scores.csv\", DataFrame)"
   ]
  },
  {
   "cell_type": "markdown",
   "id": "48fd771d",
   "metadata": {},
   "source": [
    "# filtering out missing counts"
   ]
  },
  {
   "cell_type": "code",
   "execution_count": 4,
   "id": "d47cc45f",
   "metadata": {},
   "outputs": [
    {
     "data": {
      "text/plain": [
       "243481"
      ]
     },
     "execution_count": 4,
     "metadata": {},
     "output_type": "execute_result"
    }
   ],
   "source": [
    "size(data, 1)"
   ]
  },
  {
   "cell_type": "code",
   "execution_count": 5,
   "id": "9eba7a0c",
   "metadata": {},
   "outputs": [
    {
     "data": {
      "text/plain": [
       "243481"
      ]
     },
     "execution_count": 5,
     "metadata": {},
     "output_type": "execute_result"
    }
   ],
   "source": [
    "filter!(x-> !ismissing(x.GAS1_plasmid_N), data)\n",
    "size(data, 1)"
   ]
  },
  {
   "cell_type": "code",
   "execution_count": 6,
   "id": "6b2cb730",
   "metadata": {},
   "outputs": [
    {
     "data": {
      "text/plain": [
       "243481"
      ]
     },
     "execution_count": 6,
     "metadata": {},
     "output_type": "execute_result"
    }
   ],
   "source": [
    "filter!(x-> !ismissing(x.GAS1_virus_N), data)\n",
    "size(data, 1)"
   ]
  },
  {
   "cell_type": "markdown",
   "id": "f9a1d901",
   "metadata": {},
   "source": [
    "# filtering type of sequences, separated designed sequences from the ones used for training"
   ]
  },
  {
   "cell_type": "code",
   "execution_count": 7,
   "id": "e1263263",
   "metadata": {},
   "outputs": [
    {
     "name": "stdout",
     "output_type": "stream",
     "text": [
      "rnn_designed_plus_rand_train_walked\n",
      "rnn_designed_plus_rand_train_seed\n",
      "rnn_rand_doubles_plus_singles_walked\n",
      "rnn_rand_doubles_plus_singles_seed\n",
      "rnn_standard_walked\n",
      "rnn_standard_seed\n",
      "cnn_designed_plus_rand_train_walked\n",
      "cnn_designed_plus_rand_train_seed\n",
      "cnn_rand_doubles_plus_single_walked\n",
      "cnn_rand_doubles_plus_single_seed\n",
      "cnn_standard_walked\n",
      "cnn_standard_seed\n",
      "lr_designed_plus_rand_train_walked\n",
      "lr_designed_plus_rand_train_seed\n",
      "lr_rand_doubles_plus_single_walked\n",
      "lr_rand_doubles_plus_single_seed\n",
      "lr_standard_walked\n",
      "lr_standard_seed\n",
      "previous_chip_viable\n",
      "previous_chip_nonviable\n",
      "stop\n",
      "singles\n",
      "wild_type\n",
      "random_doubles\n"
     ]
    }
   ],
   "source": [
    "labels = unique(data.category_x) \n",
    "labels .|> println;"
   ]
  },
  {
   "cell_type": "code",
   "execution_count": 8,
   "id": "79ebea6f",
   "metadata": {},
   "outputs": [
    {
     "data": {
      "text/plain": [
       "18-element Vector{String}:\n",
       " \"rnn_designed_plus_rand_train_walked\"\n",
       " \"rnn_designed_plus_rand_train_seed\"\n",
       " \"rnn_rand_doubles_plus_singles_walked\"\n",
       " \"rnn_rand_doubles_plus_singles_seed\"\n",
       " \"rnn_standard_walked\"\n",
       " \"rnn_standard_seed\"\n",
       " \"cnn_designed_plus_rand_train_walked\"\n",
       " \"cnn_designed_plus_rand_train_seed\"\n",
       " \"cnn_rand_doubles_plus_single_walked\"\n",
       " \"cnn_rand_doubles_plus_single_seed\"\n",
       " \"cnn_standard_walked\"\n",
       " \"cnn_standard_seed\"\n",
       " \"lr_designed_plus_rand_train_walked\"\n",
       " \"lr_designed_plus_rand_train_seed\"\n",
       " \"lr_rand_doubles_plus_single_walked\"\n",
       " \"lr_rand_doubles_plus_single_seed\"\n",
       " \"lr_standard_walked\"\n",
       " \"lr_standard_seed\""
      ]
     },
     "execution_count": 8,
     "metadata": {},
     "output_type": "execute_result"
    }
   ],
   "source": [
    "training_labels = [\"wild_type\", \"singles\", \"random_doubles\", \"previous_chip_viable\", \"previous_chip_nonviable\"]\n",
    "generated_labels = [\n",
    "    \"rnn_designed_plus_rand_train_walked\",\n",
    "    \"rnn_designed_plus_rand_train_seed\",\n",
    "    \"rnn_rand_doubles_plus_singles_walked\",\n",
    "    \"rnn_rand_doubles_plus_singles_seed\",\n",
    "    \"rnn_standard_walked\",\n",
    "    \"rnn_standard_seed\",\n",
    "    \"cnn_designed_plus_rand_train_walked\",\n",
    "    \"cnn_designed_plus_rand_train_seed\",\n",
    "    \"cnn_rand_doubles_plus_single_walked\",\n",
    "    \"cnn_rand_doubles_plus_single_seed\",\n",
    "    \"cnn_standard_walked\",\n",
    "    \"cnn_standard_seed\",\n",
    "    \"lr_designed_plus_rand_train_walked\",\n",
    "    \"lr_designed_plus_rand_train_seed\",\n",
    "    \"lr_rand_doubles_plus_single_walked\",\n",
    "    \"lr_rand_doubles_plus_single_seed\",\n",
    "    \"lr_standard_walked\",\n",
    "    \"lr_standard_seed\"\n",
    "]"
   ]
  },
  {
   "cell_type": "code",
   "execution_count": 9,
   "id": "f2543cdf",
   "metadata": {},
   "outputs": [],
   "source": [
    "data_train = filter(x->x.category_x in training_labels, data)\n",
    "data_generated = filter(x->x.category_x in generated_labels, data);"
   ]
  },
  {
   "cell_type": "code",
   "execution_count": 10,
   "id": "0c94c664",
   "metadata": {},
   "outputs": [
    {
     "data": {
      "text/plain": [
       "true"
      ]
     },
     "execution_count": 10,
     "metadata": {},
     "output_type": "execute_result"
    }
   ],
   "source": [
    "size(data_train, 1) + size(data_generated, 1) +  sum(data.category_x .== \"stop\") == size(data, 1)"
   ]
  },
  {
   "cell_type": "code",
   "execution_count": 11,
   "id": "29beb880",
   "metadata": {},
   "outputs": [],
   "source": [
    "data_experiment3 = filter(x->x.category_x in generated_labels, data);"
   ]
  },
  {
   "cell_type": "markdown",
   "id": "a9e530ba",
   "metadata": {},
   "source": [
    "# separate single mutations"
   ]
  },
  {
   "cell_type": "code",
   "execution_count": 14,
   "id": "6d35bf53",
   "metadata": {},
   "outputs": [
    {
     "data": {
      "text/plain": [
       "\"DEEEIRTTNPVATEQYGSVSTNLQRGNR\""
      ]
     },
     "execution_count": 14,
     "metadata": {},
     "output_type": "execute_result"
    }
   ],
   "source": [
    "wt_idx = findall(data_train.is_wt_aa_x .== 1)\n",
    "wt_aa = data_train.aa_x[wt_idx] |> unique |> x->x[1] "
   ]
  },
  {
   "cell_type": "code",
   "execution_count": 15,
   "id": "311f99d7",
   "metadata": {},
   "outputs": [
    {
     "data": {
      "text/plain": [
       "4257-element Vector{Int64}:\n",
       "   244\n",
       "   245\n",
       "   246\n",
       "   475\n",
       "   476\n",
       "   477\n",
       "   574\n",
       "   575\n",
       "   576\n",
       "   829\n",
       "   830\n",
       "   831\n",
       "   874\n",
       "     ⋮\n",
       " 10141\n",
       " 10142\n",
       " 10143\n",
       " 10144\n",
       " 10145\n",
       " 10146\n",
       " 10147\n",
       " 10148\n",
       " 10149\n",
       " 10150\n",
       " 10151\n",
       " 10152"
      ]
     },
     "execution_count": 15,
     "metadata": {},
     "output_type": "execute_result"
    }
   ],
   "source": [
    "single_mut_idx = findall(data_train.mut_x .<=1)"
   ]
  },
  {
   "cell_type": "code",
   "execution_count": 16,
   "id": "8a5b17ca",
   "metadata": {},
   "outputs": [
    {
     "data": {
      "text/plain": [
       "Int64[]"
      ]
     },
     "execution_count": 16,
     "metadata": {},
     "output_type": "execute_result"
    }
   ],
   "source": [
    "setdiff(wt_idx, single_mut_idx)"
   ]
  },
  {
   "cell_type": "code",
   "execution_count": 17,
   "id": "5943bc3f",
   "metadata": {},
   "outputs": [],
   "source": [
    "data_experiment1 = filter(x->x.mut_x .<= 1, data_train)\n",
    "data_experiment2 = filter(x->x.mut_x .> 1, data_train);"
   ]
  },
  {
   "cell_type": "markdown",
   "id": "edcfff79",
   "metadata": {},
   "source": [
    "# Distances"
   ]
  },
  {
   "cell_type": "code",
   "execution_count": 21,
   "id": "58ad5d8e",
   "metadata": {},
   "outputs": [],
   "source": [
    "dist_exp1 = map(x->evaluate(Levenshtein(), x, wt_aa), data_experiment1.aa_x)\n",
    "dist_exp2 = map(x->evaluate(Levenshtein(), x, wt_aa), data_experiment2.aa_x)\n",
    "dist_exp3 = map(x->evaluate(Levenshtein(), x, wt_aa), data_experiment3.aa_x);"
   ]
  },
  {
   "cell_type": "code",
   "execution_count": 27,
   "id": "ff67a8f8",
   "metadata": {},
   "outputs": [
    {
     "data": {
      "image/png": "[encoded data removed]",
      "text/plain": [
       "Figure(PyObject <Figure size 1200x400 with 3 Axes>)"
      ]
     },
     "metadata": {},
     "output_type": "display_data"
    },
    {
     "data": {
      "text/plain": [
       "PyObject Text(0.5, 1.0, 'experiment 3')"
      ]
     },
     "execution_count": 27,
     "metadata": {},
     "output_type": "execute_result"
    }
   ],
   "source": [
    "fig, ax = subplots(1,3, figsize=(12,4))\n",
    "\n",
    "ax[1].scatter(data_experiment1.mut_x, dist_exp1, s=2)\n",
    "ax[1].set_xlabel(\"distances according to the article\")\n",
    "ax[1].set_ylabel(\"Levenshtein distance\")\n",
    "ax[1].set_title(\"experiment 1\")\n",
    "\n",
    "ax[2].scatter(data_experiment2.mut_x, dist_exp2, s=2)\n",
    "ax[2].set_xlabel(\"distances according to the article\")\n",
    "ax[2].set_ylabel(\"Levenshtein distance\")\n",
    "ax[2].set_title(\"experiment 2\")\n",
    "\n",
    "ax[3].scatter(data_experiment3.mut_x, dist_exp3, s=2)\n",
    "ax[3].set_xlabel(\"distances according to the article\")\n",
    "ax[3].set_ylabel(\"Levenshtein distance\")\n",
    "ax[3].set_title(\"experiment 3\")"
   ]
  },
  {
   "cell_type": "markdown",
   "id": "b800fe7e",
   "metadata": {},
   "source": [
    "# merge counts"
   ]
  },
  {
   "cell_type": "code",
   "execution_count": null,
   "id": "50d714fe",
   "metadata": {},
   "outputs": [],
   "source": [
    "seq_counts_experiment1 = Dict{String, Vector{Int}}()\n",
    "seq_counts_experiment2 = Dict{String, Vector{Int}}()\n",
    "seq_counts_experiment3 = Dict{String, Vector{Int}}()"
   ]
  },
  {
   "cell_type": "code",
   "execution_count": null,
   "id": "f7f70a1c",
   "metadata": {},
   "outputs": [],
   "source": [
    "function merge_counts!(data, seq_counts)\n",
    "    @assert length(seq_counts) == 0\n",
    "    for k in axes(data,1)\n",
    "        uc_seq = uppercase(data.aa_x[k])\n",
    "        if haskey(seq_counts, uc_seq)\n",
    "            seq_counts[uc_seq][1] += data.GAS1_plasmid_N[k]\n",
    "            seq_counts[uc_seq][2] += data.GAS1_virus_N[k]\n",
    "        else\n",
    "            push!(seq_counts, uc_seq => [data.GAS1_plasmid_N[k], data.GAS1_virus_N[k]])\n",
    "        end\n",
    "    end\n",
    "    return\n",
    "end         "
   ]
  },
  {
   "cell_type": "code",
   "execution_count": null,
   "id": "523489d3",
   "metadata": {},
   "outputs": [],
   "source": [
    "merge_counts!(data_experiment1, seq_counts_experiment1)\n",
    "merge_counts!(data_experiment2, seq_counts_experiment2)\n",
    "merge_counts!(data_experiment3, seq_counts_experiment3)"
   ]
  },
  {
   "cell_type": "code",
   "execution_count": null,
   "id": "ad5cd49e",
   "metadata": {},
   "outputs": [],
   "source": [
    "sum(data_experiment1.GAS1_plasmid_N) == sum(map(x->seq_counts_experiment1[x][1], collect(keys(seq_counts_experiment1))))"
   ]
  },
  {
   "cell_type": "code",
   "execution_count": null,
   "id": "d2060ffe",
   "metadata": {},
   "outputs": [],
   "source": [
    "sum(data_experiment2.GAS1_plasmid_N) == sum(map(x->seq_counts_experiment2[x][1], collect(keys(seq_counts_experiment2))))"
   ]
  },
  {
   "cell_type": "code",
   "execution_count": null,
   "id": "3ab14d5c",
   "metadata": {},
   "outputs": [],
   "source": [
    "sum(data_experiment3.GAS1_plasmid_N) == sum(map(x->seq_counts_experiment3[x][1], collect(keys(seq_counts_experiment3))))"
   ]
  },
  {
   "cell_type": "code",
   "execution_count": null,
   "id": "7aa02e2e",
   "metadata": {},
   "outputs": [],
   "source": [
    "sum(data_experiment1.GAS1_virus_N) == sum(map(x->seq_counts_experiment1[x][2], collect(keys(seq_counts_experiment1))))"
   ]
  },
  {
   "cell_type": "code",
   "execution_count": null,
   "id": "bcc66b8b",
   "metadata": {},
   "outputs": [],
   "source": [
    "sum(data_experiment2.GAS1_virus_N) == sum(map(x->seq_counts_experiment2[x][2], collect(keys(seq_counts_experiment2))))"
   ]
  },
  {
   "cell_type": "code",
   "execution_count": null,
   "id": "3f5fe197",
   "metadata": {},
   "outputs": [],
   "source": [
    "sum(data_experiment3.GAS1_virus_N) == sum(map(x->seq_counts_experiment3[x][2], collect(keys(seq_counts_experiment3))))"
   ]
  },
  {
   "cell_type": "markdown",
   "id": "221a0ff9",
   "metadata": {},
   "source": [
    "# merged data"
   ]
  },
  {
   "cell_type": "code",
   "execution_count": null,
   "id": "de791d74",
   "metadata": {},
   "outputs": [],
   "source": [
    "sequences_experiment1 = collect(keys(seq_counts_experiment1))\n",
    "sequences_experiment2 = collect(keys(seq_counts_experiment2))\n",
    "sequences_experiment3 = collect(keys(seq_counts_experiment3));"
   ]
  },
  {
   "cell_type": "code",
   "execution_count": null,
   "id": "cb2235b5",
   "metadata": {},
   "outputs": [],
   "source": [
    "counts_experiment1 = zeros(Int, length(sequences_experiment1), 2)\n",
    "counts_experiment2 = zeros(Int, length(sequences_experiment2), 2)\n",
    "counts_experiment3 = zeros(Int, length(sequences_experiment3), 2);"
   ]
  },
  {
   "cell_type": "code",
   "execution_count": null,
   "id": "49af4f67",
   "metadata": {},
   "outputs": [],
   "source": [
    "for (i, s) in pairs(sequences_experiment1)\n",
    "    counts_experiment1[i, 1] = seq_counts_experiment1[s][1]\n",
    "    counts_experiment1[i, 2] = seq_counts_experiment1[s][2]\n",
    "end"
   ]
  },
  {
   "cell_type": "code",
   "execution_count": null,
   "id": "c21c1429",
   "metadata": {},
   "outputs": [],
   "source": [
    "for (i, s) in pairs(sequences_experiment2)\n",
    "    counts_experiment2[i, 1] = seq_counts_experiment2[s][1]\n",
    "    counts_experiment2[i, 2] = seq_counts_experiment2[s][2]\n",
    "end"
   ]
  },
  {
   "cell_type": "code",
   "execution_count": null,
   "id": "a987bf9c",
   "metadata": {},
   "outputs": [],
   "source": [
    "for (i, s) in pairs(sequences_experiment3)\n",
    "    counts_experiment3[i, 1] = seq_counts_experiment3[s][1]\n",
    "    counts_experiment3[i, 2] = seq_counts_experiment3[s][2]\n",
    "end"
   ]
  },
  {
   "cell_type": "code",
   "execution_count": null,
   "id": "19c0ba2c",
   "metadata": {},
   "outputs": [],
   "source": [
    "@save \"/home/matteo/Projects/AAV2/my_datadata_experiment1.jld2\" sequences_experiment1 counts_experiment1 wt_aa"
   ]
  },
  {
   "cell_type": "code",
   "execution_count": null,
   "id": "e09a490d",
   "metadata": {},
   "outputs": [],
   "source": [
    "@save \"/home/matteo/Projects/AAV2/my_datadata_experiment2.jld2\" sequences_experiment2 counts_experiment2"
   ]
  },
  {
   "cell_type": "code",
   "execution_count": null,
   "id": "d9f0c943",
   "metadata": {},
   "outputs": [],
   "source": [
    "@save \"/home/matteo/Projects/AAV2/my_datadata_experiment3.jld2\" sequences_experiment3 counts_experiment3"
   ]
  },
  {
   "cell_type": "markdown",
   "id": "d4ec2295",
   "metadata": {},
   "source": [
    "# thresholds"
   ]
  },
  {
   "cell_type": "code",
   "execution_count": null,
   "id": "bd8610b4",
   "metadata": {},
   "outputs": [],
   "source": [
    "using PyPlot\n",
    "pygui(true)"
   ]
  },
  {
   "cell_type": "code",
   "execution_count": null,
   "id": "890d8dc2",
   "metadata": {},
   "outputs": [],
   "source": [
    "θexp1 = [log(counts_experiment1[m,2] / counts_experiment1[m,1]) for m in axes(counts_experiment1, 1)]\n",
    "θexp2 = [log(counts_experiment2[m,2] / counts_experiment2[m,1]) for m in axes(counts_experiment2, 1)]\n",
    "θexp3 = [log(counts_experiment3[m,2] / counts_experiment3[m,1]) for m in axes(counts_experiment3, 1)];"
   ]
  },
  {
   "cell_type": "code",
   "execution_count": null,
   "id": "758e2809",
   "metadata": {},
   "outputs": [],
   "source": [
    "fig, ax = subplots(1, 3, figsize=(18,4))\n",
    "\n",
    "ax[1].hist(filter(isfinite, θexp1), alpha=0.5, bins=25)\n",
    "ax[2].hist(filter(isfinite, θexp2), alpha=0.1, bins=100)\n",
    "ax[3].hist(filter(isfinite, θexp3), alpha=0.1, bins=100)\n",
    "show()"
   ]
  }
 ],
 "metadata": {
  "kernelspec": {
   "display_name": "Julia 1.9.3",
   "language": "julia",
   "name": "julia-1.9"
  },
  "language_info": {
   "file_extension": ".jl",
   "mimetype": "application/julia",
   "name": "julia",
   "version": "1.9.3"
  }
 },
 "nbformat": 4,
 "nbformat_minor": 5
}
