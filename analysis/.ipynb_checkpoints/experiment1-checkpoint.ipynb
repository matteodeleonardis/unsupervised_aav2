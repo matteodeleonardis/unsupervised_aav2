{
 "cells": [
  {
   "cell_type": "code",
   "execution_count": null,
   "id": "8bc1c688",
   "metadata": {},
   "outputs": [],
   "source": [
    "import Pkg\n",
    "Pkg.activate(\"..\")"
   ]
  },
  {
   "cell_type": "code",
   "execution_count": null,
   "id": "a0ea48d5-f7b1-48fe-a14a-7196d2bdee65",
   "metadata": {
    "tags": []
   },
   "outputs": [],
   "source": [
    "using JLD2, BSON, Flux, PhageTree, PyPlot, BioSeqInt, Statistics, LinearAlgebra, StringDistances, DensityPlot, GaussianMixtures, Distributions"
   ]
  },
  {
   "cell_type": "code",
   "execution_count": null,
   "id": "45e451da",
   "metadata": {},
   "outputs": [],
   "source": [
    "include(\"../analysis/utils.jl\")"
   ]
  },
  {
   "cell_type": "markdown",
   "id": "0dec3dd3-6256-4e44-922c-c40467a9a873",
   "metadata": {
    "tags": []
   },
   "source": [
    "# Data\n",
    "### CNN data are filtered (<100 counts)\n",
    "Since the experimental threshold is determind by a fit, and this is performed with and expectation maximization procedure the value is not precisely the same if repeated (although the discrepancy is ininfluent). To make sure that the user is able to reproduce the exact same number from the article that fitted threshold values are attached as literals"
   ]
  },
  {
   "cell_type": "code",
   "execution_count": null,
   "id": "f3c8cb4b-acba-4959-a768-8db5935e01f9",
   "metadata": {},
   "outputs": [],
   "source": [
    "threshold_experiment1 = -1.4792505511322604"
   ]
  },
  {
   "cell_type": "code",
   "execution_count": null,
   "id": "2fbba2e2-2534-4071-b229-54a8d504ff9f",
   "metadata": {},
   "outputs": [],
   "source": [
    "threshold_experiment2 = -0.1828115693971919"
   ]
  },
  {
   "cell_type": "code",
   "execution_count": null,
   "id": "ec3f9f53",
   "metadata": {
    "scrolled": true,
    "tags": []
   },
   "outputs": [],
   "source": [
    "sequences_experiment1, counts_experiment1, labels_experiment1 = \n",
    "    load_data_cnn(\"../my_data/data_experiment1.jld2\", threshold_experiment1, \"experiment1\");"
   ]
  },
  {
   "cell_type": "code",
   "execution_count": null,
   "id": "6fe91652",
   "metadata": {
    "tags": []
   },
   "outputs": [],
   "source": [
    "sequences_experiment2, counts_experiment2, labels_experiment2 = \n",
    "    load_data_cnn(\"../my_data/data_experiment2.jld2\",threshold_experiment2, \"experiment2\");"
   ]
  },
  {
   "cell_type": "code",
   "execution_count": null,
   "id": "aebd3219",
   "metadata": {
    "tags": []
   },
   "outputs": [],
   "source": [
    "data_experiment1 = load_data_phagetree(\"../my_data/data_experiment1.jld2\", \"experiment1\");"
   ]
  },
  {
   "cell_type": "code",
   "execution_count": null,
   "id": "829273c9-a95c-4866-996d-d08560505fd5",
   "metadata": {},
   "outputs": [],
   "source": [
    "data_experiment2 = load_data_phagetree(\"../my_data/data_experiment2.jld2\", \"experiment2\");"
   ]
  },
  {
   "cell_type": "markdown",
   "id": "1eecd73e",
   "metadata": {},
   "source": [
    "# log-selectivity"
   ]
  },
  {
   "cell_type": "code",
   "execution_count": null,
   "id": "f946ae45",
   "metadata": {},
   "outputs": [],
   "source": [
    "θexperiment1 = [log(counts_experiment1[m,2] / counts_experiment1[m,1]) for m in axes(counts_experiment1, 1)];"
   ]
  },
  {
   "cell_type": "code",
   "execution_count": null,
   "id": "308bdfb3",
   "metadata": {},
   "outputs": [],
   "source": [
    "θexperiment2 = [log(counts_experiment2[m,2] / counts_experiment2[m,1]) for m in axes(counts_experiment2, 1)];"
   ]
  },
  {
   "cell_type": "code",
   "execution_count": null,
   "id": "1ba60c64",
   "metadata": {},
   "outputs": [],
   "source": [
    "fig, ax = subplots(1,2, figsize=(10,4))\n",
    "ax[1].axvline(threshold_experiment1, color=\"red\")\n",
    "ax[1].hist(filter(isfinite, θexperiment1), bins=100)\n",
    "ax[1].set_xlabel(\"θ\")\n",
    "ax[1].set_title(\"experiment 1\")\n",
    "ax[1].legend([\"threshold\", \"empirical log-selectivity\"])\n",
    "\n",
    "ax[2].axvline(threshold_experiment2, color=\"red\")\n",
    "ax[2].hist(filter(isfinite, θexperiment2), bins=100)\n",
    "ax[2].set_xlabel(\"θ\")\n",
    "ax[2].set_title(\"experiment 2\")\n",
    "ax[2].legend([\"threshold\", \"empirical log-selectivity\"])"
   ]
  },
  {
   "cell_type": "markdown",
   "id": "70b8f8e9-5cba-4bfb-9012-65360fdc4ea8",
   "metadata": {},
   "source": [
    "# CNN"
   ]
  },
  {
   "cell_type": "code",
   "execution_count": null,
   "id": "b4980020-5408-45a4-b5ee-d90c0837c7b8",
   "metadata": {},
   "outputs": [],
   "source": [
    "file_cnn = BSON.load(\"../cnn_models/train_experiment1_thrfit.bson\")\n",
    "model_cnn = file_cnn[:model]\n",
    "history_cnn = file_cnn[:history]"
   ]
  },
  {
   "cell_type": "code",
   "execution_count": null,
   "id": "15981fb3",
   "metadata": {},
   "outputs": [],
   "source": [
    "plot(get(history_cnn, :training_loss)...)\n",
    "title(\"training\")\n",
    "xlabel(\"epochs\")\n",
    "ylabel(\"loss\");"
   ]
  },
  {
   "cell_type": "code",
   "execution_count": null,
   "id": "5db17441",
   "metadata": {},
   "outputs": [],
   "source": [
    "logits_experiment1 = model_cnn(sequences_experiment1) |> x -> x[2,:] .- x[1,:];"
   ]
  },
  {
   "cell_type": "code",
   "execution_count": null,
   "id": "aecc33c1",
   "metadata": {},
   "outputs": [],
   "source": [
    "logits_experiment2 = model_cnn(sequences_experiment2) |> x -> x[2,:] .- x[1,:];"
   ]
  },
  {
   "cell_type": "code",
   "execution_count": null,
   "id": "4c0d8be5",
   "metadata": {},
   "outputs": [],
   "source": [
    "fig, ax = subplots(1,2, figsize=(10,4))\n",
    "\n",
    "plot_density(θexperiment1, logits_experiment1, ax[1], filter=false)\n",
    "ax[1].set_title(\"experiment 1 (training)\")\n",
    "ax[1].set_xlabel(\"θ\")\n",
    "ax[1].set_ylabel(\"logits\");\n",
    "\n",
    "plot_density(θexperiment2, logits_experiment2, ax[2], filter=true)\n",
    "ax[2].set_title(\"experiment 2 (test), ρ=$(round(cor_sp(θexperiment2, logits_experiment2), digits=2))\")\n",
    "ax[2].set_xlabel(\"θ\")\n",
    "ax[2].set_ylabel(\"logits\");"
   ]
  },
  {
   "cell_type": "code",
   "execution_count": null,
   "id": "3b7bf8dc-9115-4a0e-894a-111ced2820c0",
   "metadata": {},
   "outputs": [],
   "source": [
    "println(\"training accuracy: \",\n",
    "compute_accuracy(logits_experiment1, 0.0, θexperiment1, threshold_experiment1))"
   ]
  },
  {
   "cell_type": "code",
   "execution_count": null,
   "id": "6912df10",
   "metadata": {},
   "outputs": [],
   "source": [
    "println(\"test accuracy: \",\n",
    "compute_accuracy(logits_experiment2, 0.0, θexperiment2, threshold_experiment2))"
   ]
  },
  {
   "cell_type": "code",
   "execution_count": null,
   "id": "2676131c-9952-4dc5-8f3b-b803c753640f",
   "metadata": {},
   "outputs": [],
   "source": [
    "true_pos_cnn, false_pos_cnn = roc(logits_experiment2, θexperiment2, threshold_experiment2);"
   ]
  },
  {
   "cell_type": "code",
   "execution_count": null,
   "id": "6a44ebab-2502-4181-a047-298bff53727e",
   "metadata": {},
   "outputs": [],
   "source": [
    "auc_val_cnn = auc(false_pos_cnn, true_pos_cnn) |> mean\n",
    "println(\"AUC: \", auc_val_cnn)"
   ]
  },
  {
   "cell_type": "code",
   "execution_count": null,
   "id": "2ff64e72-1165-47f6-91c4-3494992dbe10",
   "metadata": {},
   "outputs": [],
   "source": [
    "plot(false_pos_cnn, true_pos_cnn)\n",
    "title(\"ROC. Experiment 2 prediction. \\n (Neural Network model)\")\n",
    "xlabel(\"false positive fraction\")\n",
    "ylabel(\"true positive fraction\")\n",
    "legend([\"AUC = $(round(auc_val_cnn, digits=2))\"])"
   ]
  },
  {
   "cell_type": "code",
   "execution_count": null,
   "id": "29e20e44-3cf1-4d26-97b1-63663369cef5",
   "metadata": {},
   "outputs": [],
   "source": [
    "println(\"confusion matrix \\n\")\n",
    "confusion_matrix(logits_experiment2, 0.0, θexperiment2, threshold_experiment2)"
   ]
  },
  {
   "cell_type": "markdown",
   "id": "c20c8d81-a1e6-49c2-8219-cb2a1de1d4cf",
   "metadata": {},
   "source": [
    "# PhageTree"
   ]
  },
  {
   "cell_type": "code",
   "execution_count": null,
   "id": "0325021a-8c72-4662-9e29-638c6f80b539",
   "metadata": {},
   "outputs": [],
   "source": [
    "file_phagetree = BSON.load(\"../phagetree_models/train_experiment1_b256_better.bson\")\n",
    "model_pt = file_phagetree[:model]\n",
    "history_pt = file_phagetree[:history]"
   ]
  },
  {
   "cell_type": "code",
   "execution_count": null,
   "id": "8247b737-1f81-4b94-af4e-c27deb95e24c",
   "metadata": {},
   "outputs": [],
   "source": [
    "plot(get(history_pt, :loglikelihood)...)\n",
    "title(\"training\")\n",
    "xlabel(\"epochs\")\n",
    "ylabel(\"loglikelihood\");"
   ]
  },
  {
   "cell_type": "code",
   "execution_count": null,
   "id": "54bfd7d3-8285-47f4-aa2a-8976b0049eb9",
   "metadata": {
    "tags": []
   },
   "outputs": [],
   "source": [
    "ls_experiment1 = vec(log_selectivities(model_pt, data_experiment1));"
   ]
  },
  {
   "cell_type": "code",
   "execution_count": null,
   "id": "f3f26d77-7c76-4cff-b1c1-9283c823a09d",
   "metadata": {},
   "outputs": [],
   "source": [
    "ls_experiment2 = vec(log_selectivities(model_pt, data_experiment2))\n",
    "ls_experiment2_filtered = ls_experiment2[data_experiment2.counts[:,1].>=100];"
   ]
  },
  {
   "cell_type": "code",
   "execution_count": null,
   "id": "4be87d18-3faf-452f-9f67-2c5a803f814c",
   "metadata": {},
   "outputs": [],
   "source": [
    "θexperiment1_pt = vec(log_selectivities(data_experiment1));"
   ]
  },
  {
   "cell_type": "code",
   "execution_count": null,
   "id": "40e18d85-ba71-49a3-8bcf-822bb24ccbba",
   "metadata": {},
   "outputs": [],
   "source": [
    "θexperiment2_pt = vec(log_selectivities(data_experiment2));"
   ]
  },
  {
   "cell_type": "code",
   "execution_count": null,
   "id": "09d278cc-dc72-4332-8df4-e8ff964193db",
   "metadata": {},
   "outputs": [],
   "source": [
    "fig, ax = subplots(1,2, figsize=(10,4))\n",
    "\n",
    "plot_density(θexperiment1_pt, ls_experiment1, ax[1])\n",
    "ax[1].set_title(\"experiment 1 (training)\")\n",
    "ax[1].set_xlabel(\"θ\")\n",
    "ax[1].set_ylabel(\"log selectivity\")\n",
    "\n",
    "plot_density(θexperiment2, ls_experiment2_filtered, ax[2], filter=true)\n",
    "ax[2].set_title(\"experiment 2 (test), ρ = $(round(cor_sp(θexperiment2, ls_experiment2_filtered), digits=2))\")\n",
    "ax[2].set_xlabel(\"θ\")\n",
    "ax[2].set_ylabel(\"log selectivity\")"
   ]
  },
  {
   "cell_type": "code",
   "execution_count": null,
   "id": "e83f3761-4c10-47ce-8d88-21d603a49244",
   "metadata": {},
   "outputs": [],
   "source": [
    "true_pos_pt, false_pos_pt = roc(ls_experiment2_filtered, θexperiment2, threshold_experiment2);"
   ]
  },
  {
   "cell_type": "code",
   "execution_count": null,
   "id": "121818dd-7fcf-44c2-8dd2-0ca2f957bd86",
   "metadata": {},
   "outputs": [],
   "source": [
    "auc_val_pt = auc(false_pos_pt, true_pos_pt) |> mean\n",
    "println(\"AUC: \", auc_val_pt)"
   ]
  },
  {
   "cell_type": "code",
   "execution_count": null,
   "id": "a7031452-8c25-4072-899b-c96df505cd08",
   "metadata": {},
   "outputs": [],
   "source": [
    "plot(false_pos_pt, true_pos_pt)\n",
    "title(\"ROC. Experiment 2 prediction.\")\n",
    "xlabel(\"false positive fraction\")\n",
    "ylabel(\"true positive fraction\")\n",
    "legend([\"AUC = $(round(auc_val_pt, digits=2))\"])"
   ]
  },
  {
   "cell_type": "code",
   "execution_count": null,
   "id": "6d015b0d-f022-42ae-9b64-ebc47acf7d5d",
   "metadata": {},
   "outputs": [],
   "source": [
    "figure(figsize=(8,8))\n",
    "plot(false_pos_pt, true_pos_pt, color=\"#ff7f0e\")\n",
    "plot(false_pos_cnn, true_pos_cnn, color=\"#1f77b4\")\n",
    "plot([0,1],[0,1], color=\"black\", linestyle=\"dashed\")\n",
    "title(\"ROC. Experiment 2 prediction.\", fontsize=16)\n",
    "xlabel(\"false positive fraction\", fontsize=16)\n",
    "ylabel(\"true positive fraction\", fontsize=16)\n",
    "legend([\"Biophysical model AUC = $(round(auc_val_pt, digits=2))\", \"Binary classifier AUC = $(round(auc_val_cnn, digits=2))\"], fontsize=16)\n",
    "xticks(fontsize=16)\n",
    "yticks(fontsize=16);\n",
    "ax = gca()\n",
    "ax.set_aspect(\"equal\")\n",
    "savefig(\"../figures/exp2_roc.pdf\", format=\"pdf\", bbox_inches=\"tight\")"
   ]
  },
  {
   "cell_type": "code",
   "execution_count": null,
   "id": "3a7223ee-0471-497c-ba44-e107bca844a5",
   "metadata": {},
   "outputs": [],
   "source": [
    "ls_threshold = optimal_threshold(ls_experiment2_filtered, true_pos_pt, false_pos_pt)"
   ]
  },
  {
   "cell_type": "code",
   "execution_count": null,
   "id": "81f7f447",
   "metadata": {},
   "outputs": [],
   "source": [
    "println(\"test accuracy: \",\n",
    "compute_accuracy(ls_experiment2_filtered, ls_threshold, θexperiment2, threshold_experiment2))"
   ]
  },
  {
   "cell_type": "code",
   "execution_count": null,
   "id": "0d323905-3e04-45c9-8fbc-6aeb71ff8fe1",
   "metadata": {},
   "outputs": [],
   "source": [
    "println(\"confusion matrix \\n\")\n",
    "confusion_mat_gscore_exp2=confusion_matrix(ls_experiment2_filtered, ls_threshold, θexperiment2, threshold_experiment2)"
   ]
  },
  {
   "cell_type": "code",
   "execution_count": null,
   "id": "5e89cfcb-efea-4085-a19c-de030dc36db3",
   "metadata": {},
   "outputs": [],
   "source": [
    "figure(figsize=(8,6))\n",
    "plot_density(θexperiment2, ls_experiment2_filtered, filter=true)\n",
    "title(\"Experiment 2 prediction\", fontsize=16)\n",
    "xlabel(\"experimental log-selectivity\", fontsize=16)\n",
    "ylabel(\"inferred log-probability viable state\", fontsize=16)\n",
    "text(0,-6, \"Pearson corr. = $(round(cor_sp(θexperiment2, ls_experiment2_filtered), digits=2))\", fontsize=14,\n",
    "    bbox=Dict(\"boxstyle\"=>\"round\", \"facecolor\"=>\"white\"))\n",
    "xticks(fontsize=16)\n",
    "yticks(fontsize=16);\n",
    "savefig(\"../figures/exp2_prediction.pdf\", format=\"pdf\", bbox_inches=\"tight\", dpi=150)"
   ]
  },
  {
   "cell_type": "markdown",
   "id": "18b9a047-5274-46a6-921f-4f1b13e37ea1",
   "metadata": {},
   "source": [
    "### Choosing the threshold in an unsupervised manner"
   ]
  },
  {
   "cell_type": "code",
   "execution_count": null,
   "id": "6c16cd11-2434-4cdc-a73f-fde070548dad",
   "metadata": {},
   "outputs": [],
   "source": [
    "energies_exp1 = energies(data_experiment1.sequences, model_pt.states[2])\n",
    "energies_exp2 = energies(data_experiment2.sequences[:,:,data_experiment2.counts[:,1].>= 100], model_pt.states[2]);"
   ]
  },
  {
   "cell_type": "code",
   "execution_count": null,
   "id": "2869ff92-4120-402f-8721-7552d01f378a",
   "metadata": {},
   "outputs": [],
   "source": [
    "μeff = model_pt.μ[2,1] - model_pt.μ[1,1]"
   ]
  },
  {
   "cell_type": "code",
   "execution_count": null,
   "id": "73b351ab-f119-47ec-a984-61e6e7ba1097",
   "metadata": {},
   "outputs": [],
   "source": [
    "fig, ax = subplots(2,2, figsize=(10,10))\n",
    "ax[1,1].axvline(μeff, color=\"red\")\n",
    "ax[1,1].hist(energies_exp1, bins=100)\n",
    "ax[1,1].set_xlabel(\"energy\")\n",
    "ax[1,1].set_ylabel(\"counts\")\n",
    "ax[1,1].set_title(\"experiment 1\")\n",
    "ax[1,1].legend([\"μ eff\", \"inferred energies\"])\n",
    "\n",
    "ax[1,2].axvline(μeff, color=\"red\")\n",
    "ax[1,2].hist(energies_exp2, bins=100)\n",
    "ax[1,2].set_xlabel(\"energy\")\n",
    "ax[1,2].set_ylabel(\"counts\")\n",
    "ax[1,2].set_title(\"experiment 2\")\n",
    "ax[1,2].legend([\"μ eff\", \"inferred energies\"])\n",
    "\n",
    "ax[2,1].hist(exp.(ls_experiment1), bins=100)\n",
    "ax[2,1].set_xlabel(\"log ps\")\n",
    "ax[2,1].set_ylabel(\"counts\")\n",
    "ax[2,1].set_title(\"experiment 1\")\n",
    "\n",
    "ax[2,2].hist(exp.(ls_experiment2_filtered), bins=100)\n",
    "ax[2,2].set_xlabel(\"log ps\")\n",
    "ax[2,2].set_ylabel(\"counts\")\n",
    "ax[2,2].set_title(\"experiment 2\");"
   ]
  },
  {
   "cell_type": "code",
   "execution_count": null,
   "id": "36be3e88-7a58-4291-b697-0dc82ea9147d",
   "metadata": {},
   "outputs": [],
   "source": [
    "gmm = GMM(2,1)\n",
    "gmm.μ .+= randn(2,1)\n",
    "gmm.Σ .*= 1e-1;"
   ]
  },
  {
   "cell_type": "code",
   "execution_count": null,
   "id": "21f779cd-a9bf-45de-8848-bcea875585d8",
   "metadata": {},
   "outputs": [],
   "source": [
    "em!(gmm, Float64.(reshape(energies_exp2, :, 1)); nIter=120)"
   ]
  },
  {
   "cell_type": "code",
   "execution_count": null,
   "id": "bb01f2ce-f1b0-426e-81d9-8d387a8358a9",
   "metadata": {},
   "outputs": [],
   "source": [
    "xx = LinRange(-15.0, 7.0, 100)\n",
    "figure(figsize=(8,6))\n",
    "hist(energies_exp2, bins=100, density=true)\n",
    "plot(xx, eval_gmm(gmm, xx), color=\"red\")\n",
    "#plot(xx, gmm.w[1].*pdf.(Normal(gmm.μ[1,1], gmm.Σ[1,1]), xx))\n",
    "#plot(xx, gmm.w[2].*pdf.(Normal(gmm.μ[2,1], gmm.Σ[2,1]), xx))\n",
    "xlabel(\"energy\", fontsize=16)\n",
    "ylabel(\"frequency density\", fontsize=16)\n",
    "legend([\"Gaussians mixture model fit\", \"inferred energies\"], fontsize=16)\n",
    "title(\"Inferred energies in experiment 2\", fontsize=16)\n",
    "#yscale(:log)\n",
    "xticks(fontsize=16)\n",
    "yticks(fontsize=16)\n",
    "savefig(\"../figures/exp2_energy_fit.pdf\", format=\"pdf\", bbox_inches=\"tight\")"
   ]
  },
  {
   "cell_type": "code",
   "execution_count": null,
   "id": "414d0c87-718d-4d49-ac96-79885991e370",
   "metadata": {},
   "outputs": [],
   "source": [
    "function find_valley(gmm, resolution::Int)\n",
    "    xmin = gmm.μ[1,1]\n",
    "    xmax = gmm.μ[2,1]\n",
    "    r = LinRange(xmin, xmax, resolution)\n",
    "    y = eval_gmm(gmm, r)\n",
    "    xvalley = argmin(y)\n",
    "    return r[xvalley]\n",
    "end"
   ]
  },
  {
   "cell_type": "code",
   "execution_count": null,
   "id": "8aa8c9ea-ae05-4592-ba6c-9ecf5fab10a1",
   "metadata": {},
   "outputs": [],
   "source": [
    "find_valley(gmm, 100)"
   ]
  },
  {
   "cell_type": "code",
   "execution_count": null,
   "id": "123b253a-f262-4d7e-ae8b-e746d0cf2eb7",
   "metadata": {},
   "outputs": [],
   "source": [
    "unsupervised_energy_threshold = 2.186591448464858"
   ]
  },
  {
   "cell_type": "code",
   "execution_count": null,
   "id": "09ed3b29-1610-480a-a2d8-7fe17a3eaa9c",
   "metadata": {},
   "outputs": [],
   "source": [
    "println(\"testing accuracy on experiment 2: \",\n",
    "compute_accuracy(-energies_exp2, -unsupervised_energy_threshold, θexperiment2, threshold_experiment2))"
   ]
  },
  {
   "cell_type": "code",
   "execution_count": null,
   "id": "0519c31f-6021-41ca-9f09-69fa1a53b938",
   "metadata": {},
   "outputs": [],
   "source": [
    "println(\"confusion matrix \\n\")\n",
    "confusion_mat_unsupervised_exp2 = confusion_matrix(-energies_exp2, -unsupervised_energy_threshold, θexperiment2, threshold_experiment2)"
   ]
  },
  {
   "cell_type": "code",
   "execution_count": null,
   "id": "68b527ed-5ad3-4cbd-af8d-a9a440983eaf",
   "metadata": {},
   "outputs": [],
   "source": [
    "figure(figsize=(8,8))\n",
    "plot(false_pos_pt, true_pos_pt)\n",
    "scatter([confusion_mat_unsupervised_exp2.fpr], [confusion_mat_unsupervised_exp2.tpr], s=30, color=\"red\")\n",
    "scatter([confusion_mat_gscore_exp2.fpr], [confusion_mat_gscore_exp2.tpr], s=30, color=\"green\")\n",
    "plot([0,1],[0,1], color=\"black\", linestyle=\"dashed\")\n",
    "title(\"ROC. Experiment 2 prediction.\", fontsize=16)\n",
    "xlabel(\"false positive fraction\", fontsize=16)\n",
    "ylabel(\"true positive fraction\", fontsize=16)\n",
    "legend([\"biophysical model ROC (AUC = $(round(auc_val_pt, digits=2)))\", \"optimal threshold gaussian fit\", \"optimal threshold from g-score\"], fontsize=16)\n",
    "xticks(fontsize=16)\n",
    "yticks(fontsize=16)\n",
    "ax = gca()\n",
    "ax.set_aspect(\"equal\")\n",
    "savefig(\"../figures/exp2_roc_points.pdf\", format=\"pdf\", bbox_inches=\"tight\")"
   ]
  },
  {
   "cell_type": "markdown",
   "id": "72396930-52f3-4fa6-9063-1f6467b583da",
   "metadata": {},
   "source": [
    "# Distance analysis"
   ]
  },
  {
   "cell_type": "code",
   "execution_count": null,
   "id": "0f3549fa-1da9-47f3-8cf3-fe899cf9449a",
   "metadata": {},
   "outputs": [],
   "source": [
    "file_exp1 = load(\"../my_data/data_experiment1.jld2\")"
   ]
  },
  {
   "cell_type": "code",
   "execution_count": null,
   "id": "819dbd27-fc87-472e-b3de-07978a60a422",
   "metadata": {},
   "outputs": [],
   "source": [
    "wt_aa = file_exp1[\"wt_aa\"]"
   ]
  },
  {
   "cell_type": "code",
   "execution_count": null,
   "id": "1c229e1c-1fef-4f20-840a-d5669de53219",
   "metadata": {},
   "outputs": [],
   "source": [
    "sequences_string_experiment2 = onehot2string(sequences_experiment2, channel=true);"
   ]
  },
  {
   "cell_type": "code",
   "execution_count": null,
   "id": "9d1d8a8c-7e7b-45f2-92a2-84bf3e085997",
   "metadata": {},
   "outputs": [],
   "source": [
    "distances_cnn = map(x->evaluate(Levenshtein(), x, wt_aa), sequences_string_experiment2);"
   ]
  },
  {
   "cell_type": "code",
   "execution_count": null,
   "id": "bb453f4d-738b-4f50-a7ce-f9b55b1c6a05",
   "metadata": {},
   "outputs": [],
   "source": [
    "dmin, dmax = extrema(distances_cnn)"
   ]
  },
  {
   "cell_type": "code",
   "execution_count": null,
   "id": "ff0f670c-d675-4bdb-98a2-35152d3789ba",
   "metadata": {},
   "outputs": [],
   "source": [
    "accuracy_distance = zeros(dmax - dmin +1)\n",
    "for (i, d) in pairs(dmin:1:dmax)\n",
    "    idx = findall(distances_cnn .== d)\n",
    "    if length(idx) < 50\n",
    "        accuracy_distance[i] = NaN\n",
    "        continue\n",
    "    end\n",
    "    accuracy_distance[i] = compute_accuracy(logits_experiment2[idx], 0.0, θexperiment2[idx], threshold_experiment2)\n",
    "end"
   ]
  },
  {
   "cell_type": "code",
   "execution_count": null,
   "id": "d418b8ad-fe0e-428d-9eef-231d8b684ae1",
   "metadata": {},
   "outputs": [],
   "source": [
    "accuracy_distance_energy = zeros(dmax - dmin +1)\n",
    "for (i, d) in pairs(dmin:1:dmax)\n",
    "    idx = findall(distances_cnn .== d)\n",
    "    if length(idx) < 50\n",
    "        accuracy_distance_energy[i] = NaN\n",
    "        continue\n",
    "    end\n",
    "    accuracy_distance_energy[i] = compute_accuracy(-energies_exp2[idx], -unsupervised_energy_threshold, \n",
    "        θexperiment2[idx], threshold_experiment2)\n",
    "end"
   ]
  },
  {
   "cell_type": "code",
   "execution_count": null,
   "id": "2319a362-62d6-4270-9535-263e0ea49661",
   "metadata": {},
   "outputs": [],
   "source": [
    "pearson_distance = zeros(dmax - dmin +1)\n",
    "for (i, d) in pairs(dmin:1:dmax)\n",
    "    idx = findall(distances_cnn .== d)\n",
    "    if length(idx) < 50\n",
    "        pearson_distance[i] = NaN\n",
    "        continue\n",
    "    end\n",
    "    pearson_distance[i] = cor_sp(θexperiment2[idx], ls_experiment2_filtered[idx])\n",
    "end"
   ]
  },
  {
   "cell_type": "code",
   "execution_count": null,
   "id": "0ab49dc1-4bd2-4dc3-8703-489a961120f8",
   "metadata": {},
   "outputs": [],
   "source": [
    "viable_frac = zeros(dmax - dmin +1)\n",
    "for (i, d) in pairs(dmin:1:dmax)\n",
    "    idx = findall(distances_cnn .== d)\n",
    "    if length(idx) < 50\n",
    "        viable_frac[i] = NaN\n",
    "        continue\n",
    "    end\n",
    "    viable_frac[i] = sum(θexperiment2[idx] .>= threshold_experiment2)/length(idx)\n",
    "end"
   ]
  },
  {
   "cell_type": "code",
   "execution_count": null,
   "id": "6012dc69-64a1-487b-ba49-5bb2fae162fd",
   "metadata": {},
   "outputs": [],
   "source": [
    "figure(figsize=(8,6))\n",
    "plot(dmin:dmax, accuracy_distance, marker=\"o\")\n",
    "plot(dmin:dmax, accuracy_distance_energy, marker=\"p\")\n",
    "plot(dmin:dmax, viable_frac, marker=\"s\", color=\"#2ca02c\")\n",
    "legend([\"binary classifier\", \"biophysical model\", \"viable fraction\"], fontsize=16)\n",
    "ylabel(\"accuracy / fraction\", fontsize=16)\n",
    "xlabel(\"distance from WT\", fontsize=16)\n",
    "title(\"Experiment 2. Robustness and diversity.\", fontsize=16)\n",
    "xticks(fontsize=16)\n",
    "yticks(fontsize=16)\n",
    "savefig(\"../figures/exp2_distance_accuracy.pdf\", format=\"pdf\", bbox_inches=\"tight\")"
   ]
  },
  {
   "cell_type": "code",
   "execution_count": null,
   "id": "878b3c09-3974-4e09-912b-9b04de67060f",
   "metadata": {},
   "outputs": [],
   "source": [
    "figure(figsize=(8,6))\n",
    "plot(dmin:dmax, pearson_distance, marker=\"o\", color=\"#ff7f0e\")\n",
    "plot(dmin:dmax, viable_frac, marker=\"s\", color=\"#2ca02c\")\n",
    "legend([\"biophysical model\", \"viable fraction\"], fontsize=16)\n",
    "ylabel(\"Pearson / fraction\", fontsize=16)\n",
    "xlabel(\"distance from WT\", fontsize=16)\n",
    "title(\"Experiment 2. Robustness and diversity.\", fontsize=16)\n",
    "xticks(fontsize=16)\n",
    "yticks(fontsize=16)\n",
    "savefig(\"../figures/exp2_distance_pearson.pdf\", format=\"pdf\", bbox_inches=\"tight\")"
   ]
  },
  {
   "cell_type": "code",
   "execution_count": null,
   "id": "19129c14-ba82-433c-b31d-23bd429335e1",
   "metadata": {},
   "outputs": [],
   "source": []
  }
 ],
 "metadata": {
  "kernelspec": {
   "display_name": "Julia 1.8.5",
   "language": "julia",
   "name": "julia-1.8"
  },
  "language_info": {
   "file_extension": ".jl",
   "mimetype": "application/julia",
   "name": "julia",
   "version": "1.8.5"
  }
 },
 "nbformat": 4,
 "nbformat_minor": 5
}
