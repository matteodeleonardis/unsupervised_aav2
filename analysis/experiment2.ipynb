{
 "cells": [
  {
   "cell_type": "code",
   "execution_count": 1,
   "id": "7b82a24c-eeb1-46e4-8cd8-70d3690ba37a",
   "metadata": {},
   "outputs": [
    {
     "name": "stderr",
     "output_type": "stream",
     "text": [
      "\u001b[32m\u001b[1m  Activating\u001b[22m\u001b[39m project at `~/unsupervised_aav2`\n"
     ]
    }
   ],
   "source": [
    "import Pkg\n",
    "Pkg.activate(\"..\")"
   ]
  },
  {
   "cell_type": "code",
   "execution_count": 2,
   "id": "5d8ac075-1a37-427f-af9f-a0c27b7171d9",
   "metadata": {},
   "outputs": [],
   "source": [
    "using JLD2, BSON, Flux, PhageTree, PyPlot, BioSeqInt, Statistics, DensityPlot, LinearAlgebra, StringDistances,\n",
    "    GaussianMixtures, Distributions"
   ]
  },
  {
   "cell_type": "code",
   "execution_count": 3,
   "id": "96813836-1b32-460d-a93c-8ebf33b1d848",
   "metadata": {},
   "outputs": [
    {
     "data": {
      "text/plain": [
       "binomial_threshold (generic function with 1 method)"
      ]
     },
     "execution_count": 3,
     "metadata": {},
     "output_type": "execute_result"
    }
   ],
   "source": [
    "include(\"../analysis/utils.jl\")"
   ]
  },
  {
   "cell_type": "code",
   "execution_count": 4,
   "id": "d77b2ac0-c88a-481a-940c-359ac22798e4",
   "metadata": {},
   "outputs": [],
   "source": [
    "using PhageTree:Data"
   ]
  },
  {
   "cell_type": "markdown",
   "id": "5837d50e-5378-445f-bf18-f95e62a1472f",
   "metadata": {},
   "source": [
    "# Data"
   ]
  },
  {
   "cell_type": "markdown",
   "id": "f9086716-3d2e-4076-8d53-11996946276f",
   "metadata": {},
   "source": [
    "### experiments 1 and 2\n",
    "### cnn data are filtered (<100 counts)"
   ]
  },
  {
   "cell_type": "code",
   "execution_count": 5,
   "id": "8d275411-b020-4ff8-b9d1-01de52731f3b",
   "metadata": {},
   "outputs": [
    {
     "data": {
      "text/plain": [
       "-1.4792505511322604"
      ]
     },
     "execution_count": 5,
     "metadata": {},
     "output_type": "execute_result"
    }
   ],
   "source": [
    "threshold_experiment1 = -1.4792505511322604"
   ]
  },
  {
   "cell_type": "code",
   "execution_count": 6,
   "id": "1fc4ad3d-2bc3-43ea-a443-d85ecbe50ace",
   "metadata": {},
   "outputs": [
    {
     "data": {
      "text/plain": [
       "-0.1828115693971919"
      ]
     },
     "execution_count": 6,
     "metadata": {},
     "output_type": "execute_result"
    }
   ],
   "source": [
    "threshold_experiment2 = -0.1828115693971919"
   ]
  },
  {
   "cell_type": "code",
   "execution_count": 7,
   "id": "193db0af-6297-4a4f-8ce8-46ad0a4d750a",
   "metadata": {},
   "outputs": [
    {
     "data": {
      "text/plain": [
       "1.2303188241388179"
      ]
     },
     "execution_count": 7,
     "metadata": {},
     "output_type": "execute_result"
    }
   ],
   "source": [
    "threshold_experiment3 = 1.2303188241388179"
   ]
  },
  {
   "cell_type": "code",
   "execution_count": 8,
   "id": "c588f1b3-4ea9-4e89-ab29-a9477c8bfc19",
   "metadata": {},
   "outputs": [],
   "source": [
    "sequences_experiment1, counts_experiment1, labels_experiment1 = \n",
    "    load_data_cnn(\"../my_data/data_experiment1.jld2\", threshold_experiment1, \"experiment1\");"
   ]
  },
  {
   "cell_type": "code",
   "execution_count": 9,
   "id": "ef242120-ba6c-4b08-891e-764d96b9f978",
   "metadata": {},
   "outputs": [],
   "source": [
    "sequences_experiment2, counts_experiment2, labels_experiment2 = \n",
    "    load_data_cnn(\"../my_data/data_experiment2.jld2\",threshold_experiment2, \"experiment2\");"
   ]
  },
  {
   "cell_type": "code",
   "execution_count": 10,
   "id": "7f698756-5359-4cdb-8259-75490d20a8a1",
   "metadata": {},
   "outputs": [],
   "source": [
    "plasmid_experiment1, virus_experiment1 = load_experiment_phagetree(\"../my_data/data_experiment1.jld2\", \"experiment1\");"
   ]
  },
  {
   "cell_type": "code",
   "execution_count": 11,
   "id": "78eda1ca-3ca8-4696-8e35-bc7102a8f9fa",
   "metadata": {},
   "outputs": [],
   "source": [
    "plasmid_experiment2, virus_experiment2 = load_experiment_phagetree(\"../my_data/data_experiment2.jld2\", \"experiment2\");"
   ]
  },
  {
   "cell_type": "code",
   "execution_count": 12,
   "id": "870800a8-10a5-4748-85c6-04533e4f356d",
   "metadata": {},
   "outputs": [],
   "source": [
    "data_experiments = Data(plasmid_experiment1, plasmid_experiment2);"
   ]
  },
  {
   "cell_type": "code",
   "execution_count": 13,
   "id": "c3831895-0004-4907-b1fe-829629deefbb",
   "metadata": {},
   "outputs": [],
   "source": [
    "sequences_experiment3, counts_experiment3, labels_experiment3 = \n",
    "    load_data_cnn(\"../my_data/data_experiment3.jld2\", threshold_experiment3, \"experiment3\");"
   ]
  },
  {
   "cell_type": "code",
   "execution_count": 14,
   "id": "01af7aed-ce47-4c64-b9c6-0f90bc99cd88",
   "metadata": {},
   "outputs": [],
   "source": [
    "data_experiment3 = load_data_phagetree(\"../my_data/data_experiment3.jld2\", \"experiment3\");"
   ]
  },
  {
   "cell_type": "markdown",
   "id": "0cd08e04-8eff-4ba2-aada-317a4c85ebdb",
   "metadata": {},
   "source": [
    "# log selectivity"
   ]
  },
  {
   "cell_type": "code",
   "execution_count": 15,
   "id": "f2de35e6-b71d-4eff-a340-ddf64598dadc",
   "metadata": {},
   "outputs": [],
   "source": [
    "θexperiment1 = [log(counts_experiment1[m,2] / counts_experiment1[m,1]) for m in axes(counts_experiment1, 1)];"
   ]
  },
  {
   "cell_type": "code",
   "execution_count": 16,
   "id": "40bb4f82-425b-4fa9-8c1c-c667d417ebc0",
   "metadata": {},
   "outputs": [],
   "source": [
    "θexperiment2 = [log(counts_experiment2[m,2] / counts_experiment2[m,1]) for m in axes(counts_experiment2, 1)];"
   ]
  },
  {
   "cell_type": "code",
   "execution_count": 17,
   "id": "c0133537-bd4f-4725-ae4d-ae22affef023",
   "metadata": {},
   "outputs": [],
   "source": [
    "θexperiment3 = [log(counts_experiment3[m,2] / counts_experiment3[m,1]) for m in axes(counts_experiment3, 1)];"
   ]
  },
  {
   "cell_type": "code",
   "execution_count": null,
   "id": "1ea1cce0-6308-45ea-b94e-7e263e592949",
   "metadata": {},
   "outputs": [],
   "source": [
    "fig, ax = subplots(1,3, figsize=(12,4))\n",
    "\n",
    "ax[1].hist(filter(isfinite, θexperiment1), bins=100)\n",
    "ax[1].axvline(threshold_experiment1, color=\"red\")\n",
    "ax[1].set_xlabel(\"θ\")\n",
    "ax[1].set_title(\"experiment 1\")\n",
    "ax[1].legend([\"threshold\", \"empirical log-selectivity\"])\n",
    "\n",
    "ax[2].hist(filter(isfinite, θexperiment2), bins=100)\n",
    "ax[2].axvline(threshold_experiment2, color=\"red\")\n",
    "ax[2].set_xlabel(\"θ\")\n",
    "ax[2].set_title(\"experiment 2\")\n",
    "ax[2].legend([\"threshold\", \"empirical log-selectivity\"])\n",
    "\n",
    "ax[3].hist(filter(isfinite, θexperiment3), bins=100)\n",
    "ax[3].axvline(threshold_experiment3, color=\"red\")\n",
    "ax[3].set_xlabel(\"θ\")\n",
    "ax[3].set_title(\"experiment 3\")\n",
    "ax[3].legend([\"threshold\", \"empirical log-selectivity\"])"
   ]
  },
  {
   "cell_type": "markdown",
   "id": "3665ad93-aba5-4c15-aaa8-a206122717e3",
   "metadata": {},
   "source": [
    "# CNN"
   ]
  },
  {
   "cell_type": "code",
   "execution_count": 18,
   "id": "597bda87-5d10-458d-8e33-a51e3c27ad26",
   "metadata": {},
   "outputs": [
    {
     "data": {
      "text/plain": [
       "MVHistory{ValueHistories.History}\n",
       "  :training_loss => 200 elements {Int64,Float32}"
      ]
     },
     "execution_count": 18,
     "metadata": {},
     "output_type": "execute_result"
    }
   ],
   "source": [
    "file_cnn = BSON.load(\"../cnn_models/train_experiment2_thrfit.bson\")\n",
    "model_cnn = file_cnn[:model]\n",
    "history_cnn = file_cnn[:history]"
   ]
  },
  {
   "cell_type": "code",
   "execution_count": null,
   "id": "9fab9c2b-f3e2-4595-b3ba-9d915089d7e8",
   "metadata": {},
   "outputs": [],
   "source": [
    "plot(get(history_cnn, :training_loss)...)\n",
    "title(\"training\")\n",
    "xlabel(\"epochs\")\n",
    "ylabel(\"loss\");"
   ]
  },
  {
   "cell_type": "code",
   "execution_count": 19,
   "id": "c25f8dc9-1f9f-497a-8b54-41f167e4c654",
   "metadata": {},
   "outputs": [],
   "source": [
    "logits_experiment1 = model_cnn(sequences_experiment1) |> x -> x[2,:] .- x[1,:];"
   ]
  },
  {
   "cell_type": "code",
   "execution_count": 20,
   "id": "175a5172-6a80-4afa-8bc9-a6870fe6fc7d",
   "metadata": {},
   "outputs": [],
   "source": [
    "logits_experiment2 = model_cnn(sequences_experiment2) |> x -> x[2,:] .- x[1,:];"
   ]
  },
  {
   "cell_type": "code",
   "execution_count": 21,
   "id": "45ece205-9715-43c1-afa1-d9f1f8dd3322",
   "metadata": {
    "tags": []
   },
   "outputs": [
    {
     "data": {
      "text/plain": [
       "2-element Vector{Symbol}:\n",
       " :logits_experiment3\n",
       " :logits_experiment3_notfiltered"
      ]
     },
     "execution_count": 21,
     "metadata": {},
     "output_type": "execute_result"
    }
   ],
   "source": [
    "#since this line takes a lot of time you can just load them from the file \"logits_experiment3.jld2\"\n",
    "#logits_experiment3 = model_cnn(sequences_experiment3) |> x -> x[2,:] .- x[1,:];\n",
    "@load \"logits_experiment3.jld2\""
   ]
  },
  {
   "cell_type": "code",
   "execution_count": null,
   "id": "ea503398-53ae-4c32-906f-ead78de11893",
   "metadata": {},
   "outputs": [],
   "source": [
    "fig, ax = subplots(1,3, figsize=(12,4))\n",
    "\n",
    "plot_density(θexperiment1, logits_experiment1, ax[1], filter=false)\n",
    "ax[1].set_title(\"experiment 1 (training)\")\n",
    "ax[1].set_xlabel(\"θ\")\n",
    "ax[1].set_ylabel(\"logits\");\n",
    "\n",
    "plot_density(θexperiment2, logits_experiment2, ax[2], filter=true)\n",
    "ax[2].set_title(\"experiment 2 (train), ρ=$(round(cor_sp(θexperiment2, logits_experiment2), digits=2))\")\n",
    "ax[2].set_xlabel(\"θ\")\n",
    "ax[2].set_ylabel(\"logits\");\n",
    "\n",
    "plot_density(θexperiment3, logits_experiment3, ax[3], filter=true)\n",
    "ax[3].set_title(\"experiment 3 (test), ρ=$(round(cor_sp(θexperiment3, logits_experiment3), digits=2))\")\n",
    "ax[3].set_xlabel(\"θ\")\n",
    "ax[3].set_ylabel(\"logits\");"
   ]
  },
  {
   "cell_type": "code",
   "execution_count": null,
   "id": "ee198db6-972e-4136-bf27-7815e9cf9040",
   "metadata": {},
   "outputs": [],
   "source": [
    "println(\"training accuracy on experiment 1: \",\n",
    "compute_accuracy(logits_experiment1, 0.0, θexperiment1, threshold_experiment1))"
   ]
  },
  {
   "cell_type": "code",
   "execution_count": null,
   "id": "f4d6fce9-4297-4e18-bb40-b6cda0b0e3ae",
   "metadata": {},
   "outputs": [],
   "source": [
    "println(\"training accuracy on experiment 2: \",\n",
    "compute_accuracy(logits_experiment2, 0.0, θexperiment2, threshold_experiment2))"
   ]
  },
  {
   "cell_type": "code",
   "execution_count": null,
   "id": "08086317-1f33-4adb-b486-46d2e7ef6e47",
   "metadata": {},
   "outputs": [],
   "source": [
    "println(\"testing accuracy on experiment 3: \",\n",
    "compute_accuracy(logits_experiment3, 0.0, θexperiment3, threshold_experiment3))"
   ]
  },
  {
   "cell_type": "code",
   "execution_count": 22,
   "id": "d52d8dfd-606c-4207-b781-2a459101abaf",
   "metadata": {},
   "outputs": [],
   "source": [
    "true_pos_cnn, false_pos_cnn = roc(logits_experiment3, θexperiment3, threshold_experiment3);"
   ]
  },
  {
   "cell_type": "code",
   "execution_count": 23,
   "id": "ca34c93f-33cf-4184-99be-a56f5ac7a3b1",
   "metadata": {},
   "outputs": [
    {
     "name": "stdout",
     "output_type": "stream",
     "text": [
      "AUC: 0.8374523213960289\n"
     ]
    }
   ],
   "source": [
    "auc_val_cnn = auc(false_pos_cnn, true_pos_cnn) |> mean\n",
    "println(\"AUC: \", auc_val_cnn)"
   ]
  },
  {
   "cell_type": "code",
   "execution_count": null,
   "id": "c72f6153-e007-44c6-8e70-3ec77f94ae02",
   "metadata": {},
   "outputs": [],
   "source": [
    "plot(false_pos_cnn, true_pos_cnn)\n",
    "title(\"ROC. Experiment 3 prediction. \\n (Neural Network model)\")\n",
    "xlabel(\"false positive fraction\")\n",
    "ylabel(\"true positive fraction\")\n",
    "legend([\"AUC = $(round(auc_val_cnn, digits=2))\"])"
   ]
  },
  {
   "cell_type": "code",
   "execution_count": null,
   "id": "cf3f63ac-8849-4f52-8c1b-c162e74748a0",
   "metadata": {},
   "outputs": [],
   "source": [
    "println(\"confusion matrix \\n\")\n",
    "confusion_matrix(logits_experiment3, 0.0, θexperiment3, threshold_experiment3) "
   ]
  },
  {
   "cell_type": "markdown",
   "id": "613d7143-6a6b-4ec4-a5a8-9f3abbbaf62a",
   "metadata": {},
   "source": [
    "# PhageTree"
   ]
  },
  {
   "cell_type": "code",
   "execution_count": 24,
   "id": "f9ecb6f6-c9c1-4508-b9bb-5a38f1c0fafb",
   "metadata": {},
   "outputs": [
    {
     "data": {
      "text/plain": [
       "MVHistory{ValueHistories.History}\n",
       "  :loglikelihood_batch => 22000 elements {Int64,Float64}\n",
       "  :loglikelihood => 200 elements {Int64,Float64}\n",
       "  :epoch => 22000 elements {Int64,Int64}"
      ]
     },
     "execution_count": 24,
     "metadata": {},
     "output_type": "execute_result"
    }
   ],
   "source": [
    "file_phagetree = BSON.load(\"../phagetree_models/train_experiment2_b256.bson\")\n",
    "model_pt = file_phagetree[:model]\n",
    "history_pt = file_phagetree[:history]"
   ]
  },
  {
   "cell_type": "code",
   "execution_count": null,
   "id": "6a3ee7e7-4ad6-422f-a4b9-71be5902a598",
   "metadata": {},
   "outputs": [],
   "source": [
    "plot(get(history_pt, :loglikelihood)...)\n",
    "title(\"training\")\n",
    "xlabel(\"epochs\")\n",
    "ylabel(\"loglikelihood\");"
   ]
  },
  {
   "cell_type": "code",
   "execution_count": 25,
   "id": "33b1b682-e561-48b1-b7c6-7267d89024a1",
   "metadata": {},
   "outputs": [
    {
     "data": {
      "text/plain": [
       "27970×2 Matrix{Float64}:\n",
       " -4.12281   -4.81356\n",
       " -2.43175   -3.08547\n",
       " -4.62692   -5.32091\n",
       " -5.10279   -5.79865\n",
       " -1.9433    -2.56747\n",
       " -5.00451   -5.70006\n",
       " -5.46319   -6.15998\n",
       " -4.72291   -5.41736\n",
       " -3.24102   -3.92007\n",
       " -2.5307    -3.18876\n",
       " -3.10752   -3.7837\n",
       " -1.93573   -2.55931\n",
       " -0.69256   -1.10168\n",
       "  ⋮         \n",
       " -5.1539    -5.84992\n",
       " -4.4672    -5.16034\n",
       " -5.14882   -5.84482\n",
       " -0.671077  -1.07287\n",
       " -5.2549    -5.95119\n",
       " -4.48307   -5.17629\n",
       " -0.439478  -0.746777\n",
       " -4.40025   -5.09298\n",
       " -5.52188   -6.21879\n",
       " -2.38265   -3.03405\n",
       " -4.61881   -5.31276\n",
       " -0.838723  -1.29254"
      ]
     },
     "execution_count": 25,
     "metadata": {},
     "output_type": "execute_result"
    }
   ],
   "source": [
    "ls_experiment12 = log_selectivities(model_pt, data_experiments)"
   ]
  },
  {
   "cell_type": "code",
   "execution_count": 26,
   "id": "a6360dbe-728f-499c-a39c-b50214b607cc",
   "metadata": {},
   "outputs": [],
   "source": [
    "idx_exp1 = findall((data_experiments.counts[:,1] .> 0).&&(data_experiments.counts[:,3] .== 0))\n",
    "idx_exp2 = findall((data_experiments.counts[:,1] .== 0).&&(data_experiments.counts[:,3] .> 0))\n",
    "idx_exp12 = findall((data_experiments.counts[:,1] .> 0).&&(data_experiments.counts[:,3] .> 0));"
   ]
  },
  {
   "cell_type": "code",
   "execution_count": 27,
   "id": "83b75636-2a1a-4854-935a-54e23068dc4a",
   "metadata": {},
   "outputs": [
    {
     "name": "stdout",
     "output_type": "stream",
     "text": [
      "NaN at index 23260...\n"
     ]
    }
   ],
   "source": [
    "ls_experiments = zeros(size(ls_experiment12, 1))\n",
    "for s in axes(ls_experiments, 1)\n",
    "    if s in idx_exp1\n",
    "        ls_experiments[s] = ls_experiment12[s,1]\n",
    "    elseif s in idx_exp2\n",
    "        ls_experiments[s] = ls_experiment12[s,2]\n",
    "    elseif s in idx_exp12\n",
    "        ls_experiments[s] = mean(ls_experiment12[s,:])\n",
    "    else\n",
    "        ls_experiments[s] = NaN\n",
    "        println(\"NaN at index $s...\")\n",
    "    end\n",
    "end"
   ]
  },
  {
   "cell_type": "code",
   "execution_count": 28,
   "id": "555f5efe-f094-4f61-b626-36999c3395f4",
   "metadata": {
    "tags": []
   },
   "outputs": [],
   "source": [
    "#since the following line takes a lot of time you can just load it from the file \"logselectivities_exp3.jld2\"\n",
    "#ls_experiment3 = vec(log_selectivities(model_pt, data_experiment3)[:, 2]);\n",
    "@load \"logselectivities_exp3.jld2\"\n",
    "ls_experiment3_filtered = ls_experiment3[data_experiment3.counts[:, 1].>=100];"
   ]
  },
  {
   "cell_type": "code",
   "execution_count": 29,
   "id": "5cd03b70-f617-4ac0-8016-2a21737e847a",
   "metadata": {},
   "outputs": [],
   "source": [
    "θexperiments_12 = log_selectivities(data_experiments);"
   ]
  },
  {
   "cell_type": "code",
   "execution_count": 30,
   "id": "181a3deb-1e79-4970-9fe9-3b44d94e724a",
   "metadata": {},
   "outputs": [
    {
     "name": "stdout",
     "output_type": "stream",
     "text": [
      "NaN at index 23260...\n"
     ]
    }
   ],
   "source": [
    "θexperiments_pt = zeros(size(θexperiments_12, 1))\n",
    "for s in axes(θexperiments_pt, 1)\n",
    "    if s in idx_exp1\n",
    "        θexperiments_pt[s] = θexperiments_12[s,1]\n",
    "    elseif s in idx_exp2\n",
    "        θexperiments_pt[s] = θexperiments_12[s,2]\n",
    "    elseif s in idx_exp12\n",
    "        θexperiments_pt[s] = mean(θexperiments_12[s,:])\n",
    "    else\n",
    "        θexperiments_pt[s] = NaN\n",
    "        println(\"NaN at index $s...\")\n",
    "    end\n",
    "end"
   ]
  },
  {
   "cell_type": "code",
   "execution_count": null,
   "id": "b0f8d9db-4ea2-4628-bc10-f341278eb0fa",
   "metadata": {
    "tags": []
   },
   "outputs": [],
   "source": [
    "#takes a lot of time and it is not useful\n",
    "#θexperiment3_pt = vec(log_selectivities(data_experiment3));"
   ]
  },
  {
   "cell_type": "code",
   "execution_count": null,
   "id": "b464f261-16e7-4ba2-92e5-6b01cb9dd298",
   "metadata": {},
   "outputs": [],
   "source": [
    "fig, ax = subplots(1,2, figsize=(10,4))\n",
    "\n",
    "plot_density(θexperiments_pt, ls_experiments, ax[1], filter=true)\n",
    "ax[1].set_title(\"experiment 1 and 2 (training)\")\n",
    "ax[1].set_xlabel(\"θ\")\n",
    "ax[1].set_ylabel(\"log selectivity\")\n",
    "\n",
    "plot_density(θexperiment3, ls_experiment3_filtered, ax[2], filter=true)\n",
    "ax[2].set_title(\"experiment 3 (test), ρ = $(round(cor_sp(θexperiment3, ls_experiment3_filtered), digits=2))\")\n",
    "ax[2].set_xlabel(\"θ\")\n",
    "ax[2].set_ylabel(\"log selectivity\")"
   ]
  },
  {
   "cell_type": "code",
   "execution_count": 31,
   "id": "d540a418-8077-4db1-996d-44bf100ca68b",
   "metadata": {},
   "outputs": [],
   "source": [
    "true_pos_pt, false_pos_pt = roc(ls_experiment3_filtered, θexperiment3, threshold_experiment3);"
   ]
  },
  {
   "cell_type": "code",
   "execution_count": 32,
   "id": "30e97802-48b8-4ecf-aeae-e597b9a10131",
   "metadata": {},
   "outputs": [
    {
     "name": "stdout",
     "output_type": "stream",
     "text": [
      "AUC: 0.9035601910117735\n"
     ]
    }
   ],
   "source": [
    "auc_val_pt = auc(false_pos_pt, true_pos_pt) |> mean\n",
    "println(\"AUC: \", auc_val_pt)"
   ]
  },
  {
   "cell_type": "code",
   "execution_count": null,
   "id": "22995904-3347-4e33-b74a-4934700d10f5",
   "metadata": {},
   "outputs": [],
   "source": [
    "plot(false_pos_pt, true_pos_pt)\n",
    "title(\"ROC. Experiment 3 prediction.\")\n",
    "xlabel(\"false positive fraction\")\n",
    "ylabel(\"true positive fraction\")\n",
    "legend([\"AUC = $(round(auc_val_pt, digits=2))\"])"
   ]
  },
  {
   "cell_type": "code",
   "execution_count": 39,
   "id": "e376cca2-28fb-491f-942b-194dc49c6d5a",
   "metadata": {},
   "outputs": [
    {
     "data": {
      "image/png": "[encoded data removed]",
      "text/plain": [
       "Figure(PyObject <Figure size 800x800 with 1 Axes>)"
      ]
     },
     "metadata": {},
     "output_type": "display_data"
    }
   ],
   "source": [
    "figure(figsize=(8,8))\n",
    "plot(false_pos_pt, true_pos_pt, color=\"#ff7f0e\")\n",
    "plot(false_pos_cnn, true_pos_cnn, color=\"#1f77b4\")\n",
    "plot([0,1],[0,1], color=\"black\", linestyle=\"dashed\")\n",
    "title(\"ROC. Experiment 3 prediction.\", fontsize=16)\n",
    "xlabel(\"false positive fraction\", fontsize=16)\n",
    "ylabel(\"true positive fraction\", fontsize=16)\n",
    "legend([\"Biophysical model AUC = $(round(auc_val_pt, digits=2))\", \"Binary classifier AUC = $(round(auc_val_cnn, digits=2))\"], fontsize=16)\n",
    "xticks(fontsize=16)\n",
    "yticks(fontsize=16)\n",
    "ax = gca()\n",
    "ax.set_aspect(\"equal\")\n",
    "savefig(\"../figures/exp3_roc.pdf\", format=\"pdf\", bbox_inches=\"tight\")"
   ]
  },
  {
   "cell_type": "code",
   "execution_count": 33,
   "id": "30749c56-086d-43ea-942e-0fde9ff28e67",
   "metadata": {},
   "outputs": [
    {
     "data": {
      "text/plain": [
       "-4.774115377733081"
      ]
     },
     "execution_count": 33,
     "metadata": {},
     "output_type": "execute_result"
    }
   ],
   "source": [
    "ls_threshold = optimal_threshold(ls_experiment3_filtered, true_pos_pt, false_pos_pt)"
   ]
  },
  {
   "cell_type": "code",
   "execution_count": null,
   "id": "2817aad4-20cf-4bb8-bff7-c3b174cb041d",
   "metadata": {},
   "outputs": [],
   "source": [
    "#uncomment to save data for logos plot (but they are already saved)\n",
    "#sequences_int_exp3 = onehot2string(sequences_experiment3, channel=true, padding=true)\n",
    "#sequences_int_exp12 = onehot2string(data_experiments.sequences, channel=false, padding=true)\n",
    "#@save \"logos/data_for_logos.jld2\" sequences_int_exp12 sequences_int_exp3 ls_experiment3_filtered ls_threshold θexperiment3 threshold_experiment3"
   ]
  },
  {
   "cell_type": "code",
   "execution_count": null,
   "id": "03687344-6f0b-4fab-89e6-7da71b63aa90",
   "metadata": {},
   "outputs": [],
   "source": [
    "println(\"testing accuracy on experiment 3: \",\n",
    "compute_accuracy(ls_experiment3_filtered, ls_threshold, θexperiment3, threshold_experiment3))"
   ]
  },
  {
   "cell_type": "code",
   "execution_count": 34,
   "id": "135bafdc-a9ae-45aa-b443-60d77020571d",
   "metadata": {},
   "outputs": [
    {
     "name": "stdout",
     "output_type": "stream",
     "text": [
      "confusion matrix \n",
      "\n",
      "TP: 67960\t FN: 8350\n",
      "FP: 14195\t TN: 50129"
     ]
    },
    {
     "data": {
      "text/plain": [
       "(tpr = 0.8905779059101036, fpr = 0.22067968409924757)"
      ]
     },
     "execution_count": 34,
     "metadata": {},
     "output_type": "execute_result"
    }
   ],
   "source": [
    "println(\"confusion matrix \\n\")\n",
    "confusion_mat_gscore_exp3 = confusion_matrix(ls_experiment3_filtered, ls_threshold, θexperiment3, threshold_experiment3)"
   ]
  },
  {
   "cell_type": "code",
   "execution_count": null,
   "id": "84a31d14-2a6e-44ef-a5b0-373e16e8ce72",
   "metadata": {},
   "outputs": [],
   "source": [
    "figure(figsize=(8,6))\n",
    "plot_density(θexperiment3, ls_experiment3_filtered, filter=true)\n",
    "title(\"Experiment 3 prediction\", fontsize=16)\n",
    "xlabel(\"experimental log-selectivity\", fontsize=16)\n",
    "ylabel(\"inferred log-probability viable state\", fontsize=16)\n",
    "text(0.5, -8,\"Pearson corr. = $(round(cor_sp(θexperiment3, ls_experiment3_filtered), digits=2))\", fontsize=14,\n",
    "    bbox=Dict(\"boxstyle\"=>\"round\", \"facecolor\"=>\"white\"))\n",
    "xticks(fontsize=16)\n",
    "yticks(fontsize=16)\n",
    "savefig(\"../figures/exp3_prediction.pdf\", format=\"pdf\", bbox_inches=\"tight\", dpi=150)"
   ]
  },
  {
   "cell_type": "markdown",
   "id": "8693b1a9-d9c1-4925-bc5c-39992211b018",
   "metadata": {},
   "source": [
    "### Choosing the threshold in an unsupervised manner"
   ]
  },
  {
   "cell_type": "code",
   "execution_count": null,
   "id": "d88a3768-4aad-4c7a-8351-5cfe97f7520d",
   "metadata": {
    "tags": []
   },
   "outputs": [],
   "source": [
    "energies_exp12 = \n",
    "    energies(data_experiments.sequences, model_pt.states[2]);"
   ]
  },
  {
   "cell_type": "code",
   "execution_count": 35,
   "id": "d179bc3c-c990-48cf-a4a9-b3588ec523ed",
   "metadata": {
    "tags": []
   },
   "outputs": [
    {
     "data": {
      "text/plain": [
       "1-element Vector{Symbol}:\n",
       " :energies_exp3"
      ]
     },
     "execution_count": 35,
     "metadata": {},
     "output_type": "execute_result"
    }
   ],
   "source": [
    "#takes a lot of time you can just load them\n",
    "#energies_exp3 = energies(data_experiment3.sequences[:,:,data_experiment3.counts[:, 1].>=100], model_pt.states[2])\n",
    "@load \"energies_exp3.jld2\""
   ]
  },
  {
   "cell_type": "code",
   "execution_count": null,
   "id": "8e10e66c-6663-4053-bd78-6751a6d14853",
   "metadata": {},
   "outputs": [],
   "source": [
    "μeff1 = model_pt.μ[2,1] - model_pt.μ[1,1]\n",
    "μeff2 = model_pt.μ[2,2] - model_pt.μ[1,2]"
   ]
  },
  {
   "cell_type": "code",
   "execution_count": null,
   "id": "52bbae72-9e0d-4cc9-91fa-1b3777e0a8dd",
   "metadata": {},
   "outputs": [],
   "source": [
    "fig, ax = subplots(2,3, figsize=(14,10))\n",
    "ax[1,1].axvline(μeff1, color=\"red\")\n",
    "ax[1,1].hist(energies_exp12[union(idx_exp1, idx_exp12)], bins=100)\n",
    "ax[1,1].set_xlabel(\"energy\")\n",
    "ax[1,1].set_ylabel(\"counts\")\n",
    "ax[1,1].set_title(\"experiment 1\")\n",
    "ax[1,1].legend([\"μ eff\", \"inferred energies\"])\n",
    "\n",
    "ax[1,2].axvline(μeff2, color=\"red\")\n",
    "ax[1,2].hist(energies_exp12[union(idx_exp2, idx_exp12)], bins=100)\n",
    "ax[1,2].set_xlabel(\"energy\")\n",
    "ax[1,2].set_ylabel(\"counts\")\n",
    "ax[1,2].set_title(\"experiment 2\")\n",
    "ax[1,2].legend([\"μ eff\", \"inferred energies\"])\n",
    "\n",
    "ax[1,3].axvline(μeff1, color=\"red\")\n",
    "ax[1,3].axvline(μeff2, color=\"purple\")\n",
    "ax[1,3].hist(energies_exp3, bins=100)\n",
    "ax[1,3].set_xlabel(\"energy\")\n",
    "ax[1,3].set_ylabel(\"counts\")\n",
    "ax[1,3].set_title(\"experiment 3\")\n",
    "ax[1,3].legend([\"μ eff experiment 1\", \"μ eff experiment 2\", \"inferred energies\"])\n",
    "\n",
    "ax[2,1].hist(exp.(ls_experiments[union(idx_exp1, idx_exp12)]), bins=100)\n",
    "ax[2,1].set_xlabel(\"log ps\")\n",
    "ax[2,1].set_ylabel(\"counts\")\n",
    "ax[2,1].set_title(\"experiment 1\")\n",
    "\n",
    "ax[2,2].hist(exp.(ls_experiments[union(idx_exp2, idx_exp12)]), bins=100)\n",
    "ax[2,2].set_xlabel(\"log ps\")\n",
    "ax[2,2].set_ylabel(\"counts\")\n",
    "ax[2,2].set_title(\"experiment 2\")\n",
    "\n",
    "ax[2,3].hist(exp.(ls_experiment3_filtered), bins=100)\n",
    "ax[2,3].set_xlabel(\"log ps\")\n",
    "ax[2,3].set_ylabel(\"counts\")\n",
    "ax[2,3].set_title(\"experiment 3\");"
   ]
  },
  {
   "cell_type": "code",
   "execution_count": null,
   "id": "853f7d27-11ca-42e0-9c64-d459a71ce02f",
   "metadata": {},
   "outputs": [],
   "source": [
    "gmm = GMM(2,1)\n",
    "gmm.μ .+= randn(2,1)\n",
    "gmm.Σ .*= 1e-1;"
   ]
  },
  {
   "cell_type": "code",
   "execution_count": null,
   "id": "0600cc6f-0550-4a1b-88ef-d3041a8cfc16",
   "metadata": {},
   "outputs": [],
   "source": [
    "em!(gmm, Float64.(reshape(energies_exp3, :, 1)); nIter=120)"
   ]
  },
  {
   "cell_type": "code",
   "execution_count": null,
   "id": "287ac5df-68f8-4465-8d91-f3ba9a8bd5e2",
   "metadata": {},
   "outputs": [],
   "source": [
    "xx = LinRange(-5.0, 7.5, 50)\n",
    "figure(figsize=(8,6))\n",
    "hist(energies_exp3, bins=100, density=true)\n",
    "plot(xx, eval_gmm(gmm, xx), color=\"red\")\n",
    "xlabel(\"energy\", fontsize=16)\n",
    "ylabel(\"frequency density\", fontsize=16)\n",
    "legend([\"Gaussians \\n mixture \\n model fit\", \"inferred \\n energies\"], fontsize=16)\n",
    "title(\"Inferred energies in experiment 3\", fontsize=16)\n",
    "xticks(fontsize=16)\n",
    "yticks(fontsize=16)\n",
    "savefig(\"../figures/exp3_energy_fit.pdf\", format=\"pdf\", bbox_inches=\"tight\")"
   ]
  },
  {
   "cell_type": "code",
   "execution_count": null,
   "id": "0b6c4378-6d45-4081-b871-ded1a629b1bc",
   "metadata": {},
   "outputs": [],
   "source": [
    "function find_valley(gmm, resolution::Int)\n",
    "    xmin = gmm.μ[1,1]\n",
    "    xmax = gmm.μ[2,1]\n",
    "    r = LinRange(xmin, xmax, resolution)\n",
    "    y = eval_gmm(gmm, r)\n",
    "    xvalley = argmin(y)\n",
    "    return r[xvalley]\n",
    "end"
   ]
  },
  {
   "cell_type": "code",
   "execution_count": null,
   "id": "c8edd82b-c8b6-4934-b6c4-936bf1bed54a",
   "metadata": {},
   "outputs": [],
   "source": [
    "find_valley(gmm, 100)"
   ]
  },
  {
   "cell_type": "code",
   "execution_count": 36,
   "id": "aa448272-a336-41b2-a7da-3bd17cd53f0f",
   "metadata": {},
   "outputs": [
    {
     "data": {
      "text/plain": [
       "3.458437571261687"
      ]
     },
     "execution_count": 36,
     "metadata": {},
     "output_type": "execute_result"
    }
   ],
   "source": [
    "unsupervised_energy_threshold = 3.458437571261687"
   ]
  },
  {
   "cell_type": "code",
   "execution_count": null,
   "id": "d7ff9da4-df98-4c8c-a56c-8fb69877c63b",
   "metadata": {},
   "outputs": [],
   "source": [
    "println(\"testing accuracy on experiment 3: \",\n",
    "compute_accuracy(-energies_exp3, -unsupervised_energy_threshold, θexperiment3, threshold_experiment3))"
   ]
  },
  {
   "cell_type": "code",
   "execution_count": 37,
   "id": "82dc7223-6732-4178-b068-ba8102178568",
   "metadata": {},
   "outputs": [
    {
     "name": "stdout",
     "output_type": "stream",
     "text": [
      "confusion matrix \n",
      "\n",
      "TP: 58964\t FN: 17346\n",
      "FP: 9271\t TN: 55053"
     ]
    },
    {
     "data": {
      "text/plain": [
       "(tpr = 0.7726903420259468, fpr = 0.1441297183011007)"
      ]
     },
     "execution_count": 37,
     "metadata": {},
     "output_type": "execute_result"
    }
   ],
   "source": [
    "println(\"confusion matrix \\n\")\n",
    "confusion_mat_unsupervised_exp3 = confusion_matrix(-energies_exp3, -unsupervised_energy_threshold, θexperiment3, threshold_experiment3)"
   ]
  },
  {
   "cell_type": "code",
   "execution_count": 38,
   "id": "efc5ca5f-67b0-4bd4-afd6-f303a05d74ef",
   "metadata": {},
   "outputs": [
    {
     "data": {
      "image/png": "[encoded data removed]",
      "text/plain": [
       "Figure(PyObject <Figure size 800x800 with 1 Axes>)"
      ]
     },
     "metadata": {},
     "output_type": "display_data"
    }
   ],
   "source": [
    "figure(figsize=(8,8))\n",
    "plot(false_pos_pt, true_pos_pt)\n",
    "scatter([confusion_mat_unsupervised_exp3.fpr], [confusion_mat_unsupervised_exp3.tpr], s=30, color=\"red\")\n",
    "scatter([confusion_mat_gscore_exp3.fpr], [confusion_mat_gscore_exp3.tpr], s=30, color=\"green\")\n",
    "plot([0,1],[0,1], color=\"black\", linestyle=\"dashed\")\n",
    "title(\"ROC. Experiment 3 prediction.\", fontsize=16)\n",
    "xlabel(\"false positive fraction\", fontsize=16)\n",
    "ylabel(\"true positive fraction\", fontsize=16)\n",
    "legend([\"biophysical model ROC (AUC = $(round(auc_val_pt, digits=2)))\", \"optimal threshold gaussian fit\", \"optimal threshold from g-score\"], fontsize=16)\n",
    "xticks(fontsize=16)\n",
    "yticks(fontsize=16)\n",
    "ax = gca()\n",
    "ax.set_aspect(\"equal\")\n",
    "savefig(\"../figures/exp3_roc_points.pdf\", format=\"pdf\", bbox_inches=\"tight\")"
   ]
  },
  {
   "cell_type": "code",
   "execution_count": null,
   "id": "78f721c1-27a0-47e5-9092-d9fc20290b8a",
   "metadata": {
    "tags": []
   },
   "outputs": [],
   "source": []
  },
  {
   "cell_type": "code",
   "execution_count": null,
   "id": "c2bba4fa-1817-4793-a513-37081d366bde",
   "metadata": {},
   "outputs": [],
   "source": [
    "#=\n",
    "saving useful data to print logos\n",
    "\n",
    "\n",
    "sequences_int_exp3 = [[findfirst(sequences_experiment3[:, i, 1, k] .> 0.0) \n",
    "        for i in axes(sequences_experiment3, 2)] for k in axes(sequences_experiment3, 4)]\n",
    "sequences_int_exp12 = [[findfirst(data_experiments.sequences[:, i, k] .> 0.0) \n",
    "        for i in axes(data_experiments.sequences, 2)] for k in axes(data_experiments.sequences, 3)]\n",
    "@save \"logos/data_for_logos.jld2\" sequences_int_exp3 sequences_int_exp12 energies_exp3 unsupervised_energy_threshold θexperiment3 threshold_experiment3 ls_experiment3_filtered ls_threshold\n",
    "=#"
   ]
  },
  {
   "cell_type": "markdown",
   "id": "99c3abcb-e3e3-4923-a7dc-c4e6a61525c0",
   "metadata": {},
   "source": [
    "# Distance analysis"
   ]
  },
  {
   "cell_type": "code",
   "execution_count": null,
   "id": "e8d45b7c-eecf-4f22-8c41-778b6da87ddb",
   "metadata": {},
   "outputs": [],
   "source": [
    "file_exp1 = load(\"../my_data/data_experiment1.jld2\")"
   ]
  },
  {
   "cell_type": "code",
   "execution_count": null,
   "id": "2e3891e2-eaf0-42e3-a792-9d99fcdd5d59",
   "metadata": {},
   "outputs": [],
   "source": [
    "wt_aa = file_exp1[\"wt_aa\"]"
   ]
  },
  {
   "cell_type": "code",
   "execution_count": null,
   "id": "bc04c1be-dc12-475e-8ad7-e25b8bd2d8ab",
   "metadata": {},
   "outputs": [],
   "source": [
    "sequences_string_experiment3 = onehot2string(sequences_experiment3, channel=true, padding=false);"
   ]
  },
  {
   "cell_type": "code",
   "execution_count": null,
   "id": "d89f4b61-931f-4483-ae27-cfdf30f7fcc5",
   "metadata": {},
   "outputs": [],
   "source": [
    "distances = map(x->evaluate(Levenshtein(), x, wt_aa), sequences_string_experiment3);"
   ]
  },
  {
   "cell_type": "code",
   "execution_count": null,
   "id": "ad42080a-1206-44ba-8450-4048d3d94dc5",
   "metadata": {},
   "outputs": [],
   "source": [
    "dmin, dmax = extrema(distances)"
   ]
  },
  {
   "cell_type": "code",
   "execution_count": null,
   "id": "7a61c287-8389-4dae-824a-31b2cba9c470",
   "metadata": {},
   "outputs": [],
   "source": [
    "accuracy_distance = zeros(dmax - dmin +1)\n",
    "for (i, d) in pairs(dmin:1:dmax)\n",
    "    idx = findall(distances .== d)\n",
    "    if length(idx) < 100\n",
    "        accuracy_distance[i] = NaN\n",
    "        continue\n",
    "    end\n",
    "    accuracy_distance[i] = compute_accuracy(logits_experiment3[idx], 0.0, θexperiment3[idx], threshold_experiment3)\n",
    "end"
   ]
  },
  {
   "cell_type": "code",
   "execution_count": null,
   "id": "0e9005bf-bd89-4abb-8a0c-47757d2325f7",
   "metadata": {},
   "outputs": [],
   "source": [
    "accuracy_distance_energy = zeros(dmax - dmin +1)\n",
    "for (i, d) in pairs(dmin:1:dmax)\n",
    "    idx = findall(distances .== d)\n",
    "    if length(idx) < 100\n",
    "        accuracy_distance_energy[i] = NaN\n",
    "        continue\n",
    "    end\n",
    "    accuracy_distance_energy[i] = compute_accuracy(-energies_exp3[idx], -unsupervised_energy_threshold, \n",
    "        θexperiment3[idx], threshold_experiment3)\n",
    "end"
   ]
  },
  {
   "cell_type": "code",
   "execution_count": null,
   "id": "a9ebf74a-de66-43e9-92a6-a0474ee0b249",
   "metadata": {},
   "outputs": [],
   "source": [
    "pearson_distance = zeros(dmax - dmin +1)\n",
    "for (i, d) in pairs(dmin:1:dmax)\n",
    "    idx = findall(distances .== d)\n",
    "    if length(idx) < 100\n",
    "        pearson_distance[i] = NaN\n",
    "        continue\n",
    "    end\n",
    "    pearson_distance[i] = cor_sp(θexperiment3[idx], ls_experiment3_filtered[idx])\n",
    "end"
   ]
  },
  {
   "cell_type": "code",
   "execution_count": null,
   "id": "b880724f-d227-42ff-ad4d-a9b13940da3e",
   "metadata": {},
   "outputs": [],
   "source": [
    "viable_frac = zeros(dmax - dmin +1)\n",
    "for (i, d) in pairs(dmin:1:dmax)\n",
    "    idx = findall(distances .== d)\n",
    "    if length(idx) < 100\n",
    "        viable_frac[i] = NaN\n",
    "        continue\n",
    "    end\n",
    "    viable_frac[i] = sum(θexperiment3[idx] .>= threshold_experiment3)/length(idx)\n",
    "end"
   ]
  },
  {
   "cell_type": "code",
   "execution_count": null,
   "id": "ade4adc0-eee2-4a59-9f56-863668392cea",
   "metadata": {},
   "outputs": [],
   "source": [
    "figure(figsize=(8,6))\n",
    "plot(dmin:dmax, accuracy_distance, marker=\"o\", color=\"#1f77b4\")\n",
    "plot(dmin:dmax, accuracy_distance_energy, marker=\"v\", color=\"#ff7f0e\")\n",
    "plot(dmin:dmax, viable_frac, marker=\"s\", color=\"#2ca02c\")\n",
    "legend([\"binary classifier\", \"biophysical model\", \"viable fraction\"], fontsize=16)\n",
    "ylabel(\"accuracy / fraction\", fontsize=16)\n",
    "xlabel(\"distance from WT\", fontsize=16)\n",
    "title(\"Experiment 3. Robustness and diversity.\", fontsize=16)\n",
    "xticks(fontsize=16)\n",
    "yticks(fontsize=16)\n",
    "savefig(\"../figures/exp3_distance_accuracy.pdf\", format=\"pdf\", bbox_inches=\"tight\")"
   ]
  },
  {
   "cell_type": "code",
   "execution_count": null,
   "id": "1b117aa1-f72f-4c86-a32b-d261e1284a22",
   "metadata": {},
   "outputs": [],
   "source": [
    "figure(figsize=(8,6))\n",
    "plot(dmin:dmax, pearson_distance, marker=\"v\", color=\"#ff7f0e\")\n",
    "plot(dmin:dmax, viable_frac, marker=\"s\", color=\"#2ca02c\")\n",
    "legend([\"biophysical model\", \"viable fraction\"], fontsize=16)\n",
    "ylabel(\"Pearson / fraction\", fontsize=16)\n",
    "xlabel(\"distance from WT\", fontsize=16)\n",
    "title(\"Experiment 3. Robustness and diversity.\", fontsize=16)\n",
    "xticks(fontsize=16)\n",
    "yticks(fontsize=16)\n",
    "savefig(\"../figures/exp3_distance_pearson.pdf\", format=\"pdf\", bbox_inches=\"tight\")"
   ]
  },
  {
   "cell_type": "code",
   "execution_count": null,
   "id": "384bfde7-959d-4d6e-b020-a9be8e7ff6c4",
   "metadata": {},
   "outputs": [],
   "source": []
  }
 ],
 "metadata": {
  "kernelspec": {
   "display_name": "Julia 1.8.5",
   "language": "julia",
   "name": "julia-1.8"
  },
  "language_info": {
   "file_extension": ".jl",
   "mimetype": "application/julia",
   "name": "julia",
   "version": "1.8.5"
  }
 },
 "nbformat": 4,
 "nbformat_minor": 5
}
