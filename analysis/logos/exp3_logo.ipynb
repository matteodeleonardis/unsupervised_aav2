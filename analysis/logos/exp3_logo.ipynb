{
 "cells": [
  {
   "cell_type": "code",
   "execution_count": null,
   "id": "75d4f93d-b0e2-4e04-93f0-a4efae8eaf7b",
   "metadata": {},
   "outputs": [],
   "source": [
    "import Pkg\n",
    "Pkg.activate(\".\")"
   ]
  },
  {
   "cell_type": "code",
   "execution_count": null,
   "id": "b34e36c1-17e2-459b-9cad-2a0f0cf64d09",
   "metadata": {},
   "outputs": [],
   "source": [
    "using JLD2, PyPlot, SequenceLogos, BioSeqInt"
   ]
  },
  {
   "cell_type": "code",
   "execution_count": null,
   "id": "5caddc10-75b0-4f6f-afc5-2109ab8387ef",
   "metadata": {},
   "outputs": [],
   "source": [
    "using SequenceLogos: logo_from_matrix, plot_sequence_logo, aa_color, plot_sequence_logo_aa"
   ]
  },
  {
   "cell_type": "code",
   "execution_count": null,
   "id": "a20aff51-10a7-4431-83a7-3a58439e21e1",
   "metadata": {},
   "outputs": [],
   "source": [
    "include(\"logo_utils.jl\")"
   ]
  },
  {
   "cell_type": "code",
   "execution_count": null,
   "id": "7f095a19-ae81-40ec-aec1-a263bbba0723",
   "metadata": {},
   "outputs": [],
   "source": [
    "@load \"data_for_logos.jld2\""
   ]
  },
  {
   "cell_type": "code",
   "execution_count": null,
   "id": "c1a37c1a",
   "metadata": {},
   "outputs": [],
   "source": [
    "wt = load(\"../../my_data/data_experiment1.jld2\")[\"wt_aa\"]"
   ]
  },
  {
   "cell_type": "code",
   "execution_count": null,
   "id": "62531b41",
   "metadata": {},
   "outputs": [],
   "source": [
    "true_positives_idx = findall((ls_experiment3_filtered .>= ls_threshold).*(θexperiment3 .>= threshold_experiment3))\n",
    "false_negatives_idx = findall((ls_experiment3_filtered .< ls_threshold).*(θexperiment3 .>= threshold_experiment3))\n",
    "true_negatives_idx = findall((ls_experiment3_filtered .< ls_threshold).*(θexperiment3 .< threshold_experiment3));"
   ]
  },
  {
   "cell_type": "code",
   "execution_count": null,
   "id": "ccff20c0-017f-4129-b0c2-b00c465b4b71",
   "metadata": {},
   "outputs": [],
   "source": [
    "w_true_positives=frequency_matrix(sequences_int_exp3[true_positives_idx])\n",
    "w_false_negatives=frequency_matrix(sequences_int_exp3[false_negatives_idx]);\n",
    "w_train = frequency_matrix(sequences_int_exp12);\n",
    "w_true_negatives = frequency_matrix(sequences_int_exp3[true_negatives_idx]);"
   ]
  },
  {
   "cell_type": "code",
   "execution_count": null,
   "id": "5c7b974f",
   "metadata": {},
   "outputs": [],
   "source": [
    "alphabet=replace(String(int2aa.(1:21)), '-'=>'X')"
   ]
  },
  {
   "cell_type": "code",
   "execution_count": null,
   "id": "08d790a4",
   "metadata": {},
   "outputs": [],
   "source": [
    "gaps_true_positives = findall(w_true_positives[21, :] .== 1.0)\n",
    "gaps_false_negatives = findall(w_false_negatives[21, :] .== 1.0)\n",
    "gaps_train = findall(w_train[21, :] .== 1.0)\n",
    "gaps_true_negatives = findall(w_true_negatives[21, :] .== 1.0);"
   ]
  },
  {
   "cell_type": "code",
   "execution_count": null,
   "id": "162545af",
   "metadata": {},
   "outputs": [],
   "source": [
    "issubset(collect(minimum(gaps_true_positives):maximum(gaps_true_positives)), gaps_true_positives)"
   ]
  },
  {
   "cell_type": "code",
   "execution_count": null,
   "id": "8815bdb4",
   "metadata": {},
   "outputs": [],
   "source": [
    "last_site_true_positives = minimum(gaps_true_positives)-1"
   ]
  },
  {
   "cell_type": "code",
   "execution_count": null,
   "id": "80b29605",
   "metadata": {},
   "outputs": [],
   "source": [
    "issubset(collect(minimum(gaps_false_negatives):maximum(gaps_false_negatives)), gaps_false_negatives)"
   ]
  },
  {
   "cell_type": "code",
   "execution_count": null,
   "id": "4caa0c91",
   "metadata": {},
   "outputs": [],
   "source": [
    "last_site_false_negatives = minimum(gaps_false_negatives)-1"
   ]
  },
  {
   "cell_type": "code",
   "execution_count": null,
   "id": "dd56640b",
   "metadata": {},
   "outputs": [],
   "source": [
    "issubset(collect(minimum(gaps_train):maximum(gaps_train)), gaps_train)"
   ]
  },
  {
   "cell_type": "code",
   "execution_count": null,
   "id": "6377da68",
   "metadata": {},
   "outputs": [],
   "source": [
    "last_site_train = minimum(gaps_train)-1"
   ]
  },
  {
   "cell_type": "code",
   "execution_count": null,
   "id": "a554b131",
   "metadata": {},
   "outputs": [],
   "source": [
    "issubset(collect(minimum(gaps_true_negatives):maximum(gaps_true_negatives)), gaps_true_negatives)"
   ]
  },
  {
   "cell_type": "code",
   "execution_count": null,
   "id": "7659f428",
   "metadata": {},
   "outputs": [],
   "source": [
    "last_site_true_negatives = minimum(gaps_true_negatives)-1"
   ]
  },
  {
   "cell_type": "code",
   "execution_count": null,
   "id": "000cf5b5-05d5-4d36-8395-048744eb8b6e",
   "metadata": {},
   "outputs": [],
   "source": [
    "logo_true_positives = logo_from_matrix(w_true_positives[:, 1:last_site_true_positives], alphabet);\n",
    "logo_false_negatives = logo_from_matrix(w_false_negatives[:, 1:last_site_false_negatives], alphabet);\n",
    "logo_train = logo_from_matrix(w_train[:, 1:last_site_train], alphabet);\n",
    "logo_true_negatives = logo_from_matrix(w_true_negatives[:, 1:last_site_true_negatives], alphabet);"
   ]
  },
  {
   "cell_type": "code",
   "execution_count": null,
   "id": "c4325bf5",
   "metadata": {},
   "outputs": [],
   "source": [
    "figure(figsize=(20,4))\n",
    "plot_sequence_logo_aa(logo_train)\n",
    "title(\"Sequence Logo of the training set (Experiments 1 and 2)\")\n",
    "xlabel(\"Sites\")\n",
    "ylabel(\"Weight\")"
   ]
  },
  {
   "cell_type": "code",
   "execution_count": null,
   "id": "62896cec-057d-472f-8acf-ac75ee909cbd",
   "metadata": {},
   "outputs": [],
   "source": [
    "figure(figsize=(20,4))\n",
    "plot_sequence_logo_aa(logo_true_positives)\n",
    "title(\"Sequence Logo of true positves from the test set (Experiment 3)\")\n",
    "xlabel(\"Sites\")\n",
    "ylabel(\"Weight\")"
   ]
  },
  {
   "cell_type": "code",
   "execution_count": null,
   "id": "b593dca3-0ed6-494d-bd94-6c32410bbf3d",
   "metadata": {},
   "outputs": [],
   "source": [
    "figure(figsize=(20,4))\n",
    "plot_sequence_logo_aa(logo_false_negatives)\n",
    "title(\"Sequence Logos of the false negatives from the test set (Experiment 3)\")\n",
    "xlabel(\"Sites\")\n",
    "ylabel(\"Weight\")"
   ]
  },
  {
   "cell_type": "code",
   "execution_count": null,
   "id": "ca71428e",
   "metadata": {},
   "outputs": [],
   "source": [
    "figure(figsize=(20,4))\n",
    "plot_sequence_logo_aa(logo_true_negatives)\n",
    "title(\"Sequence Logos of the true negatives from the test set (Experiment 3)\")\n",
    "xlabel(\"Sites\")\n",
    "ylabel(\"Weight\")"
   ]
  },
  {
   "cell_type": "code",
   "execution_count": null,
   "id": "d5ec46e8",
   "metadata": {},
   "outputs": [],
   "source": []
  }
 ],
 "metadata": {
  "kernelspec": {
   "display_name": "Julia 1.8.5",
   "language": "julia",
   "name": "julia-1.8"
  },
  "language_info": {
   "file_extension": ".jl",
   "mimetype": "application/julia",
   "name": "julia",
   "version": "1.8.5"
  }
 },
 "nbformat": 4,
 "nbformat_minor": 5
}
