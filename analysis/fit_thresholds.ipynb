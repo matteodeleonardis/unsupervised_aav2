{
 "cells": [
  {
   "cell_type": "code",
   "execution_count": 1,
   "id": "18371a9c",
   "metadata": {},
   "outputs": [
    {
     "name": "stderr",
     "output_type": "stream",
     "text": [
      "\u001b[32m\u001b[1m  Activating\u001b[22m\u001b[39m project at `~/Projects/AAV2`\n"
     ]
    }
   ],
   "source": [
    "import Pkg\n",
    "include(\"../folder_path.jl\")\n",
    "import Pkg\n",
    "Pkg.activate(project_folder)"
   ]
  },
  {
   "cell_type": "code",
   "execution_count": 2,
   "id": "ad3b509d",
   "metadata": {},
   "outputs": [],
   "source": [
    "using JLD2, PyPlot, GaussianMixtures, BioSeqInt, Flux, Distributions"
   ]
  },
  {
   "cell_type": "code",
   "execution_count": 3,
   "id": "dfd2173a",
   "metadata": {},
   "outputs": [
    {
     "data": {
      "text/plain": [
       "auc (generic function with 1 method)"
      ]
     },
     "execution_count": 3,
     "metadata": {},
     "output_type": "execute_result"
    }
   ],
   "source": [
    "include(project_folder*\"analysis/utils.jl\")"
   ]
  },
  {
   "cell_type": "markdown",
   "id": "f48c83e7",
   "metadata": {},
   "source": [
    "# Data"
   ]
  },
  {
   "cell_type": "code",
   "execution_count": 4,
   "id": "22a71356",
   "metadata": {},
   "outputs": [
    {
     "data": {
      "text/plain": [
       "-1.0"
      ]
     },
     "execution_count": 4,
     "metadata": {},
     "output_type": "execute_result"
    }
   ],
   "source": [
    "threshold_experiment1 = -1.0"
   ]
  },
  {
   "cell_type": "code",
   "execution_count": 5,
   "id": "d28246de",
   "metadata": {},
   "outputs": [
    {
     "data": {
      "text/plain": [
       "1.0"
      ]
     },
     "execution_count": 5,
     "metadata": {},
     "output_type": "execute_result"
    }
   ],
   "source": [
    "threshold_experiment2 = 1.0"
   ]
  },
  {
   "cell_type": "code",
   "execution_count": 6,
   "id": "bd1770de",
   "metadata": {},
   "outputs": [
    {
     "data": {
      "text/plain": [
       "0.0"
      ]
     },
     "execution_count": 6,
     "metadata": {},
     "output_type": "execute_result"
    }
   ],
   "source": [
    "threshold_experiment3 = 0.0"
   ]
  },
  {
   "cell_type": "code",
   "execution_count": 7,
   "id": "11636dd2",
   "metadata": {},
   "outputs": [],
   "source": [
    "sequences_experiment1, counts_experiment1, labels_experiment1 = \n",
    "    load_data_cnn(\"$(project_folder)my_data/data_experiment1.jld2\", threshold_experiment1, \"experiment1\");"
   ]
  },
  {
   "cell_type": "code",
   "execution_count": 8,
   "id": "35c31625",
   "metadata": {},
   "outputs": [],
   "source": [
    "sequences_experiment2, counts_experiment2, labels_experiment2 = \n",
    "    load_data_cnn(\"$(project_folder)my_data/data_experiment2.jld2\",threshold_experiment2, \"experiment2\");"
   ]
  },
  {
   "cell_type": "code",
   "execution_count": 9,
   "id": "06415dfd",
   "metadata": {},
   "outputs": [],
   "source": [
    "sequences_experiment3, counts_experiment3, labels_experiment3 = \n",
    "    load_data_cnn(\"$(project_folder)my_data/data_experiment3.jld2\", threshold_experiment3, \"experiment3\");"
   ]
  },
  {
   "cell_type": "markdown",
   "id": "f6edfe27",
   "metadata": {},
   "source": [
    "# log selectivities"
   ]
  },
  {
   "cell_type": "code",
   "execution_count": 10,
   "id": "2fdccb9a",
   "metadata": {},
   "outputs": [],
   "source": [
    "θexperiment1_cnn = [log(counts_experiment1[m,2] / counts_experiment1[m,1]) for m in axes(counts_experiment1, 1)];"
   ]
  },
  {
   "cell_type": "code",
   "execution_count": 11,
   "id": "10df88ef",
   "metadata": {},
   "outputs": [],
   "source": [
    "θexperiment2_cnn = [log(counts_experiment2[m,2] / counts_experiment2[m,1]) for m in axes(counts_experiment2, 1)];"
   ]
  },
  {
   "cell_type": "code",
   "execution_count": 12,
   "id": "ed3bccdf",
   "metadata": {},
   "outputs": [],
   "source": [
    "θexperiment3_cnn = [log(counts_experiment3[m,2] / counts_experiment3[m,1]) for m in axes(counts_experiment3, 1)];"
   ]
  },
  {
   "cell_type": "code",
   "execution_count": 13,
   "id": "1cbe94cc",
   "metadata": {},
   "outputs": [],
   "source": [
    "θexperiment1_cnn = filter(isfinite, θexperiment1_cnn);\n",
    "θexperiment2_cnn = filter(isfinite, θexperiment2_cnn)\n",
    "θexperiment3_cnn = filter(isfinite, θexperiment3_cnn);"
   ]
  },
  {
   "cell_type": "code",
   "execution_count": 14,
   "id": "33ae2b73",
   "metadata": {},
   "outputs": [
    {
     "data": {
      "image/png": "[encoded data removed]",
      "text/plain": [
       "Figure(PyObject <Figure size 1200x400 with 3 Axes>)"
      ]
     },
     "metadata": {},
     "output_type": "display_data"
    },
    {
     "data": {
      "text/plain": [
       "PyObject Text(0.5, 1.0, 'experiment 3')"
      ]
     },
     "execution_count": 14,
     "metadata": {},
     "output_type": "execute_result"
    }
   ],
   "source": [
    "fig, ax = subplots(1,3, figsize=(12,4))\n",
    "\n",
    "ax[1].hist(filter(isfinite, θexperiment1_cnn), bins=100)\n",
    "ax[1].axvline(threshold_experiment1, color=\"red\")\n",
    "ax[1].set_xlabel(\"θ\")\n",
    "ax[1].set_title(\"experiment 1\")\n",
    "\n",
    "ax[2].hist(filter(isfinite, θexperiment2_cnn), bins=100)\n",
    "ax[2].axvline(threshold_experiment2, color=\"red\")\n",
    "ax[2].set_xlabel(\"θ\")\n",
    "ax[2].set_title(\"experiment 2\")\n",
    "\n",
    "ax[3].hist(filter(isfinite, θexperiment3_cnn), bins=100)\n",
    "ax[3].axvline(threshold_experiment3, color=\"red\")\n",
    "ax[3].set_xlabel(\"θ\")\n",
    "ax[3].set_title(\"experiment 3\")"
   ]
  },
  {
   "cell_type": "markdown",
   "id": "32cce3d5",
   "metadata": {},
   "source": [
    "# fit"
   ]
  },
  {
   "cell_type": "code",
   "execution_count": 15,
   "id": "2204a17e",
   "metadata": {},
   "outputs": [
    {
     "data": {
      "text/plain": [
       "2×1 Matrix{Float64}:\n",
       " 0.1\n",
       " 0.1"
      ]
     },
     "execution_count": 15,
     "metadata": {},
     "output_type": "execute_result"
    }
   ],
   "source": [
    "gmm1 = GMM(2,1)\n",
    "gmm1.μ .+= randn(2,1)\n",
    "gmm1.Σ .*= 1e-1"
   ]
  },
  {
   "cell_type": "code",
   "execution_count": 16,
   "id": "e2d1fd74",
   "metadata": {},
   "outputs": [
    {
     "data": {
      "text/plain": [
       "20-element Vector{Float64}:\n",
       " -18.93788687302902\n",
       "  -1.7939185873453853\n",
       "  -1.785725623463446\n",
       "  -1.779343987543537\n",
       "  -1.7727158064811284\n",
       "  -1.7656348234328794\n",
       "  -1.7581385164258527\n",
       "  -1.7503427447444975\n",
       "  -1.7424226446131446\n",
       "  -1.734601771261984\n",
       "  -1.7271285049309113\n",
       "  -1.7202376589216497\n",
       "  -1.714103520272083\n",
       "  -1.708804358912889\n",
       "  -1.7043216911591552\n",
       "  -1.7005727569383873\n",
       "  -1.6974503961570457\n",
       "  -1.694849951139271\n",
       "  -1.6926807571169427\n",
       "  -1.6908682496923464"
      ]
     },
     "execution_count": 16,
     "metadata": {},
     "output_type": "execute_result"
    }
   ],
   "source": [
    "em!(gmm1, reshape(θexperiment1_cnn, :, 1); nIter=20)"
   ]
  },
  {
   "cell_type": "code",
   "execution_count": 17,
   "id": "0b58d2ae",
   "metadata": {},
   "outputs": [
    {
     "data": {
      "text/plain": [
       "2×1 Matrix{Float64}:\n",
       " -2.147216641617875\n",
       "  0.3930412229122857"
      ]
     },
     "execution_count": 17,
     "metadata": {},
     "output_type": "execute_result"
    }
   ],
   "source": [
    "gmm1.μ"
   ]
  },
  {
   "cell_type": "code",
   "execution_count": 18,
   "id": "ab7ed02e",
   "metadata": {},
   "outputs": [
    {
     "data": {
      "text/plain": [
       "2×1 Matrix{Float64}:\n",
       " 0.1\n",
       " 0.1"
      ]
     },
     "execution_count": 18,
     "metadata": {},
     "output_type": "execute_result"
    }
   ],
   "source": [
    "gmm2 = GMM(2,1)\n",
    "gmm2.μ .+= randn(2,1)\n",
    "gmm2.Σ .*= 1e-1"
   ]
  },
  {
   "cell_type": "code",
   "execution_count": 19,
   "id": "7bc91348",
   "metadata": {},
   "outputs": [
    {
     "data": {
      "text/plain": [
       "20-element Vector{Float64}:\n",
       " -58.67345041761678\n",
       "  -1.8098304323248386\n",
       "  -1.7965254280531058\n",
       "  -1.7876193026513918\n",
       "  -1.780927822761309\n",
       "  -1.7757540829198777\n",
       "  -1.7717167648493637\n",
       "  -1.768560147079503\n",
       "  -1.7660947826961089\n",
       "  -1.7641717307833567\n",
       "  -1.762671690180999\n",
       "  -1.7614996298960286\n",
       "  -1.760580861124493\n",
       "  -1.7598574362631298\n",
       "  -1.7592848187422763\n",
       "  -1.758828966517768\n",
       "  -1.7584639113957272\n",
       "  -1.7581698296070334\n",
       "  -1.7579315461337148\n",
       "  -1.7577373958986822"
      ]
     },
     "execution_count": 19,
     "metadata": {},
     "output_type": "execute_result"
    }
   ],
   "source": [
    "em!(gmm2, reshape(θexperiment2_cnn, :, 1), nIter=20)"
   ]
  },
  {
   "cell_type": "code",
   "execution_count": 20,
   "id": "da70fe28",
   "metadata": {},
   "outputs": [
    {
     "data": {
      "text/plain": [
       "2×1 Matrix{Float64}:\n",
       " -2.4097096292299454\n",
       "  1.1073334572389406"
      ]
     },
     "execution_count": 20,
     "metadata": {},
     "output_type": "execute_result"
    }
   ],
   "source": [
    "gmm2.μ"
   ]
  },
  {
   "cell_type": "code",
   "execution_count": 21,
   "id": "fa8530ab",
   "metadata": {},
   "outputs": [
    {
     "data": {
      "text/plain": [
       "2×1 Matrix{Float64}:\n",
       " 0.1\n",
       " 0.1"
      ]
     },
     "execution_count": 21,
     "metadata": {},
     "output_type": "execute_result"
    }
   ],
   "source": [
    "gmm3 = GMM(2,1)\n",
    "gmm3.μ .+= randn(2,1)\n",
    "gmm3.Σ .*= 1e-1"
   ]
  },
  {
   "cell_type": "code",
   "execution_count": 22,
   "id": "7729aad3",
   "metadata": {},
   "outputs": [
    {
     "data": {
      "text/plain": [
       "20-element Vector{Float64}:\n",
       " -26.686948660771915\n",
       "  -1.6649001873969203\n",
       "  -1.617193938532669\n",
       "  -1.6102291756801665\n",
       "  -1.6079777348024045\n",
       "  -1.6071983185597714\n",
       "  -1.606921135505955\n",
       "  -1.6068205659626158\n",
       "  -1.6067834794844964\n",
       "  -1.6067696442423376\n",
       "  -1.6067644433534483\n",
       "  -1.606762478686886\n",
       "  -1.6067617342411962\n",
       "  -1.6067614516176938\n",
       "  -1.6067613441941455\n",
       "  -1.606761303333028\n",
       "  -1.6067612877834503\n",
       "  -1.60676128186444\n",
       "  -1.606761279610952\n",
       "  -1.6067612787529122"
      ]
     },
     "execution_count": 22,
     "metadata": {},
     "output_type": "execute_result"
    }
   ],
   "source": [
    "em!(gmm3, reshape(θexperiment3_cnn, :, 1), nIter=20)"
   ]
  },
  {
   "cell_type": "code",
   "execution_count": 23,
   "id": "f732766b",
   "metadata": {},
   "outputs": [
    {
     "data": {
      "text/plain": [
       "2×1 Matrix{Float64}:\n",
       "  1.7757079969477505\n",
       " -2.7238620354563223"
      ]
     },
     "execution_count": 23,
     "metadata": {},
     "output_type": "execute_result"
    }
   ],
   "source": [
    "gmm3.μ"
   ]
  },
  {
   "cell_type": "code",
   "execution_count": 24,
   "id": "f8f2cc1f",
   "metadata": {},
   "outputs": [
    {
     "data": {
      "text/plain": [
       "eval_gmm (generic function with 1 method)"
      ]
     },
     "execution_count": 24,
     "metadata": {},
     "output_type": "execute_result"
    }
   ],
   "source": [
    "function eval_gmm(gmm, x)\n",
    "    g1 = Normal(gmm.μ[1,1], gmm.Σ[1,1])\n",
    "    g2 = Normal(gmm.μ[2,1], gmm.Σ[2,1])\n",
    "    g = MixtureModel([g1, g2], gmm.w)\n",
    "    return pdf.(g, x)\n",
    "end"
   ]
  },
  {
   "cell_type": "code",
   "execution_count": 25,
   "id": "252c6e28",
   "metadata": {},
   "outputs": [],
   "source": [
    "x1 = LinRange(-3,3,100)\n",
    "x2 = LinRange(-7,5,100)\n",
    "x3 = LinRange(-7,5,100);"
   ]
  },
  {
   "cell_type": "code",
   "execution_count": 36,
   "id": "be1f14d8",
   "metadata": {},
   "outputs": [
    {
     "data": {
      "image/png": "[encoded data removed]",
      "text/plain": [
       "Figure(PyObject <Figure size 1600x500 with 3 Axes>)"
      ]
     },
     "metadata": {},
     "output_type": "display_data"
    },
    {
     "data": {
      "text/plain": [
       "PyObject Text(0.5, 1.0, 'experiment 3')"
      ]
     },
     "execution_count": 36,
     "metadata": {},
     "output_type": "execute_result"
    }
   ],
   "source": [
    "fig, ax = subplots(1,3, figsize=(16,5))\n",
    "\n",
    "ax[1].hist(θexperiment1_cnn, bins=100, density=true)\n",
    "ax[1].plot(x1, eval_gmm(gmm1, x1), color=\"red\")\n",
    "ax[1].set_xlabel(\"log-selectivity\")\n",
    "ax[1].set_ylabel(\"counts\")\n",
    "ax[1].legend([\"empirical\", \"fit\"])\n",
    "ax[1].set_title(\"experiment 1\")\n",
    "\n",
    "ax[2].hist(θexperiment2_cnn, bins=100, density=true)\n",
    "ax[2].plot(x2, eval_gmm(gmm2, x2), color=\"red\")\n",
    "ax[2].set_xlabel(\"log-selectivity\")\n",
    "ax[2].set_ylabel(\"counts\")\n",
    "ax[2].legend([\"empirical\", \"fit\"])\n",
    "ax[2].set_title(\"experiment 2\")\n",
    "\n",
    "ax[3].hist(θexperiment3_cnn, bins=100, density=true)\n",
    "ax[3].plot(x3, eval_gmm(gmm3, x3), color=\"red\")\n",
    "ax[3].set_xlabel(\"log-selectivity\")\n",
    "ax[3].set_ylabel(\"counts\")\n",
    "ax[3].legend([\"empirical\", \"fit\"])\n",
    "ax[3].set_title(\"experiment 3\")"
   ]
  },
  {
   "cell_type": "code",
   "execution_count": 27,
   "id": "0481ce53",
   "metadata": {},
   "outputs": [
    {
     "data": {
      "text/plain": [
       "intersections (generic function with 1 method)"
      ]
     },
     "execution_count": 27,
     "metadata": {},
     "output_type": "execute_result"
    }
   ],
   "source": [
    "function intersections(gmm)\n",
    "    m1 = gmm.μ[1,1]\n",
    "    m2 = gmm.μ[2,1]\n",
    "    s1 = gmm.Σ[1,1]\n",
    "    s2 = gmm.Σ[2,1]\n",
    "    w1 = gmm.w[1]\n",
    "    w2 = gmm.w[2]\n",
    "    \n",
    "    a = s2^2 - s1^2\n",
    "    b = m1*s2^2 - m2*s1^2\n",
    "    c = m1^2*s2^2 - m2^2*s1^2 + 2*s1^2*s2^2*log((w2/w1)*(s1/s2))\n",
    "    \n",
    "    x1 = (b + sqrt(b^2-a*c))/a\n",
    "    x2 = (b - sqrt(b^2-a*c))/a\n",
    "    \n",
    "    return x1,x2\n",
    "end"
   ]
  },
  {
   "cell_type": "code",
   "execution_count": 28,
   "id": "e282840e",
   "metadata": {},
   "outputs": [
    {
     "data": {
      "text/plain": [
       "(-1.498227790295981, -3.029755316847414)"
      ]
     },
     "execution_count": 28,
     "metadata": {},
     "output_type": "execute_result"
    }
   ],
   "source": [
    "xa_1,xb_1 =intersections(gmm1)"
   ]
  },
  {
   "cell_type": "code",
   "execution_count": 29,
   "id": "6869e658",
   "metadata": {},
   "outputs": [
    {
     "data": {
      "text/plain": [
       "(-0.5389012797223257, -8.07965823074039)"
      ]
     },
     "execution_count": 29,
     "metadata": {},
     "output_type": "execute_result"
    }
   ],
   "source": [
    "xa_2,xb_2 =intersections(gmm2)"
   ]
  },
  {
   "cell_type": "code",
   "execution_count": 30,
   "id": "4ff89b1f",
   "metadata": {},
   "outputs": [
    {
     "data": {
      "text/plain": [
       "(2.268175240797104, 1.3301224673438485)"
      ]
     },
     "execution_count": 30,
     "metadata": {},
     "output_type": "execute_result"
    }
   ],
   "source": [
    "xa_3,xb_3 =intersections(gmm3)"
   ]
  },
  {
   "cell_type": "code",
   "execution_count": 31,
   "id": "4f5a6722",
   "metadata": {},
   "outputs": [
    {
     "data": {
      "text/plain": [
       "find_valley (generic function with 1 method)"
      ]
     },
     "execution_count": 31,
     "metadata": {},
     "output_type": "execute_result"
    }
   ],
   "source": [
    "function find_valley(gmm, resolution::Int)\n",
    "    xmin = gmm.μ[1,1]\n",
    "    xmax = gmm.μ[2,1]\n",
    "    r = LinRange(xmin, xmax, resolution)\n",
    "    y = eval_gmm(gmm, r)\n",
    "    xvalley = argmin(y)\n",
    "    return r[xvalley]\n",
    "end"
   ]
  },
  {
   "cell_type": "code",
   "execution_count": 32,
   "id": "29c62b01",
   "metadata": {},
   "outputs": [
    {
     "data": {
      "text/plain": [
       "-1.2491456794102425"
      ]
     },
     "execution_count": 32,
     "metadata": {},
     "output_type": "execute_result"
    }
   ],
   "source": [
    "find_valley(gmm1, 100)"
   ]
  },
  {
   "cell_type": "code",
   "execution_count": 33,
   "id": "a1363336",
   "metadata": {},
   "outputs": [
    {
     "data": {
      "text/plain": [
       "-0.13606561373490778"
      ]
     },
     "execution_count": 33,
     "metadata": {},
     "output_type": "execute_result"
    }
   ],
   "source": [
    "find_valley(gmm2, 100)"
   ]
  },
  {
   "cell_type": "code",
   "execution_count": 34,
   "id": "c8b603c6",
   "metadata": {},
   "outputs": [
    {
     "data": {
      "text/plain": [
       "1.23030556877756"
      ]
     },
     "execution_count": 34,
     "metadata": {},
     "output_type": "execute_result"
    }
   ],
   "source": [
    "find_valley(gmm3, 100)"
   ]
  },
  {
   "cell_type": "code",
   "execution_count": null,
   "id": "bc4fa51f",
   "metadata": {},
   "outputs": [],
   "source": []
  }
 ],
 "metadata": {
  "kernelspec": {
   "display_name": "Julia 1.8.5",
   "language": "julia",
   "name": "julia-1.8"
  },
  "language_info": {
   "file_extension": ".jl",
   "mimetype": "application/julia",
   "name": "julia",
   "version": "1.8.5"
  }
 },
 "nbformat": 4,
 "nbformat_minor": 5
}
