{
 "cells": [
  {
   "cell_type": "code",
   "execution_count": 1,
   "id": "18371a9c",
   "metadata": {},
   "outputs": [
    {
     "name": "stderr",
     "output_type": "stream",
     "text": [
      "\u001b[32m\u001b[1m  Activating\u001b[22m\u001b[39m project at `~/unsupervised_aav2`\n"
     ]
    }
   ],
   "source": [
    "import Pkg\n",
    "Pkg.activate(\"..\")"
   ]
  },
  {
   "cell_type": "code",
   "execution_count": 2,
   "id": "ad3b509d",
   "metadata": {},
   "outputs": [],
   "source": [
    "using JLD2, PyPlot, GaussianMixtures, BioSeqInt, Flux, Distributions"
   ]
  },
  {
   "cell_type": "code",
   "execution_count": 5,
   "id": "dfd2173a",
   "metadata": {},
   "outputs": [
    {
     "data": {
      "text/plain": [
       "binomial_threshold (generic function with 1 method)"
      ]
     },
     "execution_count": 5,
     "metadata": {},
     "output_type": "execute_result"
    }
   ],
   "source": [
    "include(\"utils.jl\")"
   ]
  },
  {
   "cell_type": "markdown",
   "id": "f48c83e7",
   "metadata": {},
   "source": [
    "# Data"
   ]
  },
  {
   "cell_type": "markdown",
   "id": "465925b8-b273-4bbf-8e53-6d069d5c148e",
   "metadata": {},
   "source": [
    "sequences with counts < 100 are filtered out"
   ]
  },
  {
   "cell_type": "code",
   "execution_count": 8,
   "id": "14d1f9f3-3797-4282-b583-e53dae767923",
   "metadata": {},
   "outputs": [],
   "source": [
    "file_experiment1 = load(\"../my_data/data_experiment1.jld2\")\n",
    "sequences_experiment1 = file_experiment1[\"sequences_experiment1\"]\n",
    "counts_experiment1 = file_experiment1[\"counts_experiment1\"];"
   ]
  },
  {
   "cell_type": "code",
   "execution_count": 9,
   "id": "01cf26ea-f022-4e51-8d10-46d5734a1420",
   "metadata": {},
   "outputs": [],
   "source": [
    "file_experiment2 = load(\"../my_data/data_experiment2.jld2\")\n",
    "sequences_experiment2 = file_experiment2[\"sequences_experiment2\"]\n",
    "counts_experiment2 = file_experiment2[\"counts_experiment2\"];"
   ]
  },
  {
   "cell_type": "code",
   "execution_count": 11,
   "id": "e6e0b368-6118-44dc-b3f5-5891450c01f0",
   "metadata": {},
   "outputs": [],
   "source": [
    "file_experiment3 = load(\"../my_data/data_experiment3.jld2\")\n",
    "sequences_experiment3 = file_experiment3[\"sequences_experiment3\"]\n",
    "counts_experiment3 = file_experiment3[\"counts_experiment3\"];"
   ]
  },
  {
   "cell_type": "code",
   "execution_count": 6,
   "id": "11636dd2",
   "metadata": {},
   "outputs": [
    {
     "ename": "LoadError",
     "evalue": "UndefVarError: threshold_experiment1 not defined",
     "output_type": "error",
     "traceback": [
      "UndefVarError: threshold_experiment1 not defined",
      "",
      "Stacktrace:",
      " [1] top-level scope",
      "   @ In[6]:1"
     ]
    }
   ],
   "source": [
    "sequences_experiment1, counts_experiment1, labels_experiment1 = \n",
    "    load_data_cnn(\"../my_data/data_experiment1.jld2\", threshold_experiment1, \"experiment1\");"
   ]
  },
  {
   "cell_type": "code",
   "execution_count": null,
   "id": "35c31625",
   "metadata": {},
   "outputs": [],
   "source": [
    "sequences_experiment2, counts_experiment2, labels_experiment2 = \n",
    "    load_data_cnn(\"../my_data/data_experiment2.jld2\",threshold_experiment2, \"experiment2\");"
   ]
  },
  {
   "cell_type": "code",
   "execution_count": null,
   "id": "06415dfd",
   "metadata": {},
   "outputs": [],
   "source": [
    "sequences_experiment3, counts_experiment3, labels_experiment3 = \n",
    "    load_data_cnn(\"../my_data/data_experiment3.jld2\", threshold_experiment3, \"experiment3\");"
   ]
  },
  {
   "cell_type": "markdown",
   "id": "f6edfe27",
   "metadata": {},
   "source": [
    "# log selectivities"
   ]
  },
  {
   "cell_type": "code",
   "execution_count": 13,
   "id": "2fdccb9a",
   "metadata": {},
   "outputs": [],
   "source": [
    "θexperiment1 = [log(counts_experiment1[m,2] / counts_experiment1[m,1]) for m in axes(counts_experiment1, 1)];"
   ]
  },
  {
   "cell_type": "code",
   "execution_count": 14,
   "id": "10df88ef",
   "metadata": {},
   "outputs": [],
   "source": [
    "θexperiment2 = [log(counts_experiment2[m,2] / counts_experiment2[m,1]) for m in axes(counts_experiment2, 1)];"
   ]
  },
  {
   "cell_type": "code",
   "execution_count": 15,
   "id": "ed3bccdf",
   "metadata": {},
   "outputs": [],
   "source": [
    "θexperiment3 = [log(counts_experiment3[m,2] / counts_experiment3[m,1]) for m in axes(counts_experiment3, 1)];"
   ]
  },
  {
   "cell_type": "code",
   "execution_count": 18,
   "id": "1cbe94cc",
   "metadata": {},
   "outputs": [],
   "source": [
    "θexperiment1 = filter(isfinite, θexperiment1);\n",
    "θexperiment2 = filter(isfinite, θexperiment2)\n",
    "θexperiment3 = filter(isfinite, θexperiment3);"
   ]
  },
  {
   "cell_type": "code",
   "execution_count": 19,
   "id": "33ae2b73",
   "metadata": {},
   "outputs": [
    {
     "data": {
      "image/png": "[encoded data removed]",
      "text/plain": [
       "Figure(PyObject <Figure size 1200x400 with 3 Axes>)"
      ]
     },
     "metadata": {},
     "output_type": "display_data"
    },
    {
     "data": {
      "text/plain": [
       "PyObject Text(0.5, 1.0, 'experiment 3')"
      ]
     },
     "execution_count": 19,
     "metadata": {},
     "output_type": "execute_result"
    }
   ],
   "source": [
    "fig, ax = subplots(1,3, figsize=(12,4))\n",
    "\n",
    "ax[1].hist(filter(isfinite, θexperiment1), bins=100)\n",
    "ax[1].set_xlabel(\"θ\")\n",
    "ax[1].set_title(\"experiment 1\")\n",
    "\n",
    "ax[2].hist(filter(isfinite, θexperiment2), bins=100)\n",
    "ax[2].set_xlabel(\"θ\")\n",
    "ax[2].set_title(\"experiment 2\")\n",
    "\n",
    "ax[3].hist(filter(isfinite, θexperiment3), bins=100)\n",
    "ax[3].set_xlabel(\"θ\")\n",
    "ax[3].set_title(\"experiment 3\")"
   ]
  },
  {
   "cell_type": "markdown",
   "id": "32cce3d5",
   "metadata": {},
   "source": [
    "# thresholds fit"
   ]
  },
  {
   "cell_type": "code",
   "execution_count": 42,
   "id": "2204a17e",
   "metadata": {},
   "outputs": [],
   "source": [
    "gmm1 = GMM(2,1)\n",
    "gmm1.μ .+= randn(2,1)\n",
    "gmm1.Σ .*= 1e-1;"
   ]
  },
  {
   "cell_type": "code",
   "execution_count": 43,
   "id": "e2d1fd74",
   "metadata": {},
   "outputs": [
    {
     "data": {
      "text/plain": [
       "20-element Vector{Float64}:\n",
       " -5.5785729497371985\n",
       " -1.7393478290325333\n",
       " -1.7287123775877122\n",
       " -1.7215919356387932\n",
       " -1.715336550445969\n",
       " -1.7098826206502054\n",
       " -1.7052375262758042\n",
       " -1.7013398863258256\n",
       " -1.6980900738116198\n",
       " -1.6953833211262432\n",
       " -1.693126111882989\n",
       " -1.6912406164567815\n",
       " -1.6896637281983204\n",
       " -1.6883444787715558\n",
       " -1.6872414128749107\n",
       " -1.686320418751142\n",
       " -1.6855530787666795\n",
       " -1.684915462129553\n",
       " -1.6843872529396768\n",
       " -1.6839511172448665"
      ]
     },
     "execution_count": 43,
     "metadata": {},
     "output_type": "execute_result"
    }
   ],
   "source": [
    "em!(gmm1, reshape(θexperiment1, :, 1); nIter=20)"
   ]
  },
  {
   "cell_type": "code",
   "execution_count": 44,
   "id": "ab7ed02e",
   "metadata": {},
   "outputs": [],
   "source": [
    "gmm2 = GMM(2,1)\n",
    "gmm2.μ .+= randn(2,1)\n",
    "gmm2.Σ .*= 1e-1;"
   ]
  },
  {
   "cell_type": "code",
   "execution_count": 45,
   "id": "7bc91348",
   "metadata": {},
   "outputs": [
    {
     "data": {
      "text/plain": [
       "20-element Vector{Float64}:\n",
       " -26.28061356026236\n",
       "  -1.7701626057196367\n",
       "  -1.7680312750254539\n",
       "  -1.7665091561875046\n",
       "  -1.765312126182124\n",
       "  -1.764367299874703\n",
       "  -1.7636190198845083\n",
       "  -1.763023667327009\n",
       "  -1.7625475001523292\n",
       "  -1.7621645467997507\n",
       "  -1.761854830130038\n",
       "  -1.761602956324744\n",
       "  -1.7613970231204004\n",
       "  -1.7612277868847457\n",
       "  -1.7610880318873472\n",
       "  -1.7609720942271956\n",
       "  -1.760875502615723\n",
       "  -1.7607947068695093\n",
       "  -1.7607268720520057\n",
       "  -1.7606697217458247"
      ]
     },
     "execution_count": 45,
     "metadata": {},
     "output_type": "execute_result"
    }
   ],
   "source": [
    "em!(gmm2, reshape(θexperiment2, :, 1), nIter=20)"
   ]
  },
  {
   "cell_type": "code",
   "execution_count": 46,
   "id": "fa8530ab",
   "metadata": {},
   "outputs": [],
   "source": [
    "gmm3 = GMM(2,1)\n",
    "gmm3.μ .+= randn(2,1)\n",
    "gmm3.Σ .*= 1e-1;"
   ]
  },
  {
   "cell_type": "code",
   "execution_count": 47,
   "id": "7729aad3",
   "metadata": {},
   "outputs": [
    {
     "data": {
      "text/plain": [
       "20-element Vector{Float64}:\n",
       " -19.494446778999688\n",
       "  -1.7335306105626243\n",
       "  -1.7244812083493704\n",
       "  -1.7209121849833462\n",
       "  -1.7195078143182225\n",
       "  -1.71893963812937\n",
       "  -1.7187033825130424\n",
       "  -1.7186033103282816\n",
       "  -1.7185604141887871\n",
       "  -1.7185418829622605\n",
       "  -1.7185338360894482\n",
       "  -1.7185303298838888\n",
       "  -1.7185287986651099\n",
       "  -1.7185281289421062\n",
       "  -1.7185278357242653\n",
       "  -1.7185277072619352\n",
       "  -1.7185276509560612\n",
       "  -1.7185276262695768\n",
       "  -1.718527615444041\n",
       "  -1.7185276106962062"
      ]
     },
     "execution_count": 47,
     "metadata": {},
     "output_type": "execute_result"
    }
   ],
   "source": [
    "em!(gmm3, reshape(θexperiment3, :, 1), nIter=20)"
   ]
  },
  {
   "cell_type": "code",
   "execution_count": 31,
   "id": "f8f2cc1f",
   "metadata": {},
   "outputs": [
    {
     "data": {
      "text/plain": [
       "eval_gmm (generic function with 1 method)"
      ]
     },
     "execution_count": 31,
     "metadata": {},
     "output_type": "execute_result"
    }
   ],
   "source": [
    "function eval_gmm(gmm, x)\n",
    "    g1 = Normal(gmm.μ[1,1], gmm.Σ[1,1])\n",
    "    g2 = Normal(gmm.μ[2,1], gmm.Σ[2,1])\n",
    "    g = MixtureModel([g1, g2], gmm.w)\n",
    "    return pdf.(g, x)\n",
    "end"
   ]
  },
  {
   "cell_type": "code",
   "execution_count": 32,
   "id": "252c6e28",
   "metadata": {},
   "outputs": [],
   "source": [
    "x1 = LinRange(-3,3,100)\n",
    "x2 = LinRange(-7,5,100)\n",
    "x3 = LinRange(-7,5,100);"
   ]
  },
  {
   "cell_type": "code",
   "execution_count": 33,
   "id": "be1f14d8",
   "metadata": {},
   "outputs": [
    {
     "data": {
      "image/png": "[encoded data removed]",
      "text/plain": [
       "Figure(PyObject <Figure size 1600x500 with 3 Axes>)"
      ]
     },
     "metadata": {},
     "output_type": "display_data"
    },
    {
     "data": {
      "text/plain": [
       "PyObject Text(0.5, 1.0, 'experiment 3')"
      ]
     },
     "execution_count": 33,
     "metadata": {},
     "output_type": "execute_result"
    }
   ],
   "source": [
    "fig, ax = subplots(1,3, figsize=(16,5))\n",
    "\n",
    "ax[1].hist(θexperiment1, bins=100, density=true)\n",
    "ax[1].plot(x1, eval_gmm(gmm1, x1), color=\"red\")\n",
    "ax[1].set_xlabel(\"log-selectivity\")\n",
    "ax[1].set_ylabel(\"counts\")\n",
    "ax[1].legend([\"empirical\", \"fit\"])\n",
    "ax[1].set_title(\"experiment 1\")\n",
    "\n",
    "ax[2].hist(θexperiment2, bins=100, density=true)\n",
    "ax[2].plot(x2, eval_gmm(gmm2, x2), color=\"red\")\n",
    "ax[2].set_xlabel(\"log-selectivity\")\n",
    "ax[2].set_ylabel(\"counts\")\n",
    "ax[2].legend([\"empirical\", \"fit\"])\n",
    "ax[2].set_title(\"experiment 2\")\n",
    "\n",
    "ax[3].hist(θexperiment3, bins=100, density=true)\n",
    "ax[3].plot(x3, eval_gmm(gmm3, x3), color=\"red\")\n",
    "ax[3].set_xlabel(\"log-selectivity\")\n",
    "ax[3].set_ylabel(\"counts\")\n",
    "ax[3].legend([\"empirical\", \"fit\"])\n",
    "ax[3].set_title(\"experiment 3\")"
   ]
  },
  {
   "cell_type": "code",
   "execution_count": 34,
   "id": "0481ce53",
   "metadata": {},
   "outputs": [
    {
     "data": {
      "text/plain": [
       "intersections (generic function with 1 method)"
      ]
     },
     "execution_count": 34,
     "metadata": {},
     "output_type": "execute_result"
    }
   ],
   "source": [
    "function intersections(gmm)\n",
    "    m1 = gmm.μ[1,1]\n",
    "    m2 = gmm.μ[2,1]\n",
    "    s1 = gmm.Σ[1,1]\n",
    "    s2 = gmm.Σ[2,1]\n",
    "    w1 = gmm.w[1]\n",
    "    w2 = gmm.w[2]\n",
    "    \n",
    "    a = s2^2 - s1^2\n",
    "    b = m1*s2^2 - m2*s1^2\n",
    "    c = m1^2*s2^2 - m2^2*s1^2 + 2*s1^2*s2^2*log((w2/w1)*(s1/s2))\n",
    "    \n",
    "    x1 = (b + sqrt(b^2-a*c))/a\n",
    "    x2 = (b - sqrt(b^2-a*c))/a\n",
    "    \n",
    "    return x1,x2\n",
    "end"
   ]
  },
  {
   "cell_type": "code",
   "execution_count": 35,
   "id": "e282840e",
   "metadata": {},
   "outputs": [
    {
     "data": {
      "text/plain": [
       "(-2.83999763891293, -1.69282578656425)"
      ]
     },
     "execution_count": 35,
     "metadata": {},
     "output_type": "execute_result"
    }
   ],
   "source": [
    "xa_1,xb_1 =intersections(gmm1)"
   ]
  },
  {
   "cell_type": "code",
   "execution_count": 36,
   "id": "6869e658",
   "metadata": {},
   "outputs": [
    {
     "data": {
      "text/plain": [
       "(-0.5563637456633788, -7.768752589704916)"
      ]
     },
     "execution_count": 36,
     "metadata": {},
     "output_type": "execute_result"
    }
   ],
   "source": [
    "xa_2,xb_2 =intersections(gmm2)"
   ]
  },
  {
   "cell_type": "code",
   "execution_count": 37,
   "id": "4ff89b1f",
   "metadata": {},
   "outputs": [
    {
     "data": {
      "text/plain": [
       "(1.2436155750213542, 2.3263527824460075)"
      ]
     },
     "execution_count": 37,
     "metadata": {},
     "output_type": "execute_result"
    }
   ],
   "source": [
    "xa_3,xb_3 =intersections(gmm3)"
   ]
  },
  {
   "cell_type": "code",
   "execution_count": 38,
   "id": "4f5a6722",
   "metadata": {},
   "outputs": [
    {
     "data": {
      "text/plain": [
       "find_valley (generic function with 1 method)"
      ]
     },
     "execution_count": 38,
     "metadata": {},
     "output_type": "execute_result"
    }
   ],
   "source": [
    "function find_valley(gmm, resolution::Int)\n",
    "    xmin = gmm.μ[1,1]\n",
    "    xmax = gmm.μ[2,1]\n",
    "    r = LinRange(xmin, xmax, resolution)\n",
    "    y = eval_gmm(gmm, r)\n",
    "    xvalley = argmin(y)\n",
    "    return r[xvalley]\n",
    "end"
   ]
  },
  {
   "cell_type": "code",
   "execution_count": 48,
   "id": "29c62b01",
   "metadata": {},
   "outputs": [
    {
     "data": {
      "text/plain": [
       "-1.4518378956532874"
      ]
     },
     "execution_count": 48,
     "metadata": {},
     "output_type": "execute_result"
    }
   ],
   "source": [
    "find_valley(gmm1, 100)"
   ]
  },
  {
   "cell_type": "code",
   "execution_count": 49,
   "id": "a1363336",
   "metadata": {},
   "outputs": [
    {
     "data": {
      "text/plain": [
       "-0.13876055539502508"
      ]
     },
     "execution_count": 49,
     "metadata": {},
     "output_type": "execute_result"
    }
   ],
   "source": [
    "find_valley(gmm2, 100)"
   ]
  },
  {
   "cell_type": "code",
   "execution_count": 50,
   "id": "c8b603c6",
   "metadata": {},
   "outputs": [
    {
     "data": {
      "text/plain": [
       "1.128013082938827"
      ]
     },
     "execution_count": 50,
     "metadata": {},
     "output_type": "execute_result"
    }
   ],
   "source": [
    "find_valley(gmm3, 100)"
   ]
  }
 ],
 "metadata": {
  "kernelspec": {
   "display_name": "Julia 1.8.5",
   "language": "julia",
   "name": "julia-1.8"
  },
  "language_info": {
   "file_extension": ".jl",
   "mimetype": "application/julia",
   "name": "julia",
   "version": "1.8.5"
  }
 },
 "nbformat": 4,
 "nbformat_minor": 5
}
